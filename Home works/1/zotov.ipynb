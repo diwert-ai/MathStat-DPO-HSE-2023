{
 "cells": [
  {
   "cell_type": "markdown",
   "metadata": {
    "id": "VfbmEFSvHhgJ"
   },
   "source": [
    "# Задания\n",
    "\n",
    "| Параметрическое оценивание             |       |\n",
    "|----------------------------------------|-------|\n",
    "| задание                                | баллы |\n",
    "| т1 мм                                  |    10 |\n",
    "| т2 ммп                                 |    15 |\n",
    "| n3 эксперимент                         |     5 |\n",
    "| т4 интервал мм                         |    10 |\n",
    "| т5 интервал ммп                        |     5 |\n",
    "| n6 эксперимент                         |     5 |\n",
    "| n7 эксперимент                         |    15 |\n",
    "| Всего                                  |    70 |\n",
    "\n",
    "\n",
    "| Асимптотические Д.И. (шахты)           |       |\n",
    "|----------------------------------------|-------|\n",
    "| Задание                                | Баллы |\n",
    "| Правило 3 сигм                         |     5 |\n",
    "| Точечная оценка и асимптотический Д.И. |     7 |\n",
    "| Число катастроф                        |     8 |\n",
    "| Всего                                  |    20 |\n",
    "\n",
    "\n",
    "| Д.И. для нормальных выборок (КР)       |       |\n",
    "|----------------------------------------|-------|\n",
    "| Задание                                | Баллы |\n",
    "| Распределение результатов контрольной  |   2.5 |\n",
    "| Д.И. для среднего                      |   2.5 |\n",
    "| Хорошие и плохие студенты              |     5 |\n",
    "| Д.И. для дисперсии                     |     7 |\n",
    "| Доля написавших третью контрольную     |     6 |\n",
    "| Снова разница средних                  |     6 |\n",
    "| Всего                                  |    25 |"
   ]
  },
  {
   "cell_type": "markdown",
   "metadata": {
    "id": "uxBhTbOlL3U7"
   },
   "source": [
    "# Оформленние\n",
    "\n",
    "- В некоторых практических заданях в этом ДЗ содержится код для самопроверки. Блоки с самопроверкой начинаются с оператора `assert` и лежат в отдельных блоках.\n",
    "- Если у вас не получается решить задание, то закомментируйте этот блок с кодом.\n",
    "- Перед отправкой ноутбука обязательно перезапустите ноутбук и запустите все ячейки с кодом, чтобы убедиться, что ваши результаты воспроизводимы.\n",
    "\n",
    "---\n",
    "\n",
    "\n",
    "- В этом ДЗ также нужно будет решить несколько теоретических заданий. Можно их написать от руки на листочке и отсканировать.\n",
    "\n",
    "- Для красивых читаемых сканов можно воспользоваться нативным приложением \"Заметки\" на айфоне (инструкция [тут](https://uipservice.com/blog/how-to-scan-in-notes/)).\n",
    "\n",
    "- На андройде есть неплохое приложение [CamScanner](https://play.google.com/store/apps/details?id=com.intsig.camscanner) и еще ряд [других](https://blackberries.ru/2017/06/12/luchshie-android-prilozheniya-dlya-skanirovaniya-dokumentov/).\n",
    "\n",
    "- Если вы вдруг владеете LaTeX, то решение сверстанное им очень приветствуется.\n",
    "\n",
    "- Все теоретические задания просьба склеить в один pdf-файл и прикрепить в классрум. Можно воспользоваться [этим](https://www.ilovepdf.com/) сервисом для объединения pdf-файлтов.\n",
    "\n",
    "- На листочке просьба четко обозначить, что за задание решается.\n",
    "\n",
    "---\n",
    "\n",
    "- Итого в классрум нужно сдать 2 файла\n",
    "    - pdf файл с решением теоретических заданий\n",
    "    - ipynb ноутбук с кодом\n",
    "\n",
    "- Просьба назвать файлы в формате: Иванова.pdf, Иванова.ipynb\n",
    "\n",
    "- Архивировать файлы НЕ нужно"
   ]
  },
  {
   "cell_type": "markdown",
   "metadata": {
    "id": "lMdUh3wLKM3-"
   },
   "source": [
    "# Правило 3 сигм"
   ]
  },
  {
   "cell_type": "markdown",
   "metadata": {
    "id": "lUJvkitvJ9lV"
   },
   "source": [
    "В этом упражнении мы обсудим правила двух и трех сигм для произвольной случайной величины.\n",
    "\n",
    "Пусть $X$ имеет некоторое распределение с математическим ожиданием $E[X] = a$ и конечной дисперсией $var(X) = \\sigma^2 < \\infty$. Для таких величин можно доказать неравенство Чебышёва: для всех $t>0$ верно\n",
    "$$\n",
    "\\mathbb{P}\\left( \\vert X - \\mathbb{E}[X]\\vert > t\\right) \\leq \\frac{Var[X]}{t^2}.\n",
    "$$\n",
    "\n",
    "С помощью неравенства Чебышёва покажите, с какой вероятностью эта случайная величина лежит в отрезках $[a − 2\\sigma, a + 2\\sigma]$ и $[a − 3\\sigma, a + 3\\sigma]$.\n",
    "\n",
    "Сравните полученные вероятности с соответствующими вероятностями для стандартного нормального распределения $N (0, 1)$. Какой вывод можно сделать?"
   ]
  },
  {
   "cell_type": "code",
   "execution_count": 1,
   "metadata": {
    "id": "UOpTlM2EC-kL"
   },
   "outputs": [],
   "source": [
    "import numpy as np\n",
    "import pandas as pd\n",
    "\n",
    "from scipy import stats\n",
    "\n",
    "import seaborn as sns\n",
    "import matplotlib.pyplot as plt\n",
    "\n",
    "plt.style.use('ggplot')"
   ]
  },
  {
   "cell_type": "markdown",
   "metadata": {},
   "source": [
    "<font color=blue>\n",
    "\n",
    "Требуется оценить вероятности $p_{2\\sigma}=\\mathbb{P}\\left( \\vert X - a\\vert \\leq 2\\sigma\\right)$ и $p_{3\\sigma}=\\mathbb{P}\\left( \\vert X - a\\vert \\leq 3\\sigma\\right)$.\n",
    "    \n",
    "По неравенству Чебышева\n",
    "$$\n",
    "\\mathbb{P}\\left( \\vert X - a\\vert > t\\right) \\leq \\frac{\\sigma^2}{t^2}\\Rightarrow 1 - p_{2\\sigma} \\leq \\frac{\\sigma^2}{4\\sigma^2}=\\frac{1}{4}\\Rightarrow  p_{2\\sigma} \\geq \\frac{3}{4} = 0.75.\n",
    "$$\n",
    "Аналогично\n",
    "$$\n",
    "1 - p_{3\\sigma} \\leq \\frac{\\sigma^2}{9\\sigma^2}=\\frac{1}{9}\\Rightarrow  p_{3\\sigma} \\geq \\frac{8}{9} \\approx 0.89\n",
    "$$\n",
    "    \n",
    "Функция $\\Phi(x)=\\frac{1}{\\sqrt{2\\pi}}\\int\\limits_{-\\infty}^x e^{-\\frac{t^2}{2}}\\,dt$ - это функция распределения случайной величины $X \\sim N(0,1)$, у которой $a=0,\\,\\sigma^2=1$.\n",
    "\n",
    "Поэтому \n",
    "$$p_{2\\sigma}=\\mathbb{P}\\left(\\vert X \\vert \\leq 2\\right) = \\Phi(2)-\\Phi(-2)$$ \n",
    "и учитывая, что $\\Phi(2)+\\Phi(-2)=1$ (вытекает из симметрии функции плотности относительно оси $Oy$), получаем $$p_{2\\sigma}=2\\cdot\\Phi(2)-1$$\n",
    "\n",
    "Аналогично\n",
    "$$p_{3\\sigma}=2\\cdot\\Phi(3)-1$$\n",
    "\n",
    "Найдем эти вероятности с помощью функций библиотеки `scipy`:\n",
    "\n",
    "</font>"
   ]
  },
  {
   "cell_type": "code",
   "execution_count": 2,
   "metadata": {},
   "outputs": [
    {
     "name": "stdout",
     "output_type": "stream",
     "text": [
      "p_2s = 0.9544997361036416\n",
      "p_3s = 0.9973002039367398\n"
     ]
    }
   ],
   "source": [
    "print(f'p_2s = {2*stats.norm().cdf(2)-1}')\n",
    "print(f'p_3s = {2*stats.norm().cdf(3)-1}')"
   ]
  },
  {
   "cell_type": "markdown",
   "metadata": {},
   "source": [
    "<font color=blue>\n",
    "\n",
    "Таким  образом:\n",
    "$$p_{2\\sigma}\\approx 0.954$$\n",
    "$$p_{3\\sigma}\\approx 0.997$$    \n",
    "\n",
    "Хорошо видно, что для стандартной нормальной случайной величины вероятности попасть в интервалы $2\\sigma$ и $3\\sigma$ заметно больше, чем те что вытекают из неравенства Чебышева для произвольной случайной величины, что говорит о высокой плотности $N(0,1)$ около своего среднего значения и малой плотности на хвостах (за пределами интервалов).\n",
    "\n",
    "</font>"
   ]
  },
  {
   "cell_type": "markdown",
   "metadata": {
    "id": "pSZIZPXY7Oco"
   },
   "source": [
    "# Равномерная случайная величина"
   ]
  },
  {
   "cell_type": "markdown",
   "metadata": {
    "id": "UPcpQZ5BA0zm"
   },
   "source": [
    "## Оценивание параметров и проверка свойств"
   ]
  },
  {
   "cell_type": "markdown",
   "metadata": {
    "id": "2iCaBkFNzLld"
   },
   "source": [
    "Рассмотрим случайную величину из равномерного распределения на отрезке от $0$ до $θ$ с функцией распределения:\n",
    "\n",
    "$$\n",
    "F(x) = \\begin{cases} 0, & x < 0 \\\\ x/\\theta, & 0 \\le x \\le \\theta \\\\ 1, & x > \\theta. \\end{cases}\n",
    "$$\n",
    "\n",
    "и с плотностью распределения:\n",
    "\n",
    "$$\n",
    "f_X(x) = \\begin{cases} 1/\\theta, & 0 \\le x \\le \\theta \\\\ 0, & \\text{otherwise.} \\end{cases}\n",
    "$$\n",
    "\n",
    "или через индикаторную функцию:\n",
    "\n",
    "$$\n",
    "f_X(x) = \\frac{1}{\\theta} \\cdot \\mathbb 1\\{0 \\le x \\le \\theta\\}.\n",
    "$$\n",
    "\n"
   ]
  },
  {
   "cell_type": "markdown",
   "metadata": {
    "id": "pJyPeFNnA0zn"
   },
   "source": [
    "### т1 мм\n",
    "Покажите, что оценка параметра $θ$ метом моментов есть оценка $\\hat{\\theta}_\\text{MM} = 2\\bar{X}$\n",
    "\n",
    "Покажите, являются ли оценка $\\hat{\\theta}_\\text{MM}$\n",
    "- несмещенной $ E[\\hat{\\theta}]=\\theta $\n",
    "\n",
    "- состоятельной $ \\hat{\\theta} \\overset{\\mathbb{P}}{\\to} \\theta , n\\to ∞$\n",
    "    - нужно найти $\\text{Var}(\\hat{\\theta})$ через свойства дисперсии и воспользоваться неравенством Чебышева\n",
    "    - Для подсчёта дисперсии $Var(\\overline{X})$ нужно воспользоваться свойствами дисперсии (линейностью и выносом константы)\n",
    "\n"
   ]
  },
  {
   "cell_type": "markdown",
   "metadata": {
    "id": "TabH-s1qA0zn"
   },
   "source": [
    "<font color=blue>\n",
    "\n",
    "Заметим, что \n",
    "$$ E[X]=\\int\\limits_{-\\infty}^{+\\infty} x\\cdot f_X(x)\\,dx = \\int\\limits_{0}^{\\theta} \\frac{x}{\\theta}\\,dx = \\frac{1}{\\theta}\\left(\\frac{x^2}{2}\\right)\\bigg|_{0}^{\\theta}=\\frac{\\theta}{2} \\Rightarrow \\theta = 2E[X]$$\n",
    "\n",
    "Поэтому, оценка методом моментов будет\n",
    "$$ \\hat{\\theta}_\\text{MM} = 2\\bar{X} $$\n",
    "\n",
    "Покажем, что эта оценка несмещенная. Воспользуемся тем, что мы имеем дело со случайной выборкой из заданного распределения, т.е. $\\forall i = 1\\dots n:\\, E[X_i]=\\frac{\\theta}{2}$, где $n$ размер выборки. Поэтому:\n",
    "$$E[\\hat{\\theta}_\\text{MM}]=E(2\\cdot\\bar{X})=2\\cdot E\\left[\\frac{\\sum_{i=1}^{n}X_i}{n}\\right]=\\frac{2}{n}\\sum_{i=1}^{n}E[X_i]=\\frac{2}{n}\\cdot\\frac{\\theta}{2}\\cdot n=\\theta$$\n",
    "    \n",
    "Теперь, покажем, что она состоятельна, т.е. $ \\hat{\\theta}_\\text{MM} \\overset{\\mathbb{P}}{\\to} \\theta , n\\to ∞$ или что тоже самое $\\forall \\varepsilon>0\\, \\lim\\limits_{n\\to\\infty} \\mathbb{P}(\\vert \\hat{\\theta}_\\text{MM}(n) - \\theta\\vert > \\varepsilon) = 0$.\n",
    "\n",
    "Согласно неравенству Чебышева имеем:\n",
    "$$ \\forall \\varepsilon > 0\\,\\, \\mathbb{P}(\\vert \\hat{\\theta}_\\text{MM}(n)-E[\\hat{\\theta}_\\text{MM}(n)]\\vert > \\varepsilon) \\leq \\frac{D[\\hat{\\theta}_\\text{MM}(n)]}{\\varepsilon^2} $$\n",
    "\n",
    "Как было установлено выше $E[\\hat{\\theta}_\\text{MM}(n)] = \\theta$. Найдем дисперсию $D[\\hat{\\theta}_\\text{MM}(n)]$.\n",
    "    \n",
    "Т.к. выборка случайная из заданного распределения, то величины $X_i$ независимы и имеют такое же мат. ожидание и дисперсию как и величина $X$. Как уже вычислили ранее мат. ожидание $E[X]=\\frac{\\theta}{2}$, поэтому дисперсия будет:\n",
    "$$ D[X] = EX^2 - (EX)^2 = EX^2 - \\frac{\\theta^2}{4}=\\int\\limits_{0}^{\\theta}\\frac{x^2}{\\theta}\\,dx-\\frac{\\theta^2}{4}=\\frac{1}{\\theta}\\cdot\\frac{x^3}{3}\\bigg|_0^{\\theta}-\\frac{\\theta^2}{4}=\\frac{\\theta^2}{3} - \\frac{\\theta^2}{4}=\\frac{\\theta^2}{12}$$\n",
    "    \n",
    "Таким образом $\\forall i=1\\dots n\\,\\,D[X_i]=\\frac{\\theta^2}{12}$, поэтому (учитывая независимость $X_i$ в совокупности) получаем:\n",
    "$$D[\\hat{\\theta}_\\text{MM}(n)] = D[2\\bar{X}]=4\\cdot D\\left[\\frac{\\sum_{i=1}^{n} X_i}{n}\\right]=\\frac{4}{n^2}\\sum_{i=1}^{n}D[X_i]=\\frac{4}{n^2}\\cdot\\frac{\\theta^2}{12}\\cdot n=\\frac{\\theta^2}{3n}$$\n",
    "\n",
    "Теперь неравенство Чебышева можно переписать так:\n",
    "$$ \\forall \\varepsilon > 0\\,\\, \\mathbb{P}(\\vert \\hat{\\theta}_\\text{MM}(n)-\\theta\\vert > \\varepsilon) \\leq \\frac{\\theta^2}{3n\\varepsilon^2} $$\n",
    "При любом фиксированном $\\varepsilon > 0$ правая часть неравенства $\\frac{\\theta^2}{3n\\varepsilon^2}\\to 0$ при $n\\to\\infty$. Поэтому $\\forall \\varepsilon>0\\, \\lim\\limits_{n\\to\\infty} \\mathbb{P}(\\vert \\hat{\\theta}_\\text{MM}(n) - \\theta\\vert > \\varepsilon) = 0$ и значит $ \\hat{\\theta}_\\text{MM} \\overset{\\mathbb{P}}{\\to} \\theta , n\\to ∞$, что и требовалось.\n",
    "\n",
    "</font>"
   ]
  },
  {
   "cell_type": "markdown",
   "metadata": {
    "id": "wY4_MpHBA0zo"
   },
   "source": [
    "### т2 ммп (бонусное)\n",
    "\n",
    "Оценка параметра $θ$ метом максимального правдоподобия есть оценка $\\hat{\\theta}_\\text{ML} = \\max(X_1, ..., X_n)$\n",
    "\n",
    "Покажите, являются ли оценка $\\hat{\\theta}_\\text{ML}$\n",
    "- несмещенной $ E[\\hat{\\theta}]=\\theta $\n",
    "    \n",
    "    - Эта оценка особая и имеет свое распределение. Для анализа свойств используйте тот факт, что распределение максимума из $n$ независимых равномерно распределённых на отрезке $[0, θ]$ случайных величин имеет функцию распределения $\\text{cdf}$:\n",
    "\n",
    "    $$\n",
    "    \\mathbb{P}\\left(\\max \\left(X_{1}, \\ldots, X_{n}\\right)<x\\right)=[\\mathbb{P}(X_i<x)]^{n}=\\left(\\frac{x}{\\theta}\\right)^{n}=F(x)=\\text{cdf}(\\hat{\\theta}_\\text{MM})\n",
    "    $$\n",
    "\n",
    "    - Ваша задача\n",
    "        - найти плотность распределения $\\text{pdf}$ (как производную от функции распределения $\\text{cdf}$)\n",
    "        - а затем посчитать интеграл вида $E[X] = \\int x \\cdot \\text{pdf}(x) \\ dx$\n",
    "\n",
    "- Совпадает ли мат. ожидание оценки параметра с истинным значением? Чему равна величина смещения? Как его можно скорректировать?\n",
    "\n",
    "---\n",
    "Покажите, являются ли оценка $\\hat{\\theta}_\\text{ML}$\n",
    "- асимптотически несмещенной $ E[\\hat{\\theta}]=\\theta, n\\to ∞$\n",
    "    - Для этого воспользуйтесь свойствами пределов\n",
    "- состоятельной $ \\hat{\\theta} \\overset{\\mathbb{P}}{\\to} \\theta , n\\to ∞$\n",
    "    - Тут нужно посчитать еще один интеграл в вида $E[X^2] = \\int x^2 \\cdot \\text{pdf}(x) \\ dx$\n",
    "    - Затем найти дисперсию, как $\\text{var}(X) = E[X^2] - \\left(E[X]\\right)^2$\n",
    "    - Затем снова воспользоваться неравенством Чебышева\n",
    "\n",
    "\n",
    "---\n",
    "Какая из двух оценок быстрее сходится по вероятности с истинному значению? У какой оценки быстрее убывает дисперсия с ростом выборки?\n"
   ]
  },
  {
   "cell_type": "markdown",
   "metadata": {
    "id": "5_3yokq6A0zq"
   },
   "source": [
    "<font color=blue>\n",
    "\n",
    "Пусть \n",
    "$$ Y\\equiv\\hat{\\theta}_\\text{ML}(n) = \\max(X_1, ..., X_n) $$\n",
    "    \n",
    "Чтобы найти $E[Y]$ найдем функцию распределения:\n",
    "$$ F_Y(x)=\\mathbb{P}(Y \\leq x)=\\mathbb{P}(X_1\\leq x, ...,X_n\\leq x)=(\\text{т.к. $X_i$ независимы})=\\mathbb{P}(X_1 \\leq x)\\cdot ... \\cdot\\mathbb{P}(X_n \\leq x) = \\begin{cases} 0, & x < 0 \\\\ \\left(\\frac{x}{\\theta}\\right)^n, & 0 \\le x \\le \\theta \\\\ 1, & x > \\theta. \\end{cases} $$\n",
    "\n",
    "Отсюда получаем функцию плотности $Y$:\n",
    "$$ f_Y(x) = \\frac{n\\cdot x^{n-1}}{\\theta^n}\\cdot\\mathbb{1}\\{0 \\le x \\le \\theta\\} $$\n",
    "    \n",
    "Таким образом:\n",
    "$$ E[Y] = \\int\\limits_0^\\theta x\\cdot f_Y(x)\\,dx = \\frac{n}{\\theta^n}\\int\\limits_0^\\theta x^n\\,dx=\\frac{n}{\\theta^n}\\cdot\\frac{x^{n+1}}{n+1}\\bigg|_0^\\theta = \\frac{n}{n+1}\\cdot\\theta$$\n",
    "\n",
    "Т.е. мат. ожидание оценки $\\hat{\\theta}_\\text{ML}$ не совпадает с истинным значением параметра $\\theta$. Величина смещения будет\n",
    "$$ bias = E[\\hat{\\theta}_\\text{ML}]-\\theta = \\frac{n}{n+1}\\cdot\\theta-\\theta=-\\frac{\\theta}{n+1} $$\n",
    "    \n",
    "Чтобы получить несмещенную оценку можно рассмотреть оценку $\\hat{\\theta}_0 = \\left(\\frac{n+1}{n}\\right)\\cdot\\hat{\\theta}_\\text{ML}$. Действительно:\n",
    "$$E[\\hat{\\theta}_0] = E\\left[\\left(\\frac{n+1}{n}\\right)\\cdot\\hat{\\theta}_\\text{ML}\\right] = \\frac{n+1}{n}\\cdot\\frac{n}{n+1}\\cdot\\theta = \\theta $$\n",
    "Т.е. оценка $\\hat{\\theta}_0 = \\frac{n+1}{n}\\max(X_1, ..., X_n)$ является несмещенной.\n",
    "    \n",
    "Оценка $\\hat{\\theta}_\\text{ML}(n)$  являет ассимптотически несмещенной, т.к. найденная выше величина смещения этой оценки $bias = -\\frac{\\theta}{n+1} \\to 0$ при $n\\to\\infty$.\n",
    "\n",
    "Теперь исследуем оценку $\\hat{\\theta}_\\text{ML}\\equiv Y$ на состоятельность. \n",
    "    \n",
    "Найдем $D[Y]$:\n",
    "$$ D[Y] = E[Y^2] - (E[Y])^2 = \\int\\limits_0^\\theta x^2\\cdot\\frac{nx^{n-1}}{\\theta^n}\\,dx - \\frac{n^2}{(n+1)^2}\\theta^2=\\frac{n}{n+2}\\theta^2 - \\frac{n^2}{(n+1)^2}\\theta^2=\\frac{n}{(n+1)^2\\cdot(n+2)}\\theta^2 $$\n",
    "\n",
    "Т.к. $\\frac{n}{(n+1)^2\\cdot(n+2)}=\\frac{1}{(n+1)^2\\cdot\\left(1+\\frac{2}{n}\\right)}\\sim\\frac{1}{(n+1)^2}$, при $n\\to\\infty$, то $D[Y]\\sim \\frac{\\theta^2}{(n+1)^2}\\to 0$ при $n\\to\\infty$, т.е. по неравенству Чебышева имеем:\n",
    "$$ \\mathbb{P}\\left(\\left\\vert\\hat{\\theta}_\\text{ML}-\\frac{n}{n+1}\\cdot\\theta\\right\\vert > \\varepsilon\\right) \\leq \\frac{D[Y]}{\\varepsilon^2}\\to0,\\,n\\to\\infty$$\n",
    "\n",
    "Однако нам нужно чтобы вероятность $\\mathbb{P}(\\vert\\hat{\\theta}_\\text{ML}-\\theta\\vert > \\varepsilon)\\to0,\\,n\\to\\infty$. Покажем, что это тоже выполняется.\n",
    "\n",
    "Зафиксируем $\\varepsilon > 0$ и оценим вероятность того, что $\\vert\\hat{\\theta}_\\text{ML}-\\theta\\vert > \\varepsilon$.\n",
    "\n",
    "Т.к. $\\theta > 0$ и $\\frac{\\theta}{n+1}\\to0,\\,n\\to\\infty$, то $\\exists N_\\varepsilon\\in\\mathbb{N}\\,\\forall n > N_\\varepsilon: 0 < \\frac{\\theta}{n+1} < \\frac{\\varepsilon}{2}$. Поэтому для всех $n > N_\\varepsilon$ получаем, что:\n",
    "$$ \\vert\\hat{\\theta}_\\text{ML}-\\theta\\vert > \\varepsilon $$\n",
    "$$ \\Updownarrow $$\n",
    "$$ \\text{либо }\\hat{\\theta}_\\text{ML}-\\theta <  -\\varepsilon,\\text{ либо }\\hat{\\theta}_\\text{ML}-\\theta > \\varepsilon $$   \n",
    "$$ \\Downarrow $$\n",
    "$$\\text{либо }\\hat{\\theta}_\\text{ML} - \\theta + \\frac{\\theta}{n+1} < -\\varepsilon + \\frac{\\theta}{n+1} < -\\frac{\\varepsilon}{2}, \\text{ либо }\\hat{\\theta}_\\text{ML} - \\theta + \\frac{\\theta}{n+1} > \\varepsilon + \\frac{\\theta}{n+1} > \\frac{\\varepsilon}{2}$$\n",
    "$$ \\Downarrow $$\n",
    "$$ \\left\\vert\\hat{\\theta}_\\text{ML}-\\frac{n}{n+1}\\cdot\\theta\\right\\vert > \\frac{\\varepsilon}{2} $$\n",
    "\n",
    "Поэтому $\\forall n > N_\\varepsilon$ верно, что $\\mathbb{P}(\\vert\\hat{\\theta}_\\text{ML}-\\theta\\vert > \\varepsilon) \\leq \\mathbb{P}\\left(\\left\\vert\\hat{\\theta}_\\text{ML}-\\frac{n}{n+1}\\cdot\\theta\\right\\vert > \\frac{\\varepsilon}{2}\\right) \\leq \\text{(по неравенству Чебышева)} \\leq \\frac{4D[Y]}{\\varepsilon^2}\\to 0,\\,n\\to\\infty$, т.е. $ \\hat{\\theta}_\\text{ML} \\overset{\\mathbb{P}}{\\to} \\theta , n\\to ∞$, что и требовалось.\n",
    "\n",
    "Таким образом получено, что $D[\\hat{\\theta}_\\text{MM}]\\underset{n\\to\\infty}\\sim\\frac{\\theta^2}{3n}$ и $D[\\hat{\\theta}_\\text{ML}]\\underset{n\\to\\infty}\\sim\\frac{\\theta^2}{(n+1)^2}$, т.е. дисперсия оценки $\\hat{\\theta}_\\text{ML}$ убывает быстрее и следовательно эта оценка быстрее сходится по вероятности к истинному значению.\n",
    "</font>"
   ]
  },
  {
   "cell_type": "markdown",
   "metadata": {
    "id": "KjeELpHmA0zo"
   },
   "source": [
    "### n3 эксперимент\n",
    "Эмпирически проверьте, какая из предложенных оценок точнее оценивает параметр $\\theta$.\n",
    "- Для этого зафиксируйте $\\theta$ с псевдонеизвестным параметром значением из равномерного распределения на $[10,20]$.\n",
    "    - Можно написать `theta_true = stats.uniform(10,10).rvs()`\n",
    "    - Или самостоятельно задать `theta_true`, равным какому-то числу\n",
    "- Промоделируйте $M = 1000$ раз выборку размера $n = 100$ .\n",
    "- Затем по каждой выборке вычислите обе оценки  и сравните точность оценок графически (boxplot, гистограмма) и численно (среднеквадратическая ошибка).\n",
    "\n",
    "\n",
    "\n"
   ]
  },
  {
   "cell_type": "code",
   "execution_count": 3,
   "metadata": {},
   "outputs": [],
   "source": [
    "theta_true = stats.uniform(10,20).rvs()\n",
    "M = 1000\n",
    "n = 100\n",
    "data = {'mm': list(), 'ml': list()}\n",
    "\n",
    "for _ in range(M):\n",
    "    samples = stats.uniform(0, theta_true).rvs(size=n)\n",
    "    data['mm'].append(2 * samples.mean())\n",
    "    data['ml'].append(max(samples))"
   ]
  },
  {
   "cell_type": "code",
   "execution_count": 4,
   "metadata": {},
   "outputs": [],
   "source": [
    "def plot_data(data, labels, axs, col, row):\n",
    "    axs[row, col].boxplot(data, labels=labels)\n",
    "    axs[row, col].grid(True)\n",
    "    axs[row, col].axhline(y=theta_true, color='r', linestyle='--', linewidth=0.5)\n",
    "    \n",
    "    yticks = list(axs[row, col].get_yticks())\n",
    "    if theta_true not in yticks:\n",
    "        yticks.append(theta_true)\n",
    "        ylabels = [f'истинное значение $\\\\theta={ytick:.2f}$' if ytick == theta_true else f'{ytick:.2f}' for ytick in yticks]\n",
    "        axs[row, col].set_yticks(yticks, ylabels)\n",
    "    \n",
    "    for label in axs[row, col].get_yticklabels():\n",
    "        if label._y == theta_true:\n",
    "            label.set_color('red')\n",
    "        else:\n",
    "            label.set_color('black')\n",
    "            label.set_fontsize(6)\n",
    "    \n",
    "    axs[row, col+1].hist(data, color='lightblue')\n",
    "    axs[row, col+1].set_xlabel(labels[0])\n",
    "    axs[row, col+1].axvline(x=theta_true, color='r', linestyle='--', linewidth=0.5)\n",
    "    "
   ]
  },
  {
   "cell_type": "code",
   "execution_count": 5,
   "metadata": {},
   "outputs": [
    {
     "data": {
      "image/png": "[encoded data removed]",
      "text/plain": [
       "<Figure size 1000x1000 with 4 Axes>"
      ]
     },
     "metadata": {},
     "output_type": "display_data"
    }
   ],
   "source": [
    "fig, axs = plt.subplots(2, 2, figsize=(10, 10))\n",
    "plot_data(data['mm'], [r'$\\hat{\\theta}_{MM}=2\\bar{X}$'], axs, col=0, row=0)\n",
    "plot_data(data['ml'], [r'$\\hat{\\theta}_{ML}=\\max{(X_1, ..., X_n)}$'], axs, col=0, row=1)\n",
    "plt.show()"
   ]
  },
  {
   "cell_type": "code",
   "execution_count": 6,
   "metadata": {},
   "outputs": [
    {
     "name": "stdout",
     "output_type": "stream",
     "text": [
      "Среднеквадратическая ошибка (метод моментов): 1.8866\n",
      "Среднеквадратическая ошибка (метод ML): 0.1037\n"
     ]
    }
   ],
   "source": [
    "theta_hat_mm_mse = ((theta_true - np.array(data['mm']))**2).mean()\n",
    "theta_hat_ml_mse = ((theta_true - np.array(data['ml']))**2).mean()\n",
    "print(f'Среднеквадратическая ошибка (метод моментов): {theta_hat_mm_mse:0.4f}')\n",
    "print(f'Среднеквадратическая ошибка (метод ML): {theta_hat_ml_mse:0.4f}')"
   ]
  },
  {
   "cell_type": "markdown",
   "metadata": {
    "id": "ei_zw-8iA0zq"
   },
   "source": [
    "## Построение Д.И. и их сравнение"
   ]
  },
  {
   "cell_type": "markdown",
   "metadata": {
    "id": "r3_IzrtRA0zq"
   },
   "source": [
    "### т4 мм ди\n",
    "\n",
    "Постройте асимптотический (с помощью ЦПТ) доверительный интервал для неизвестного параметра $\\theta$  уровня доверия $(1-\\alpha)$, используя оценку $\\hat{\\theta}_\\text{ML} = 2\\bar{X}$.\n",
    "$$\\hat{\\theta}_\\text{ML} = 2\\bar{X} \\ \\underset{n\\to\\infty}{\\sim} \\\n",
    " \\mathcal{N}\\left(E[2\\bar{X}], \\ \\text{var}(2\\bar{X})\\right)$$\n",
    "- Какие будут мат. ожидания и дисперсия у распределения этой оценки? Подставьте результаты из предыдущих заданий.\n",
    "- Далее удобно стандартизовать используемую оценку и найти её квантили\n",
    "$$\n",
    "\\\\ \\ \\\\\n",
    "\\frac{2\\bar{X}-E[2\\bar{X}]}{\\sqrt{\\text{var}(2\\bar{X}})} \\ \\underset{n\\to\\infty}{\\sim} \\ \\mathcal{N}(0, \\ 1)\n",
    "$$\n",
    "\n",
    "- Найдите квантили, выразив параметр $\\theta$ в неравенстве\n",
    "$$P\\left( \\left|\\frac{2\\bar{X}-E[2\\bar{X}]}{\\sqrt{\\text{var}(2\\bar{X}})} \\right| \\leq z_{1-\\alpha/2} \\right) = 1-\\alpha$$\n",
    "    - Примечание: здесь в знаменателе можно как подставить оценку дисперсии по выборке, так и подставить выражение, которое зависит от параметра $\\theta$\n",
    "\n",
    "\n",
    "---\n",
    "\n"
   ]
  },
  {
   "cell_type": "markdown",
   "metadata": {
    "id": "6VTGFTOKA0zq"
   },
   "source": [
    "<font color=blue>\n",
    "Пусть $\\hat{\\theta}_\\text{MM} = 2\\bar{X}$, тогда (как получено ранее) $E[\\hat{\\theta}_\\text{MM}]=\\theta$ и $D[\\hat{\\theta}_\\text{MM}]=\\frac{\\theta^2}{3n}$, т.е.  \n",
    "$$ 2\\bar{X} \\ \\underset{n\\to\\infty}{\\sim} \\ \\mathcal{N}\\left(\\theta, \\ \\frac{\\theta^2}{3n}\\right) $$ \n",
    "или в стандартизованном виде \n",
    "$$ \\sqrt{3n}\\left(\\frac{\\hat{\\theta}_\\text{MM} - \\theta}{\\theta}\\right) \\underset{n\\to\\infty}{\\sim} \\mathcal{N}(0,1)$$\n",
    "Поэтому, если $z_{1-\\alpha/2}$ квантиль стандартного нормального распределения, то для асимптотического д.и. получаем:\n",
    "$$ \\mathbb{P}\\left(\\left\\vert\\frac{\\hat{\\theta}_\\text{MM}}{\\theta}-1\\right\\vert \\leq \\frac{z_{1-\\alpha/2}}{\\sqrt{3n}}\\right) = 1 -\\alpha $$\n",
    "$$ \\Updownarrow $$\n",
    "$$ \\mathbb{P}\\left(\\frac{\\sqrt{3n}-z_{1-\\alpha/2}}{\\sqrt{3n}} \\leq \\frac{\\hat{\\theta}_\\text{MM}}{\\theta} \\leq \\frac{\\sqrt{3n} + z_{1-\\alpha/2}}{\\sqrt{3n}}\\right) = 1 -\\alpha $$\n",
    "\n",
    "Тут возможно два случая: 1) если $\\hat{\\theta}_\\text{MM}=0$, тогда асимптотический д.и. для $\\theta$ невозможно построить; 2) если $\\hat{\\theta}_\\text{MM} > 0$, тогда получаем:\n",
    "$$ \\mathbb{P}\\left(\\frac{\\sqrt{3n}}{\\sqrt{3n}-z_{1-\\alpha/2}} \\geq \\frac{\\theta}{\\hat{\\theta}_\\text{MM}} \\geq \\frac{\\sqrt{3n}}{\\sqrt{3n} + z_{1-\\alpha/2}}\\right) = 1 -\\alpha $$\n",
    "$$ \\Updownarrow $$\n",
    "$$ \\mathbb{P}\\left(\\hat{\\theta}_\\text{MM}\\frac{\\sqrt{3n}}{\\sqrt{3n}-z_{1-\\alpha/2}} \\geq \\theta \\geq \\hat{\\theta}_\\text{MM}\\frac{\\sqrt{3n}}{\\sqrt{3n} + z_{1-\\alpha/2}}\\right) = 1 -\\alpha $$\n",
    "Т.е. асимптотический интервал уровня доверия $1 - \\alpha$ для оценки $\\hat{\\theta}_\\text{MM}=2\\bar{X}$ параметра $\\theta$ будет $\\left[\\hat{\\theta}_\\text{MM}\\frac{\\sqrt{3n}}{\\sqrt{3n} + z_{1-\\alpha/2}}, \\hat{\\theta}_\\text{MM}\\frac{\\sqrt{3n}}{\\sqrt{3n}-z_{1-\\alpha/2}}\\right]$    \n",
    "</font>"
   ]
  },
  {
   "cell_type": "markdown",
   "metadata": {},
   "source": [
    "<font color=blue>\n",
    "Ниже эксперимент с построением полученного ассимптотического интервала на python\n",
    "</font>"
   ]
  },
  {
   "cell_type": "code",
   "execution_count": 7,
   "metadata": {},
   "outputs": [
    {
     "data": {
      "image/png": "[encoded data removed]",
      "text/plain": [
       "<Figure size 1000x500 with 1 Axes>"
      ]
     },
     "metadata": {},
     "output_type": "display_data"
    }
   ],
   "source": [
    "alpha = 0.001 # уровень значимости, т.е. 1-alpha уровень доверия\n",
    "n = 100 # размер выборки\n",
    "z_a = stats.norm().ppf(1-alpha/2) # квартиль стандартного нормального распределения уровня 1-alpha/2\n",
    "theta_true = stats.uniform(10, 20).rvs() # истинное значение theta\n",
    "samples = stats.uniform(0, theta_true).rvs(size=n) # случайная выборка размера n из распределения U(0, theta)\n",
    "theta_hat = 2 * samples.mean() # оценка параметра theta (метод моментов)\n",
    "k = (3 * n) ** 0.5 # промежуточное вычисление - квадратный корень из 3*n\n",
    "ci_left = theta_hat * (k/(k+z_a)) # левая граница д.и.\n",
    "ci_right = theta_hat * (k/(k-z_a)) # правая граница д.и.\n",
    "\n",
    "plt.figure(figsize=(10,5))\n",
    "\n",
    "y_max = plt.ylim()[1]\n",
    "text_margin = 0.05\n",
    "\n",
    "plt.axvline(ci_left, color=\"blue\", linestyle='dashed', lw=2)\n",
    "plt.text(ci_left + text_margin, 0.8*y_max, f'left {ci_left:.2f}', color=\"blue\", fontsize=14)\n",
    "\n",
    "plt.axvline(ci_right, color=\"blue\", linestyle='dashed', lw=2)\n",
    "plt.text(ci_right + text_margin, 0.8*y_max, f'right {ci_right:.2f}', color=\"blue\", fontsize=14)\n",
    "\n",
    "plt.axvline(theta_true, color=\"red\", linestyle='dashed', lw=2)\n",
    "plt.text(theta_true + text_margin, 0.8*y_max, f'$\\\\theta=${theta_true:.2f}', color=\"red\", fontsize=14)\n",
    "\n",
    "plt.axvline(theta_hat, color=\"green\", linestyle='dashed', lw=2)\n",
    "plt.text(theta_hat + text_margin, 0.4*y_max, f'$\\\\hat{{\\\\theta}}_{{MM}}=${theta_hat:.2f}', color=\"green\", fontsize=14)\n",
    "\n",
    "\n",
    "plt.show()"
   ]
  },
  {
   "cell_type": "markdown",
   "metadata": {
    "id": "D2NTdV4XA0zq"
   },
   "source": [
    "### т5 ммп ди (бонусное)\n",
    "Постройте точный доверительный интервал для параметра $\\theta$ уровня доверия $(1-\\alpha)$ с помощью оценки $\\hat{\\theta} = \\max(X_1, ..., X_n)$.\n",
    "\n",
    "- Для этого необходимо найти квантили с помощью функции распределения $\\text{cdf}(\\hat{\\theta}_\\text{ML})$.\n",
    "- Нахождения квантиля подразумевает решение уравнения вида $ P(X\\leq q) = \\gamma$\n",
    "- Найденное $q$ из этого уравнения будет квантилем уровня $\\gamma$\n",
    "\n"
   ]
  },
  {
   "cell_type": "markdown",
   "metadata": {
    "id": "BX2a3MZvA0zq"
   },
   "source": [
    "<font color=blue>\n",
    "Как было установленно ранее функция распределения случ. величины $\\hat{\\theta}_\\text{ML}$ (далее для краткости $\\hat{\\theta}$) будет:\n",
    "$$ F_{\\hat{\\theta}}(x) = \\begin{cases} 0, & x < 0 \\\\ \\left(\\frac{x}{\\theta}\\right)^n, & 0 \\le x \\le \\theta \\\\ 1, & x > \\theta. \\end{cases} $$\n",
    "а плотность:\n",
    "$$ f_{\\hat{\\theta}}(x) = \\frac{n\\cdot x^{n-1}}{\\theta^n}\\cdot\\mathbb{1}\\{0 \\le x \\le \\theta\\}$$\n",
    "Пускай $x_{\\alpha,l}$ и $x_{\\alpha,r}$ таковы, что:\n",
    "$$ \\mathbb{P}(x_{\\alpha,l} \\leq \\hat{\\theta} \\leq x_{\\alpha,r}) = 1 - \\alpha $$\n",
    "Пусть $x_{\\alpha,l} = \\gamma_l\\theta$ и $x_{\\alpha,r} = \\gamma_r\\theta$ ($\\theta > 0$, поэтому такие $\\gamma$ существуют), тогда\n",
    "$$\\mathbb{P}({\\gamma_l\\theta \\leq \\hat{\\theta} \\leq \\gamma_r\\theta}) = 1 - \\alpha$$\n",
    "Тогда снова имеем два варианта 1) $\\hat{\\theta}=0$ - в этом случае точный д.и. нельзя построить и 2) $\\hat{\\theta} > 0$ - в этом случае получаем:\n",
    "$$ \\mathbb{P}\\left(\\frac{\\hat{\\theta}}{\\gamma_r} \\leq \\theta \\leq \\frac{\\hat{\\theta}}{\\gamma_l}\\right) = 1 - \\alpha $$\n",
    "    \n",
    "Т.е. д. интервалы вида $\\left[\\frac{\\hat{\\theta}}{\\gamma_r}, \\frac{\\hat{\\theta}}{\\gamma_l}\\right]$ образуют семейство точных д.и. для параметра $\\theta$ уровня доверия $(1-\\alpha)$. Построим наиболее узкий из этого семейства.\n",
    "\n",
    "Видно, что длина д.и. $\\Delta = \\hat{\\theta}\\cdot\\frac{\\gamma_r-\\gamma_l}{\\gamma_r\\gamma_l}=\\hat{\\theta}\\cdot\\theta\\cdot\\frac{x_{\\alpha,r}-x_{\\alpha,l}}{x_{\\alpha,r}x_{\\alpha,l}}$ при этом  в силу построения \n",
    "$$ \\mathbb{P}\\left(\\frac{\\hat{\\theta}}{\\gamma_r} \\leq \\theta \\leq \\frac{\\hat{\\theta}}{\\gamma_l}\\right) = \\int\\limits_{x_{\\alpha,l}}^{x_{\\alpha,r}} f_{\\hat{\\theta}}(x)\\,dx = 1 - \\alpha$$\n",
    "Т.к. функция плотности монотонна на $[0, \\theta]$ и отлична от 0 только на этом отрезке, то во-первых разумно границы интегрирования $x_{\\alpha,l}$ и $x_{\\alpha,r}$  выбирать внутри отрезка $[0, \\theta]$, а во-вторых  при фикисированном уровне $\\alpha$ чем ближе эти границы к правому концу отрезка $\\theta$ тем меньше величина $x_{\\alpha,r} - x_{\\alpha,l}$ (длина отрезка интегрирования сужается т.к. подинтегральная функция монотонно растет, а площадь под графиком фиксированна) и больше величина $x_{\\alpha,l}\\cdot x_{\\alpha,r}$, т.е. величина $\\Delta(x_{\\alpha,l}, x_{\\alpha,r})$ достигает минимума.\n",
    "\n",
    "Поэтому оптимальным правым концом интегрированния будет $x_{\\alpha,r} = \\theta$, т.е. $\\gamma_r = 1$. И для наиболее короткого точного д.и. справедливо:\n",
    "$$ \\mathbb{P}\\left(\\frac{\\hat{\\theta}}{\\gamma_r} \\leq \\theta \\leq \\frac{\\hat{\\theta}}{\\gamma_l}\\right) = \\mathbb{P}\\left(\\hat{\\theta} \\leq \\theta \\leq \\frac{\\hat{\\theta}}{\\gamma_l}\\right) = \\int\\limits_{x_{\\alpha,l}}^{\\theta} f_{\\hat{\\theta}}(x)\\,dx = F_{\\hat{\\theta}}(\\theta) - F_{\\hat{\\theta}}(x_{\\alpha,l}) = 1 - \\left(\\frac{x_{\\alpha,l}}{\\theta}\\right)^n =  1 - \\alpha $$\n",
    "$$ \\Downarrow $$\n",
    "$$ \\left(\\frac{x_{\\alpha,l}}{\\theta}\\right)^n  = \\alpha$$\n",
    "$$ \\Downarrow $$\n",
    "$$ x_{\\alpha,l} = \\theta \\sqrt[n]{\\alpha} $$\n",
    "$$ \\Downarrow $$\n",
    "$$ \\gamma_l = \\sqrt[n]{\\alpha} $$\n",
    "$$ \\Downarrow $$\n",
    "$$ \\mathbb{P}\\left(\\hat{\\theta} \\leq \\theta \\leq \\frac{\\hat{\\theta}}{\\sqrt[n]{\\alpha}}\\right) = 1 - \\alpha$$\n",
    "В итоге самый короткий точный д.и. будет $\\left[\\hat{\\theta}_\\text{ML}, \\frac{\\hat{\\theta}_\\text{ML}}{\\sqrt[n]{\\alpha}}\\right]$. Стоит отметить, что построенный самый узкий для заданного уровня $\\alpha$ доверительный интервал имеет левой границей само значение оценки параметра."
   ]
  },
  {
   "cell_type": "markdown",
   "metadata": {},
   "source": [
    "<font color=blue>\n",
    "Ниже эксперимент с построением полученного точного д. интервала на python\n",
    "</font>"
   ]
  },
  {
   "cell_type": "code",
   "execution_count": 8,
   "metadata": {},
   "outputs": [
    {
     "data": {
      "image/png": "[encoded data removed]",
      "text/plain": [
       "<Figure size 1000x500 with 1 Axes>"
      ]
     },
     "metadata": {},
     "output_type": "display_data"
    }
   ],
   "source": [
    "alpha = 0.01 # уровень значимости, т.е. 1-alpha уровень доверия\n",
    "n = 100 # размер выборки\n",
    "theta_true = stats.uniform(10, 20).rvs() # истинное значение theta\n",
    "samples = stats.uniform(0, theta_true).rvs(size=n) # случайная выборка размера n из распределения U(0, theta)\n",
    "theta_hat = max(samples) # оценка параметра theta (метод максимального правдоподобия)\n",
    "theta_hat_0 = ((n+1)/n) * theta_hat # несмещенная оценка параметра theta (метод максимального правдоподобия)\n",
    "k = (alpha) ** (1/n) # промежуточное вычисление - корень n-й степени из alpha\n",
    "ci_left = theta_hat # левая граница д.и.\n",
    "ci_right = theta_hat / k # правая граница д.и.\n",
    "\n",
    "plt.figure(figsize=(10,5))\n",
    "\n",
    "y_max = plt.ylim()[1]\n",
    "text_margin = 0.05\n",
    "\n",
    "plt.axvline(ci_left, color=\"blue\", linestyle='dashed', lw=2)\n",
    "plt.text(ci_left + text_margin, 0.8*y_max, f'left {ci_left:.2f}', color=\"blue\", fontsize=14)\n",
    "\n",
    "plt.axvline(ci_right, color=\"blue\", linestyle='dashed', lw=2)\n",
    "plt.text(ci_right + text_margin, 0.8*y_max, f'right {ci_right:.2f}', color=\"blue\", fontsize=14)\n",
    "\n",
    "plt.axvline(theta_true, color=\"red\", linestyle='dashed', lw=2)\n",
    "plt.text(theta_true + text_margin, 0.9*y_max, f'$\\\\theta=${theta_true:.2f}', color=\"red\", fontsize=14)\n",
    "\n",
    "plt.axvline(theta_hat, color=\"green\", linestyle='dashed', lw=2)\n",
    "plt.text(theta_hat + text_margin, 0.4*y_max, f'$\\\\hat{{\\\\theta}}_{{ML}}=${theta_hat:.2f}', color=\"green\", fontsize=14)\n",
    "\n",
    "plt.axvline(theta_hat_0, color=\"black\", linestyle='dashed', lw=2)\n",
    "plt.text(theta_hat_0 + text_margin, 0.6*y_max, f'$\\\\hat{{\\\\theta}}_0=${theta_hat_0:.2f}', color=\"black\", fontsize=14)\n",
    "\n",
    "plt.show()"
   ]
  },
  {
   "cell_type": "markdown",
   "metadata": {
    "id": "EV69LMUoA0zq"
   },
   "source": [
    "### n6 cравнение Д.И.-1\n",
    "Реализуйте эксперимент в питоне:\n",
    "- Сгенерируйте выборку размера $n=50$ с псевдонеизвестным параметром  $\\theta$ из равномерного распределения на $[10,20]$;\n",
    "- Посчитайте доверительные интервалы, выведенные ранее, для обеих оценок и сравните их.\n",
    "\n",
    "---\n",
    "\n"
   ]
  },
  {
   "cell_type": "code",
   "execution_count": 9,
   "metadata": {
    "id": "xWbdyjwZ1q-T"
   },
   "outputs": [
    {
     "name": "stdout",
     "output_type": "stream",
     "text": [
      "уровень доверия: 0.99\n",
      "истинное theta: 16.77\n",
      "оценка theta (mm): 17.03\n",
      "аcимптотический д.и. (mm) 14.07<->21.57 ширина: 7.50\n",
      "оценка theta (ml): 16.75\n",
      "точный д.и. (ml) 16.75<->18.36 ширина: 1.62\n"
     ]
    }
   ],
   "source": [
    "n = 50\n",
    "alpha = 0.01\n",
    "theta_true = stats.uniform(10, 20).rvs()\n",
    "samples = stats.uniform(0, theta_true).rvs(size=n)\n",
    "\n",
    "theta_hat_mm = 2 * samples.mean()\n",
    "k_mm = (3 * n) ** 0.5\n",
    "z_a = stats.norm().ppf(1 - alpha / 2)\n",
    "left_mm = theta_hat_mm * ( k_mm / ( k_mm + z_a ))\n",
    "right_mm = theta_hat_mm * ( k_mm / ( k_mm - z_a ))\n",
    "\n",
    "theta_hat_ml = max(samples)\n",
    "k_ml = (alpha) ** (1 / n)\n",
    "left_ml = theta_hat_ml\n",
    "right_ml = theta_hat_ml / k_ml\n",
    "\n",
    "print(f'уровень доверия: {1-alpha}')\n",
    "print(f'истинное theta: {theta_true:.2f}')\n",
    "print(f'оценка theta (mm): {theta_hat_mm:.2f}')\n",
    "print(f'аcимптотический д.и. (mm) {left_mm:.2f}<->{right_mm:.2f} ширина: {right_mm-left_mm:.2f}')\n",
    "print(f'оценка theta (ml): {theta_hat_ml:.2f}')\n",
    "print(f'точный д.и. (ml) {left_ml:.2f}<->{right_ml:.2f} ширина: {right_ml-left_ml:.2f}')"
   ]
  },
  {
   "cell_type": "markdown",
   "metadata": {
    "id": "KInxKDaaAPUG"
   },
   "source": [
    "### n7 cравнение Д.И.-2"
   ]
  },
  {
   "cell_type": "markdown",
   "metadata": {
    "id": "mzkMhYYsA0zr"
   },
   "source": [
    "n9) Эмпирически проверьте, какой доверительный интервал работает лучше.\n",
    "- Рассмотрите  \n",
    "    - Д.И., полученный методом макс. правдоподобия\n",
    "    - Д.И., полученный методом макс. правдоподобия с коррективкой смещения в оценке параметра\n",
    "    - Д.И., полученный методом моментов\n",
    "- Для этого зафиксируйте $\\theta$ с псевдонеизвестным параметром значением из равномерного распределения на $[10,20]$.\n",
    "- Промоделируйте $M = 1000$ раз выборку размера $n = 100$ .\n",
    "- Затем по каждой выборке вычислите доверительные интервалы и проверьте лежит ли истинный параметр внутри интервала. Далее посчитайте частоту покрытия истинного значения доверительным интервалом. У какого интервала действительно частота равна $1-\\alpha$?"
   ]
  },
  {
   "cell_type": "markdown",
   "metadata": {},
   "source": [
    "<font color=blue>\n",
    "Найдем Д.И., полученный методом макс. правдоподобия с корректировкой смещения в оценке параметра, т.е. для оценки $\\hat{\\theta}_0=\\frac{n+1}{n}\\max{(X_1, ..., X_n)}=\\frac{n+1}{n}\\hat{\\theta}_\\text{ML}$ (для двух других оценок Д.И. найдены выше).\n",
    "\n",
    "Функция распределения $\\hat{\\theta}_0$ имеет вид:\n",
    "$$ F_{\\hat{\\theta}_0}(x) = \\mathbb{P}(\\hat{\\theta}_0 \\leq x) = \\mathbb{P}\\left(\\frac{n+1}{n}\\hat{\\theta}_\\text{ML} \\leq x\\right) = \\mathbb{P}\\left(\\hat{\\theta}_\\text{ML} \\leq \\frac{n}{n+1}x\\right) = \\begin{cases} 0, & x < 0 \\\\ \\left(\\frac{n}{n+1}\\right)^n\\left(\\frac{x}{\\theta}\\right)^n, & 0 \\le x \\le \\frac{n+1}{n}\\theta \\\\ 1, & x > \\frac{n+1}{n}\\theta. \\end{cases} $$\n",
    "\n",
    "Следовательно плотность распределения $\\hat{\\theta}_0$ будет\n",
    "$$ f_{\\hat{\\theta}_0}(x) = \\begin{cases} 0, & \\text{otherwise} \\\\ \\left(\\frac{n}{n+1}\\right)^n\\left(\\frac{nx^{n-1}}{\\theta^n}\\right), & 0 \\le x \\le \\frac{n+1}{n}\\theta \\end{cases}$$\n",
    "    \n",
    "Поэтому, повторяя рассуждения, проведенные выше, получаем, что для уровня доверия $(1-\\alpha)$ верно:\n",
    "$$ \\mathbb{P}\\left(\\frac{\\hat{\\theta}_0}{\\gamma_r} \\leq \\theta \\leq \\frac{\\hat{\\theta}_0}{\\gamma_l}\\right) = \\int\\limits_{x_{\\alpha,l}}^{x_{\\alpha,r}} f_{\\hat{\\theta}_0}(x)\\,dx = F_{\\hat{\\theta}_0}(x_{\\alpha,r}) - F_{\\hat{\\theta}_0}(x_{\\alpha,l}) =  1 - \\alpha $$\n",
    "Т.е. оптимальным правым концом интегрированния будет $x_{\\alpha,r} = \\frac{n+1}{n}\\theta$, т.е. $\\gamma_r = \\frac{n+1}{n}$. И для наиболее короткого точного д.и. справедливо:\n",
    "$$ \\mathbb{P}\\left(\\frac{\\hat{\\theta}_0}{\\gamma_r} \\leq \\theta \\leq \\frac{\\hat{\\theta}_0}{\\gamma_l}\\right) = \\mathbb{P}\\left(\\frac{n}{n+1}\\hat{\\theta}_0 \\leq \\theta \\leq \\frac{\\hat{\\theta}_0}{\\gamma_l}\\right) = \\int\\limits_{x_{\\alpha,l}}^{\\frac{n+1}{n}\\theta} f_{\\hat{\\theta}_0}(x)\\,dx = F_{\\hat{\\theta}}\\left(\\frac{n+1}{n}\\theta\\right) - F_{\\hat{\\theta}}(x_{\\alpha,l}) = 1 - \\left(\\frac{n}{n+1}\\right)^n\\left(\\frac{x_{\\alpha,l}}{\\theta}\\right)^n =  1 - \\alpha $$\n",
    "$$ \\Downarrow $$\n",
    "$$ \\left(\\frac{n}{n+1}\\right)^n\\left(\\frac{x_{\\alpha,l}}{\\theta}\\right)^n  = \\alpha$$\n",
    "$$ \\Downarrow $$\n",
    "$$ x_{\\alpha,l} = \\frac{n+1}{n}\\cdot\\theta\\cdot\\sqrt[n]{\\alpha} $$\n",
    "$$ \\Downarrow $$\n",
    "$$ \\gamma_l = \\frac{n+1}{n}\\sqrt[n]{\\alpha} $$\n",
    "$$ \\Downarrow $$\n",
    "$$ \\mathbb{P}\\left(\\frac{n}{n+1}\\hat{\\theta}_0 \\leq \\theta \\leq \\frac{n}{n+1}\\frac{\\hat{\\theta}_0}{\\sqrt[n]{\\alpha}}\\right) = 1 - \\alpha$$\n",
    "    \n",
    "Таким образом самый короткий точный д.и. будет $\\left[\\frac{n}{n+1}\\hat{\\theta}_0, \\frac{n}{n+1}\\frac{\\hat{\\theta}_0}{\\sqrt[n]{\\alpha}}\\right]$ (который вообще говоря в точности совпадает с ранее найденным интервалом  $\\left[\\hat{\\theta}_\\text{ML}, \\frac{\\hat{\\theta}_\\text{ML}}{\\sqrt[n]{\\alpha}}\\right]$ для смещенной оценки $\\hat{\\theta}_\\text{ML}$).\n",
    "</font>"
   ]
  },
  {
   "cell_type": "code",
   "execution_count": 10,
   "metadata": {
    "id": "rVqmqVaWA0zr"
   },
   "outputs": [
    {
     "name": "stdout",
     "output_type": "stream",
     "text": [
      "уровень доверия: 0.95\n",
      "частота попадания в асимптотический д.и. (mm): 0.9670; отклонение от уровня доверия: 0.0170\n",
      "частота попадания в точный д.и. (ml - смещенная и несмещенная оценка): 0.9370; отклонение от уровня доверия: 0.0130\n"
     ]
    }
   ],
   "source": [
    "n = 100\n",
    "M = 1000\n",
    "alpha = 0.05\n",
    "z_a = stats.norm().ppf(1-alpha/2)\n",
    "theta_true = stats.uniform(10, 20).rvs()\n",
    "c_mm = c_ml = c_ml_0 = 0\n",
    "\n",
    "\n",
    "for _ in range(M):\n",
    "    samples = stats.uniform(0, theta_true).rvs(size=n)\n",
    "    \n",
    "    theta_hat_mm = 2 * samples.mean()\n",
    "    k_mm = (3 * n) ** 0.5\n",
    "    left_mm = theta_hat_mm * (k_mm / (k_mm + z_a))\n",
    "    right_mm = theta_hat_mm * (k_mm / (k_mm - z_a))\n",
    "    \n",
    "    theta_hat_ml = max(samples)\n",
    "    k_ml = (alpha) ** (1 / n)\n",
    "    left_ml = theta_hat_ml\n",
    "    right_ml = theta_hat_ml / k_ml\n",
    "    \n",
    "    theta_hat_ml_0 = ((n + 1) / n) * theta_hat_ml\n",
    "    left_ml_0 = left_ml\n",
    "    right_ml_0 = right_ml\n",
    "    \n",
    "    \n",
    "    if theta_true <= right_mm and theta_true >= left_mm:\n",
    "        c_mm += 1\n",
    "    \n",
    "    if theta_true <= right_ml and theta_true >= left_ml:\n",
    "        c_ml += 1\n",
    "        c_ml_0 += 1\n",
    "\n",
    "f_mm = c_mm/M\n",
    "f_ml = c_ml/M\n",
    "\n",
    "print(f'уровень доверия: {1-alpha}')\n",
    "print(f'частота попадания в асимптотический д.и. (mm): {f_mm:.4f}; отклонение от уровня доверия: {abs(f_mm-1 + alpha):.4f}')\n",
    "print(f'частота попадания в точный д.и. (ml - смещенная и несмещенная оценка): {f_ml:.4f}; отклонение от уровня доверия: {abs(f_ml-1 + alpha):.4f}')"
   ]
  },
  {
   "cell_type": "markdown",
   "metadata": {
    "id": "Tugo0OrCAPUG"
   },
   "source": [
    "<font color=blue>\n",
    "Для обоих интервалов наблюдаемая частота немного отличается от уровня доверия.\n",
    "Вывод для какого интервала частота ближе к уровню доверия сделать нельзя. При разных запусках кода ячейки частота попадания ближе к заданному уровню доверия может быть как для асимптотического д.и. метода моментов, так и для точного д.и. метода ML. Одназначно можно заключить, что точный д.и. ML короче.\n",
    "    \n",
    "</font>"
   ]
  },
  {
   "cell_type": "markdown",
   "metadata": {
    "id": "7ln8Mf6kC8cK"
   },
   "source": []
  },
  {
   "cell_type": "markdown",
   "metadata": {
    "id": "a-JZq-84dlx5"
   },
   "source": [
    "# Асимптотические Д.И. (шахты)"
   ]
  },
  {
   "cell_type": "markdown",
   "metadata": {
    "deletable": false,
    "editable": false,
    "id": "5M7DfLY9daJe",
    "nbgrader": {
     "cell_type": "markdown",
     "checksum": "80970bc9f21db2cc2cf85d64c918e72a",
     "grade": false,
     "grade_id": "cell-75d58b9b3f8d9f28",
     "locked": true,
     "schema_version": 3,
     "solution": false,
     "task": false
    }
   },
   "source": [
    "На угольных шахтах ежегодно происходят аварии. Англия довольно давно собирает информацию о числе крупных аварий. Именно её нам предстоит проанализировать:\n",
    "\n",
    "* хочется понять как часто в среднем происходят аварии\n",
    "* насколько большой у среднего числа аварий доверительный интервал"
   ]
  },
  {
   "cell_type": "code",
   "execution_count": 11,
   "metadata": {
    "id": "FGrQP8YqdaJf"
   },
   "outputs": [
    {
     "data": {
      "text/html": [
       "<div>\n",
       "<style scoped>\n",
       "    .dataframe tbody tr th:only-of-type {\n",
       "        vertical-align: middle;\n",
       "    }\n",
       "\n",
       "    .dataframe tbody tr th {\n",
       "        vertical-align: top;\n",
       "    }\n",
       "\n",
       "    .dataframe thead th {\n",
       "        text-align: right;\n",
       "    }\n",
       "</style>\n",
       "<table border=\"1\" class=\"dataframe\">\n",
       "  <thead>\n",
       "    <tr style=\"text-align: right;\">\n",
       "      <th></th>\n",
       "      <th>year</th>\n",
       "      <th>count</th>\n",
       "    </tr>\n",
       "  </thead>\n",
       "  <tbody>\n",
       "    <tr>\n",
       "      <th>1</th>\n",
       "      <td>1851</td>\n",
       "      <td>4</td>\n",
       "    </tr>\n",
       "    <tr>\n",
       "      <th>2</th>\n",
       "      <td>1852</td>\n",
       "      <td>5</td>\n",
       "    </tr>\n",
       "    <tr>\n",
       "      <th>3</th>\n",
       "      <td>1853</td>\n",
       "      <td>4</td>\n",
       "    </tr>\n",
       "    <tr>\n",
       "      <th>4</th>\n",
       "      <td>1854</td>\n",
       "      <td>1</td>\n",
       "    </tr>\n",
       "    <tr>\n",
       "      <th>5</th>\n",
       "      <td>1855</td>\n",
       "      <td>0</td>\n",
       "    </tr>\n",
       "  </tbody>\n",
       "</table>\n",
       "</div>"
      ],
      "text/plain": [
       "   year  count\n",
       "1  1851      4\n",
       "2  1852      5\n",
       "3  1853      4\n",
       "4  1854      1\n",
       "5  1855      0"
      ]
     },
     "execution_count": 11,
     "metadata": {},
     "output_type": "execute_result"
    }
   ],
   "source": [
    "df = pd.read_csv(\"coals.csv\", index_col=0)\n",
    "df.head()"
   ]
  },
  {
   "cell_type": "markdown",
   "metadata": {
    "deletable": false,
    "editable": false,
    "id": "pW4FqTJ-daJg",
    "nbgrader": {
     "cell_type": "markdown",
     "checksum": "250e18d302d16fb1e7626720133789aa",
     "grade": false,
     "grade_id": "cell-71d1eaf34ae3f8a6",
     "locked": true,
     "schema_version": 3,
     "solution": false,
     "task": false
    }
   },
   "source": [
    "В колонке `year` находится год наблюдений. В колонке `count` число аварий за этот год на шахтах в Англии. Посмотрим на распределение числа аварий."
   ]
  },
  {
   "cell_type": "code",
   "execution_count": 12,
   "metadata": {
    "id": "KtcIUZB9daJg"
   },
   "outputs": [
    {
     "data": {
      "image/png": "[encoded data removed]",
      "text/plain": [
       "<Figure size 640x480 with 1 Axes>"
      ]
     },
     "metadata": {},
     "output_type": "display_data"
    }
   ],
   "source": [
    "df['count'].hist(bins=30);"
   ]
  },
  {
   "cell_type": "code",
   "execution_count": 13,
   "metadata": {},
   "outputs": [
    {
     "data": {
      "text/plain": [
       "1.7053571428571428"
      ]
     },
     "execution_count": 13,
     "metadata": {},
     "output_type": "execute_result"
    }
   ],
   "source": [
    "df['count'].mean()"
   ]
  },
  {
   "cell_type": "code",
   "execution_count": 14,
   "metadata": {},
   "outputs": [
    {
     "data": {
      "text/plain": [
       "1.6474845300351904"
      ]
     },
     "execution_count": 14,
     "metadata": {},
     "output_type": "execute_result"
    }
   ],
   "source": [
    "df['count'].std()"
   ]
  },
  {
   "cell_type": "markdown",
   "metadata": {
    "id": "dKFFS718gT01"
   },
   "source": [
    "## Точечная оценка и асимптотический Д.И."
   ]
  },
  {
   "cell_type": "markdown",
   "metadata": {
    "deletable": false,
    "editable": false,
    "id": "YgW1tke7daJh",
    "nbgrader": {
     "cell_type": "markdown",
     "checksum": "93cd51081378129d848714a7563024ff",
     "grade": false,
     "grade_id": "cell-8f81fc0ac935f974",
     "locked": true,
     "schema_version": 3,
     "solution": false,
     "task": false
    }
   },
   "source": [
    "Судя по гистограмме уместно предположить, что число аварий имеет распределение Пуассона, $Poiss(\\lambda)$.  То есть, если мы хотим что-то понять про среднее число аварий, нам надо оценить параметр $\\lambda$.\n",
    "\n",
    "__Точечная оценка__\n",
    "\n",
    "Найдите оценку параметра $\\lambda$ с помощью метода моментов. Запишите получившийся результат в переменную `lambda_hat`.\n",
    "\n",
    "__Стандартное отклонение__\n",
    "\n",
    "Среднее, оценённое методом моментов будет иметь асимптотически нормальное распределение. Оцените стандартное отклонение этого распределения по выборке и запишите ответ в переменную `lam_se`.\n",
    "\n",
    "> __Примечание:__ мы предполагаем, что выборка пришла из распределения Пуассона. Для него $Var(X) = \\lambda$. Для оценки стандартного отклонения используйте этот факт.\n",
    "\n",
    "__Доверительный интервал__\n",
    "\n",
    "Постройте для неизвестного математического ожидания $\\lambda$ доверительный интервал. Возьмите уровень значимости равный $10\\%$. В переменные `left` и `right` запишите соотвествующие границы интервала. В переменную `delta` запишите его ширину."
   ]
  },
  {
   "cell_type": "code",
   "execution_count": 15,
   "metadata": {
    "deletable": false,
    "id": "9flvAOpJdaJi",
    "nbgrader": {
     "cell_type": "code",
     "checksum": "6049e41ea6548d69159f2393c9925ae4",
     "grade": false,
     "grade_id": "cell-a4673b56f9be221f",
     "locked": false,
     "schema_version": 3,
     "solution": true,
     "task": false
    }
   },
   "outputs": [
    {
     "name": "stdout",
     "output_type": "stream",
     "text": [
      "1.502389916114217 1.9083243696000687\n"
     ]
    }
   ],
   "source": [
    "# число наблюдений\n",
    "n_hat = len(df)\n",
    "# ваша оценка метода моментов для лямбды\n",
    "lam_hat = df['count'].mean()\n",
    "\n",
    "# ваша оценка для ст. отклонения\n",
    "lam_se = lam_hat ** 0.5\n",
    "\n",
    "# уровень значимости\n",
    "alpha = 0.1\n",
    "\n",
    "# квантиль норм. распределения\n",
    "z = stats.norm().ppf(1-alpha/2)\n",
    "\n",
    "# левая граница дов. интервала\n",
    "left = lam_hat - z * lam_se/(n_hat ** 0.5)\n",
    "\n",
    "# правая граница дов. интервала\n",
    "right = lam_hat + z * lam_se/(n_hat ** 0.5)\n",
    "\n",
    "# ширина дов. интервала\n",
    "delta = right - left\n",
    "\n",
    "print(left, right)\n",
    "\n",
    "# проверка, что границы доверительного интервала найдены верно\n",
    "assert np.abs(left - 1.502389916114217) < 1e-5"
   ]
  },
  {
   "cell_type": "markdown",
   "metadata": {
    "deletable": false,
    "editable": false,
    "id": "HWW8dRNfdaJm",
    "nbgrader": {
     "cell_type": "markdown",
     "checksum": "4d631c3f9d5ebeb5d67e62d85a83ed08",
     "grade": false,
     "grade_id": "cell-bf0ff017e366f60d",
     "locked": true,
     "schema_version": 3,
     "solution": false,
     "task": false
    }
   },
   "source": [
    "## Число катастроф\n",
    "\n",
    "Многие говорят, что в $20$ веке катастроф стало на порядок меньше. Давайте проверим это. Постройте оценку для $\\lambda_1$ по данным до $1900$ года включительно. Постройте оценку для $\\lambda_2$ по данным после $1900$ года. Для разности $\\lambda_1 - \\lambda_2$ постройте $95\\%$ доверительный интервал."
   ]
  },
  {
   "cell_type": "markdown",
   "metadata": {
    "deletable": false,
    "editable": false,
    "id": "Bppp-jRFdaJn",
    "nbgrader": {
     "cell_type": "markdown",
     "checksum": "283692227b153b139be90a29fc9d61d5",
     "grade": false,
     "grade_id": "cell-856039d3919cfd24",
     "locked": true,
     "schema_version": 3,
     "solution": false,
     "task": false
    }
   },
   "source": [
    "Ноль не вошёл в этот доверительный интервал. Это означает, что на уровне значимости $5\\%$ мы можем сказать, что число аварий правда снизилось."
   ]
  },
  {
   "cell_type": "code",
   "execution_count": 16,
   "metadata": {
    "deletable": false,
    "id": "-iuBje9jdaJm",
    "nbgrader": {
     "cell_type": "code",
     "checksum": "acbbeb4a6bf1695cf002916cf371973b",
     "grade": false,
     "grade_id": "cell-a52534c295035fea",
     "locked": false,
     "schema_version": 3,
     "solution": true,
     "task": false
    }
   },
   "outputs": [
    {
     "name": "stdout",
     "output_type": "stream",
     "text": [
      "1.2835473859716393 2.3100010011251353\n"
     ]
    }
   ],
   "source": [
    "x = df[df.year <= 1900]['count']\n",
    "y = df[df.year > 1900]['count']\n",
    "\n",
    "alpha = 0.05\n",
    "z =  stats.norm().ppf(1 - alpha / 2)\n",
    "\n",
    "n1_hat = len(x)\n",
    "lam1_hat = x.mean()\n",
    "\n",
    "\n",
    "n2_hat = len(y)\n",
    "lam2_hat = y.mean()\n",
    "\n",
    "\n",
    "dif = lam1_hat - lam2_hat\n",
    "std = (lam1_hat / n1_hat + lam2_hat / n2_hat) ** (0.5)\n",
    "\n",
    "left = dif - z * std\n",
    "right = dif + z * std\n",
    "delta = right - left\n",
    "\n",
    "print(left, right)\n",
    "\n",
    "# проверка, что границы доверительного интервала найдены верно\n",
    "assert x.size == 50\n",
    "assert np.abs(left - 1.2835473859716393) < 1e-5"
   ]
  },
  {
   "cell_type": "markdown",
   "metadata": {
    "id": "nQzZEta5dclK"
   },
   "source": [
    "# Д.И. для нормальных выборок (КР)"
   ]
  },
  {
   "cell_type": "markdown",
   "metadata": {
    "deletable": false,
    "editable": false,
    "id": "wpMCOP-ldclM",
    "nbgrader": {
     "cell_type": "markdown",
     "checksum": "43f7f429f44d154d6c72b7b236254c08",
     "grade": false,
     "grade_id": "cell-be89eebcb2f6ec8c",
     "locked": true,
     "schema_version": 3,
     "solution": false,
     "task": false
    }
   },
   "source": [
    "В файле `cr.csv` лежат результаты контрольной работы, которая проводилась в Вышке на факультете \"Э\".  По мнению студентов эти оценки смещённые, несостоятельные и ужасно неэффективные. Но это уже совершенно другая история. Подгрузим файлик и посмотрим на него!  "
   ]
  },
  {
   "cell_type": "code",
   "execution_count": 17,
   "metadata": {
    "id": "ERjx0vHZdclM"
   },
   "outputs": [
    {
     "name": "stdout",
     "output_type": "stream",
     "text": [
      "(389, 19)\n"
     ]
    },
    {
     "data": {
      "text/html": [
       "<div>\n",
       "<style scoped>\n",
       "    .dataframe tbody tr th:only-of-type {\n",
       "        vertical-align: middle;\n",
       "    }\n",
       "\n",
       "    .dataframe tbody tr th {\n",
       "        vertical-align: top;\n",
       "    }\n",
       "\n",
       "    .dataframe thead th {\n",
       "        text-align: right;\n",
       "    }\n",
       "</style>\n",
       "<table border=\"1\" class=\"dataframe\">\n",
       "  <thead>\n",
       "    <tr style=\"text-align: right;\">\n",
       "      <th></th>\n",
       "      <th>fraud</th>\n",
       "      <th>k1a</th>\n",
       "      <th>k1b</th>\n",
       "      <th>k1c</th>\n",
       "      <th>k1d</th>\n",
       "      <th>k1e</th>\n",
       "      <th>k1f</th>\n",
       "      <th>k1</th>\n",
       "      <th>k2a</th>\n",
       "      <th>k2b</th>\n",
       "      <th>k2c</th>\n",
       "      <th>k2d</th>\n",
       "      <th>k2e</th>\n",
       "      <th>k2f</th>\n",
       "      <th>k2</th>\n",
       "      <th>k3a</th>\n",
       "      <th>k3b</th>\n",
       "      <th>k3c</th>\n",
       "      <th>k3</th>\n",
       "    </tr>\n",
       "  </thead>\n",
       "  <tbody>\n",
       "    <tr>\n",
       "      <th>0</th>\n",
       "      <td>0.0</td>\n",
       "      <td>10.0</td>\n",
       "      <td>10.0</td>\n",
       "      <td>20.0</td>\n",
       "      <td>30.0</td>\n",
       "      <td>4.0</td>\n",
       "      <td>22.0</td>\n",
       "      <td>10.1</td>\n",
       "      <td>20.0</td>\n",
       "      <td>10.0</td>\n",
       "      <td>20.0</td>\n",
       "      <td>20.0</td>\n",
       "      <td>20.0</td>\n",
       "      <td>20.0</td>\n",
       "      <td>11.0</td>\n",
       "      <td>35.0</td>\n",
       "      <td>0.0</td>\n",
       "      <td>27.0</td>\n",
       "      <td>6.2</td>\n",
       "    </tr>\n",
       "    <tr>\n",
       "      <th>1</th>\n",
       "      <td>1.0</td>\n",
       "      <td>9.0</td>\n",
       "      <td>10.0</td>\n",
       "      <td>20.0</td>\n",
       "      <td>NaN</td>\n",
       "      <td>16.0</td>\n",
       "      <td>12.0</td>\n",
       "      <td>6.7</td>\n",
       "      <td>NaN</td>\n",
       "      <td>5.0</td>\n",
       "      <td>NaN</td>\n",
       "      <td>20.0</td>\n",
       "      <td>20.0</td>\n",
       "      <td>20.0</td>\n",
       "      <td>6.5</td>\n",
       "      <td>35.0</td>\n",
       "      <td>29.0</td>\n",
       "      <td>22.0</td>\n",
       "      <td>8.6</td>\n",
       "    </tr>\n",
       "    <tr>\n",
       "      <th>2</th>\n",
       "      <td>0.0</td>\n",
       "      <td>2.0</td>\n",
       "      <td>10.0</td>\n",
       "      <td>20.0</td>\n",
       "      <td>NaN</td>\n",
       "      <td>20.0</td>\n",
       "      <td>30.0</td>\n",
       "      <td>8.2</td>\n",
       "      <td>20.0</td>\n",
       "      <td>5.0</td>\n",
       "      <td>NaN</td>\n",
       "      <td>20.0</td>\n",
       "      <td>20.0</td>\n",
       "      <td>20.0</td>\n",
       "      <td>8.5</td>\n",
       "      <td>28.0</td>\n",
       "      <td>2.0</td>\n",
       "      <td>0.0</td>\n",
       "      <td>3.0</td>\n",
       "    </tr>\n",
       "    <tr>\n",
       "      <th>3</th>\n",
       "      <td>1.0</td>\n",
       "      <td>10.0</td>\n",
       "      <td>10.0</td>\n",
       "      <td>20.0</td>\n",
       "      <td>NaN</td>\n",
       "      <td>16.0</td>\n",
       "      <td>14.0</td>\n",
       "      <td>7.0</td>\n",
       "      <td>20.0</td>\n",
       "      <td>10.0</td>\n",
       "      <td>NaN</td>\n",
       "      <td>20.0</td>\n",
       "      <td>20.0</td>\n",
       "      <td>20.0</td>\n",
       "      <td>9.0</td>\n",
       "      <td>30.0</td>\n",
       "      <td>38.0</td>\n",
       "      <td>0.0</td>\n",
       "      <td>6.8</td>\n",
       "    </tr>\n",
       "    <tr>\n",
       "      <th>4</th>\n",
       "      <td>2.0</td>\n",
       "      <td>10.0</td>\n",
       "      <td>10.0</td>\n",
       "      <td>12.0</td>\n",
       "      <td>0.0</td>\n",
       "      <td>16.0</td>\n",
       "      <td>22.0</td>\n",
       "      <td>7.0</td>\n",
       "      <td>20.0</td>\n",
       "      <td>10.0</td>\n",
       "      <td>NaN</td>\n",
       "      <td>20.0</td>\n",
       "      <td>20.0</td>\n",
       "      <td>20.0</td>\n",
       "      <td>9.0</td>\n",
       "      <td>0.0</td>\n",
       "      <td>0.0</td>\n",
       "      <td>0.0</td>\n",
       "      <td>0.0</td>\n",
       "    </tr>\n",
       "  </tbody>\n",
       "</table>\n",
       "</div>"
      ],
      "text/plain": [
       "   fraud   k1a   k1b   k1c   k1d   k1e   k1f    k1   k2a   k2b   k2c   k2d  \\\n",
       "0    0.0  10.0  10.0  20.0  30.0   4.0  22.0  10.1  20.0  10.0  20.0  20.0   \n",
       "1    1.0   9.0  10.0  20.0   NaN  16.0  12.0   6.7   NaN   5.0   NaN  20.0   \n",
       "2    0.0   2.0  10.0  20.0   NaN  20.0  30.0   8.2  20.0   5.0   NaN  20.0   \n",
       "3    1.0  10.0  10.0  20.0   NaN  16.0  14.0   7.0  20.0  10.0   NaN  20.0   \n",
       "4    2.0  10.0  10.0  12.0   0.0  16.0  22.0   7.0  20.0  10.0   NaN  20.0   \n",
       "\n",
       "    k2e   k2f    k2   k3a   k3b   k3c   k3  \n",
       "0  20.0  20.0  11.0  35.0   0.0  27.0  6.2  \n",
       "1  20.0  20.0   6.5  35.0  29.0  22.0  8.6  \n",
       "2  20.0  20.0   8.5  28.0   2.0   0.0  3.0  \n",
       "3  20.0  20.0   9.0  30.0  38.0   0.0  6.8  \n",
       "4  20.0  20.0   9.0   0.0   0.0   0.0  0.0  "
      ]
     },
     "execution_count": 17,
     "metadata": {},
     "output_type": "execute_result"
    }
   ],
   "source": [
    "df = pd.read_csv('cr.csv')\n",
    "print(df.shape)\n",
    "df.head()"
   ]
  },
  {
   "cell_type": "markdown",
   "metadata": {
    "id": "Cq9xa-JDoIJM"
   },
   "source": [
    "__Описание колонок:__\n",
    "\n",
    "* `fraud` - в списывании скольки задач был уличён студент\n",
    "* `k1` - результат за первую контрольную, `k1a - k1f` в разбивке по задачам\n",
    "* `k2` - результат за вторую контрольную, `k2a - k2f` в разбивке по задачам\n",
    "* `k3` - результат за третью контрольную, `k3a - k3с` в разбивке по задачам"
   ]
  },
  {
   "cell_type": "markdown",
   "metadata": {
    "deletable": false,
    "editable": false,
    "id": "Cds4ZqqYdclO",
    "nbgrader": {
     "cell_type": "markdown",
     "checksum": "a609f2701de2c58fb402623ada75f2d6",
     "grade": false,
     "grade_id": "cell-12cb86d2c52c88ee",
     "locked": true,
     "schema_version": 3,
     "solution": false,
     "task": false
    }
   },
   "source": [
    "## Распределение результатов контрольной\n",
    "\n",
    "- Запишите все оценки за первую контрольную в переменную `x`, все пропуски удалите\n",
    "- Найдите среднее и стандартное отклонение (используйте несмещённую оценку)\n",
    "- Постройте гистограмму результатов за первую контрольную\n",
    "- На этой же картинке постройте плотность нормального распределения со средним и стандартным отклонением, посчитанными выше\n",
    "\n",
    "Похоже ли эмпирическое распределение на нормальное?"
   ]
  },
  {
   "cell_type": "code",
   "execution_count": 18,
   "metadata": {},
   "outputs": [],
   "source": [
    "x = df['k1']"
   ]
  },
  {
   "cell_type": "code",
   "execution_count": 19,
   "metadata": {},
   "outputs": [
    {
     "name": "stdout",
     "output_type": "stream",
     "text": [
      "<class 'pandas.core.series.Series'>\n",
      "RangeIndex: 389 entries, 0 to 388\n",
      "Series name: k1\n",
      "Non-Null Count  Dtype  \n",
      "--------------  -----  \n",
      "389 non-null    float64\n",
      "dtypes: float64(1)\n",
      "memory usage: 3.2 KB\n"
     ]
    }
   ],
   "source": [
    "x.info()"
   ]
  },
  {
   "cell_type": "code",
   "execution_count": 20,
   "metadata": {
    "deletable": false,
    "id": "4BW50Ca7dclO",
    "nbgrader": {
     "cell_type": "code",
     "checksum": "04205b8269710e3852ef0ef2ec0c8bd5",
     "grade": false,
     "grade_id": "cell-4caa86c30a9f3dab",
     "locked": false,
     "schema_version": 3,
     "solution": true,
     "task": false
    }
   },
   "outputs": [],
   "source": [
    "x_mean = x.mean()\n",
    "x_std = x.std(ddof=1)"
   ]
  },
  {
   "cell_type": "code",
   "execution_count": 21,
   "metadata": {
    "id": "PwYC8VUchS-q"
   },
   "outputs": [
    {
     "data": {
      "image/png": "[encoded data removed]",
      "text/plain": [
       "<Figure size 640x480 with 1 Axes>"
      ]
     },
     "metadata": {},
     "output_type": "display_data"
    }
   ],
   "source": [
    "ax = sns.histplot(data=x, stat='density')\n",
    "xs = np.linspace(0, 13, 50)\n",
    "ys = stats.norm(loc=x_mean, scale=x_std).pdf(xs)\n",
    "_ = ax.plot(xs, ys, color='blue')"
   ]
  },
  {
   "cell_type": "code",
   "execution_count": 22,
   "metadata": {
    "id": "GlcebYcdCcaw"
   },
   "outputs": [],
   "source": [
    "# проверка, что среднее посчитано корректно\n",
    "assert np.abs(x_mean - 5.4478149100) < 1e-5"
   ]
  },
  {
   "cell_type": "markdown",
   "metadata": {},
   "source": [
    "<font color=blue>В целом \"на глаз\" сходство с нормальным распределением имеется, если не брать во внимание заметное отклонение в 0, т.е. кол-во итоговых оценок 0 аномальное велико (если предположить нормальность распределения этой оценки). Это можно устранить, если исключить из датасета записи, у которых все задачи первой контрольной имеют значение `NaN`, но тогда изменится значение `x_mean` и не будет выполнен `assert` из ячейки выше. Ниже построена гистограмма после описанной фильтрации.\n",
    "</font>"
   ]
  },
  {
   "cell_type": "code",
   "execution_count": 23,
   "metadata": {
    "scrolled": true
   },
   "outputs": [
    {
     "data": {
      "image/png": "[encoded data removed]",
      "text/plain": [
       "<Figure size 640x480 with 1 Axes>"
      ]
     },
     "metadata": {},
     "output_type": "display_data"
    }
   ],
   "source": [
    "df_filtered = df[~(df['k1a'].isna() & df['k1b'].isna() & df['k1c'].isna() & df['k1d'].isna() & df['k1e'].isna() & df['k1f'].isna())]\n",
    "df_filtered.reset_index(drop=True, inplace=True)\n",
    "x_f = df_filtered['k1']\n",
    "x_mean_f = x_f.mean()\n",
    "x_std_f = x_f.std(ddof=1)\n",
    "ax = sns.histplot(data=x_f, stat='density')\n",
    "xs = np.linspace(0, 13, 50)\n",
    "ys = stats.norm(loc=x_mean_f, scale=x_std_f).pdf(xs)\n",
    "_ = ax.plot(xs, ys, color='blue')"
   ]
  },
  {
   "cell_type": "markdown",
   "metadata": {},
   "source": [
    "<font color=blue>\n",
    "После фильтрации аномалия в нуле устранилась, но остался не ожидаемый для нормального распределения пик в райне оценки 4. Либо распределение исходно не является нормальным, либо в значениях оценки участвует  какой-то фактор, который сходу не ясен.\n",
    "</font>"
   ]
  },
  {
   "cell_type": "markdown",
   "metadata": {
    "deletable": false,
    "editable": false,
    "id": "a0ORKAradclS",
    "nbgrader": {
     "cell_type": "markdown",
     "checksum": "73238ad01c1a0a12f9a77d0bfa6b3e06",
     "grade": false,
     "grade_id": "cell-8ebc6cda31688260",
     "locked": true,
     "schema_version": 3,
     "solution": false,
     "task": false
    }
   },
   "source": [
    "Предположим невероятное! А именно, независимость и одинаковую распределённость наших наблюдений (никто не списывал контрольную друг у друга)."
   ]
  },
  {
   "cell_type": "markdown",
   "metadata": {
    "deletable": false,
    "editable": false,
    "id": "pY0JtxPjdclS",
    "nbgrader": {
     "cell_type": "markdown",
     "checksum": "8f76e098fcb040b85147b0f3426470d5",
     "grade": false,
     "grade_id": "cell-fb3d48dd25fb1f07",
     "locked": true,
     "schema_version": 3,
     "solution": false,
     "task": false
    }
   },
   "source": [
    "## Д.И. для среднего\n",
    "\n",
    "Постройте точный $95\\%$-й доверительный интервал для ожидамоего результата за первую контрольную. В качестве оценки стандартного отклонения используйте несмещённый вариант, `ddof=1`. В переменные `left` и `right` запишите границы получившегося интервала. В переменную `delta` его ширину."
   ]
  },
  {
   "cell_type": "code",
   "execution_count": 24,
   "metadata": {},
   "outputs": [
    {
     "data": {
      "text/plain": [
       "389"
      ]
     },
     "execution_count": 24,
     "metadata": {},
     "output_type": "execute_result"
    }
   ],
   "source": [
    "x.size"
   ]
  },
  {
   "cell_type": "code",
   "execution_count": 25,
   "metadata": {
    "deletable": false,
    "id": "KVI99PI0dclS",
    "nbgrader": {
     "cell_type": "code",
     "checksum": "70eb28b4aaeb46af2f9696cd4f691f2f",
     "grade": false,
     "grade_id": "cell-9e40f504dc8a1f04",
     "locked": false,
     "schema_version": 3,
     "solution": true,
     "task": false
    }
   },
   "outputs": [
    {
     "name": "stdout",
     "output_type": "stream",
     "text": [
      "5.132472137442806 5.763157682608607\n"
     ]
    }
   ],
   "source": [
    "alpha = 0.05\n",
    "t = stats.t(x.size-1).ppf(1 - alpha / 2) # квантиль распределения Стьюдента (для точного д.и.)\n",
    "\n",
    "margin = t * x_std / (x.size ** 0.5) # отступ от среднего\n",
    "left =  x_mean - margin     # левая граница интервала\n",
    "right = x_mean + margin     # правая граница интервала\n",
    "delta = right - left     # ширина интервала\n",
    "\n",
    "print(left, right)"
   ]
  },
  {
   "cell_type": "code",
   "execution_count": 26,
   "metadata": {
    "id": "Ap4EQVVLCcax"
   },
   "outputs": [],
   "source": [
    "# проверка, что границы доверительного интервала найдены верно\n",
    "assert np.abs(left - 5.13247213744281) < 1e-5"
   ]
  },
  {
   "cell_type": "markdown",
   "metadata": {
    "deletable": false,
    "editable": false,
    "id": "mYYL8CI6dclT",
    "nbgrader": {
     "cell_type": "markdown",
     "checksum": "c0e10ef4b641d40f0c88c89c8e1261fc",
     "grade": false,
     "grade_id": "cell-c8cb65b81fd4f4fe",
     "locked": true,
     "schema_version": 3,
     "solution": false,
     "task": false
    }
   },
   "source": [
    "## Хорошие и плохие студенты\n",
    "\n",
    "Переменная`fraud` - в списывании скольки задач был уличён студент. Разобьём наши наблюдения на две группы: Хорошие и Плохие. У Хороший `fraud == 0`, у Плохих `fraud > 0`.\n",
    "\n",
    "Запишите оценки за первую контрольную для хороших в переменную `good`, для плохих в `bad`. Все пропуски из выборки удалите. Постройте на общем фоне гистограмму распределения оценок за первую контрольную у хороших и плохих.\n",
    "\n",
    "__Интервал для разницы средних__\n",
    "\n",
    "Постройте примерный $95\\%$-й доверительный интервал для разницы ожидаемого результата за первую контрольную у хороших и плохих студентнов без предположения о равенстве дисперсий (интервал Уэлча). Для оценки всех дисперсий используйте несмещённый вариант. Заполните все переменные, перечисленные ниже."
   ]
  },
  {
   "cell_type": "markdown",
   "metadata": {
    "deletable": false,
    "editable": false,
    "id": "bnZ-u5VddclU",
    "nbgrader": {
     "cell_type": "markdown",
     "checksum": "6e25be1a6ef849cbf62ea4a3996214bc",
     "grade": false,
     "grade_id": "cell-66a3e9ada3ad850a",
     "locked": true,
     "schema_version": 3,
     "solution": false,
     "task": false
    }
   },
   "source": [
    "Входит ли в получившийся доверительный интервал ноль? Как думаете, что это означает?\n",
    "\n",
    "> *Ответ напишите сюда*"
   ]
  },
  {
   "cell_type": "markdown",
   "metadata": {},
   "source": [
    "<font color=blue>\n",
    "Как показывают вычисления ниже ноль входит в получившийся интервал. Это значит, что с вероятностью 0.95 ожидаемая оценка для \"хорошего\" студента не отличается от ожидаемой оценки для \"плохого\". Можно сделать вывод, что ожидаемая оценка за контрольную с вероятностью 95% не зависит от того был уличен студент в списывании или нет.\n",
    "</font>"
   ]
  },
  {
   "cell_type": "code",
   "execution_count": 27,
   "metadata": {},
   "outputs": [],
   "source": [
    "angels = good = df[df['fraud'] == 0]['k1'].reset_index(drop=True) # датафрейм с оценками хороших студентов\n",
    "bad = df[df['fraud'] > 0]['k1'].reset_index(drop=True) # датафрейм с оценками плохих студентов"
   ]
  },
  {
   "cell_type": "code",
   "execution_count": 28,
   "metadata": {},
   "outputs": [
    {
     "data": {
      "image/png": "[encoded data removed]",
      "text/plain": [
       "<Figure size 640x480 with 1 Axes>"
      ]
     },
     "metadata": {},
     "output_type": "display_data"
    }
   ],
   "source": [
    "ax = sns.histplot(data=good, stat='density', color='red')\n",
    "_ = ax.hist(x=bad, density=True, color='blue', alpha=0.5)\n",
    "_ = ax.legend(labels=['good', 'bad'])"
   ]
  },
  {
   "cell_type": "code",
   "execution_count": 29,
   "metadata": {
    "deletable": false,
    "id": "Zcvz9jO2dclT",
    "nbgrader": {
     "cell_type": "code",
     "checksum": "6c0b23dd967a4f205f44779962b2a42b",
     "grade": false,
     "grade_id": "cell-c0be9e8dcdcc6943",
     "locked": false,
     "schema_version": 3,
     "solution": true,
     "task": false
    }
   },
   "outputs": [
    {
     "name": "stdout",
     "output_type": "stream",
     "text": [
      "-0.8045581262764355 0.5469728051755166\n"
     ]
    }
   ],
   "source": [
    "alpha = 0.05 # уровень значимости\n",
    "\n",
    "n_good = len(good) # число хороших студентов\n",
    "n_bad = len(bad) # число плохих студентов\n",
    "\n",
    "mean_good = good.mean() # выборочная средняя оценка хороших студентов\n",
    "mean_bad = bad.mean() # выборочная средняя оценка плохих студентов\n",
    "\n",
    "diff = mean_good - mean_bad # разница выборочных средних\n",
    "\n",
    "var_good = good.std() ** 2 # выборочная дисперсия оценок хороших студентов\n",
    "var_bad = bad.std() ** 2  # выборочная дисперсия оценок плохих студентов\n",
    "\n",
    "p = (var_good/n_good+var_bad/n_bad)**2\n",
    "q = (var_good**2/((n_good**2)*(n_good-1))+var_bad**2/((n_bad**2)*(n_bad-1)))\n",
    "\n",
    "nu =  p/q # число степеней свободы в распределении Стьюдента\n",
    "t_a = stats.t(nu).ppf(1 - alpha / 2)\n",
    "\n",
    "margin =  t_a * (var_good/n_good+var_bad/n_bad)**0.5  # отступ от среднего\n",
    "left =  diff - margin     # левая граница интервала\n",
    "right = diff + margin     # правая граница интервала\n",
    "delta = right - left     # ширина интервала\n",
    "\n",
    "print(left, right)"
   ]
  },
  {
   "cell_type": "code",
   "execution_count": 30,
   "metadata": {
    "id": "fhsrTXAyCcax"
   },
   "outputs": [],
   "source": [
    "# проверка того, сколько в выборке оказалось ангелов и демонов\n",
    "assert len(angels) == 109\n",
    "\n",
    "# проверка, что границы доверительного интервала найдены верно\n",
    "assert np.abs(left + 0.8045581262764373) < 1e-5"
   ]
  },
  {
   "cell_type": "markdown",
   "metadata": {
    "deletable": false,
    "editable": false,
    "id": "kNg5I112dclX",
    "nbgrader": {
     "cell_type": "markdown",
     "checksum": "85e3ab45a0c0e7a5455403c2f2824bb3",
     "grade": false,
     "grade_id": "cell-0e6bd521a8522d4b",
     "locked": true,
     "schema_version": 3,
     "solution": false,
     "task": false
    }
   },
   "source": [
    "## Снова разница средних\n",
    "\n",
    "Посмотрим на результаты студентов в динамике. Постройте точный $95\\%$ доверительный интервал для средней разницы оценок за вторую и первую контрольные. Пропуски в данных заполните нулями."
   ]
  },
  {
   "cell_type": "markdown",
   "metadata": {
    "deletable": false,
    "editable": false,
    "id": "2EXdio0ndclX",
    "nbgrader": {
     "cell_type": "markdown",
     "checksum": "9e70820055d9cf699f61b64bdee48755",
     "grade": false,
     "grade_id": "cell-d60ae7faf8d2aa78",
     "locked": true,
     "schema_version": 3,
     "solution": false,
     "task": false
    }
   },
   "source": [
    "Входит ли в доверительный интервал ноль? Как думаете, что это означает?\n",
    "\n",
    "> *Ответ напишите сюда*"
   ]
  },
  {
   "cell_type": "markdown",
   "metadata": {},
   "source": [
    "<font color=blue>\n",
    "Расчеты ниже показали, что ноль в доверительный интервал не входит, при этом обе границы интервала $< 0$. Это значит, что для среднего студента ожидаемая оценка за вторую контрольную с вероятностью 0.95 будет меньше, чем за первую.\n",
    "</font>"
   ]
  },
  {
   "cell_type": "code",
   "execution_count": 31,
   "metadata": {},
   "outputs": [],
   "source": [
    "df_0 = df.fillna(0)"
   ]
  },
  {
   "cell_type": "code",
   "execution_count": 32,
   "metadata": {},
   "outputs": [
    {
     "data": {
      "text/html": [
       "<div>\n",
       "<style scoped>\n",
       "    .dataframe tbody tr th:only-of-type {\n",
       "        vertical-align: middle;\n",
       "    }\n",
       "\n",
       "    .dataframe tbody tr th {\n",
       "        vertical-align: top;\n",
       "    }\n",
       "\n",
       "    .dataframe thead th {\n",
       "        text-align: right;\n",
       "    }\n",
       "</style>\n",
       "<table border=\"1\" class=\"dataframe\">\n",
       "  <thead>\n",
       "    <tr style=\"text-align: right;\">\n",
       "      <th></th>\n",
       "      <th>fraud</th>\n",
       "      <th>k1a</th>\n",
       "      <th>k1b</th>\n",
       "      <th>k1c</th>\n",
       "      <th>k1d</th>\n",
       "      <th>k1e</th>\n",
       "      <th>k1f</th>\n",
       "      <th>k1</th>\n",
       "      <th>k2a</th>\n",
       "      <th>k2b</th>\n",
       "      <th>k2c</th>\n",
       "      <th>k2d</th>\n",
       "      <th>k2e</th>\n",
       "      <th>k2f</th>\n",
       "      <th>k2</th>\n",
       "      <th>k3a</th>\n",
       "      <th>k3b</th>\n",
       "      <th>k3c</th>\n",
       "      <th>k3</th>\n",
       "    </tr>\n",
       "  </thead>\n",
       "  <tbody>\n",
       "    <tr>\n",
       "      <th>0</th>\n",
       "      <td>0.0</td>\n",
       "      <td>10.0</td>\n",
       "      <td>10.0</td>\n",
       "      <td>20.0</td>\n",
       "      <td>30.0</td>\n",
       "      <td>4.0</td>\n",
       "      <td>22.0</td>\n",
       "      <td>10.1</td>\n",
       "      <td>20.0</td>\n",
       "      <td>10.0</td>\n",
       "      <td>20.0</td>\n",
       "      <td>20.0</td>\n",
       "      <td>20.0</td>\n",
       "      <td>20.0</td>\n",
       "      <td>11.0</td>\n",
       "      <td>35.0</td>\n",
       "      <td>0.0</td>\n",
       "      <td>27.0</td>\n",
       "      <td>6.2</td>\n",
       "    </tr>\n",
       "    <tr>\n",
       "      <th>1</th>\n",
       "      <td>1.0</td>\n",
       "      <td>9.0</td>\n",
       "      <td>10.0</td>\n",
       "      <td>20.0</td>\n",
       "      <td>0.0</td>\n",
       "      <td>16.0</td>\n",
       "      <td>12.0</td>\n",
       "      <td>6.7</td>\n",
       "      <td>0.0</td>\n",
       "      <td>5.0</td>\n",
       "      <td>0.0</td>\n",
       "      <td>20.0</td>\n",
       "      <td>20.0</td>\n",
       "      <td>20.0</td>\n",
       "      <td>6.5</td>\n",
       "      <td>35.0</td>\n",
       "      <td>29.0</td>\n",
       "      <td>22.0</td>\n",
       "      <td>8.6</td>\n",
       "    </tr>\n",
       "    <tr>\n",
       "      <th>2</th>\n",
       "      <td>0.0</td>\n",
       "      <td>2.0</td>\n",
       "      <td>10.0</td>\n",
       "      <td>20.0</td>\n",
       "      <td>0.0</td>\n",
       "      <td>20.0</td>\n",
       "      <td>30.0</td>\n",
       "      <td>8.2</td>\n",
       "      <td>20.0</td>\n",
       "      <td>5.0</td>\n",
       "      <td>0.0</td>\n",
       "      <td>20.0</td>\n",
       "      <td>20.0</td>\n",
       "      <td>20.0</td>\n",
       "      <td>8.5</td>\n",
       "      <td>28.0</td>\n",
       "      <td>2.0</td>\n",
       "      <td>0.0</td>\n",
       "      <td>3.0</td>\n",
       "    </tr>\n",
       "    <tr>\n",
       "      <th>3</th>\n",
       "      <td>1.0</td>\n",
       "      <td>10.0</td>\n",
       "      <td>10.0</td>\n",
       "      <td>20.0</td>\n",
       "      <td>0.0</td>\n",
       "      <td>16.0</td>\n",
       "      <td>14.0</td>\n",
       "      <td>7.0</td>\n",
       "      <td>20.0</td>\n",
       "      <td>10.0</td>\n",
       "      <td>0.0</td>\n",
       "      <td>20.0</td>\n",
       "      <td>20.0</td>\n",
       "      <td>20.0</td>\n",
       "      <td>9.0</td>\n",
       "      <td>30.0</td>\n",
       "      <td>38.0</td>\n",
       "      <td>0.0</td>\n",
       "      <td>6.8</td>\n",
       "    </tr>\n",
       "    <tr>\n",
       "      <th>4</th>\n",
       "      <td>2.0</td>\n",
       "      <td>10.0</td>\n",
       "      <td>10.0</td>\n",
       "      <td>12.0</td>\n",
       "      <td>0.0</td>\n",
       "      <td>16.0</td>\n",
       "      <td>22.0</td>\n",
       "      <td>7.0</td>\n",
       "      <td>20.0</td>\n",
       "      <td>10.0</td>\n",
       "      <td>0.0</td>\n",
       "      <td>20.0</td>\n",
       "      <td>20.0</td>\n",
       "      <td>20.0</td>\n",
       "      <td>9.0</td>\n",
       "      <td>0.0</td>\n",
       "      <td>0.0</td>\n",
       "      <td>0.0</td>\n",
       "      <td>0.0</td>\n",
       "    </tr>\n",
       "  </tbody>\n",
       "</table>\n",
       "</div>"
      ],
      "text/plain": [
       "   fraud   k1a   k1b   k1c   k1d   k1e   k1f    k1   k2a   k2b   k2c   k2d  \\\n",
       "0    0.0  10.0  10.0  20.0  30.0   4.0  22.0  10.1  20.0  10.0  20.0  20.0   \n",
       "1    1.0   9.0  10.0  20.0   0.0  16.0  12.0   6.7   0.0   5.0   0.0  20.0   \n",
       "2    0.0   2.0  10.0  20.0   0.0  20.0  30.0   8.2  20.0   5.0   0.0  20.0   \n",
       "3    1.0  10.0  10.0  20.0   0.0  16.0  14.0   7.0  20.0  10.0   0.0  20.0   \n",
       "4    2.0  10.0  10.0  12.0   0.0  16.0  22.0   7.0  20.0  10.0   0.0  20.0   \n",
       "\n",
       "    k2e   k2f    k2   k3a   k3b   k3c   k3  \n",
       "0  20.0  20.0  11.0  35.0   0.0  27.0  6.2  \n",
       "1  20.0  20.0   6.5  35.0  29.0  22.0  8.6  \n",
       "2  20.0  20.0   8.5  28.0   2.0   0.0  3.0  \n",
       "3  20.0  20.0   9.0  30.0  38.0   0.0  6.8  \n",
       "4  20.0  20.0   9.0   0.0   0.0   0.0  0.0  "
      ]
     },
     "execution_count": 32,
     "metadata": {},
     "output_type": "execute_result"
    }
   ],
   "source": [
    "df_0.head()"
   ]
  },
  {
   "cell_type": "code",
   "execution_count": 33,
   "metadata": {
    "deletable": false,
    "id": "hggHL0_MdclX",
    "nbgrader": {
     "cell_type": "code",
     "checksum": "00506bb1365beb2e76ed5c4f0d126019",
     "grade": false,
     "grade_id": "cell-0781fc2725266cb8",
     "locked": false,
     "schema_version": 3,
     "solution": true,
     "task": false
    }
   },
   "outputs": [
    {
     "name": "stdout",
     "output_type": "stream",
     "text": [
      "-1.4562881732820108 -0.7072079706768584\n"
     ]
    }
   ],
   "source": [
    "alpha = 0.05\n",
    "\n",
    "diff = df_0['k2'] - df_0['k1']\n",
    "n  = len(diff)\n",
    "\n",
    "diff_mean = diff.mean()\n",
    "diff_std = diff.std()\n",
    "t_a = stats.t(n-1).ppf(1 - alpha / 2)\n",
    "margin =  t_a * diff_std / n ** 0.5\n",
    "\n",
    "left =  diff_mean - margin     # левая граница интервала\n",
    "right = diff_mean + margin     # правая граница интервала\n",
    "delta = right - left     # ширина интервала\n",
    "\n",
    "print(left, right)"
   ]
  },
  {
   "cell_type": "code",
   "execution_count": 34,
   "metadata": {
    "id": "v1AEDzKcCcay"
   },
   "outputs": [],
   "source": [
    "# проверка, что границы доверительного интервала найдены верно\n",
    "assert np.abs(left + 1.4562881732820103) < 1e-5"
   ]
  },
  {
   "cell_type": "markdown",
   "metadata": {
    "deletable": false,
    "editable": false,
    "id": "VwOZr2scdclV",
    "nbgrader": {
     "cell_type": "markdown",
     "checksum": "063bd8b6e45cccc3e8cae735b5ff739a",
     "grade": false,
     "grade_id": "cell-0d191b73acb7ee38",
     "locked": true,
     "schema_version": 3,
     "solution": false,
     "task": false
    }
   },
   "source": [
    "## Д.И. для дисперсии\n",
    "\n",
    "Предположим, что математическое ожидание результата за контрольную зависит от уровня подготовки, а дисперсия результата — от нервов. Постройте для отношения нервозности плохих и хороших студентов $95\\%$ доверительный интервал. Для оценки всех дисперсий используйте несмещённый вариант."
   ]
  },
  {
   "cell_type": "markdown",
   "metadata": {
    "deletable": false,
    "editable": false,
    "id": "fz0o0nk-dclV",
    "nbgrader": {
     "cell_type": "markdown",
     "checksum": "35287e8c0aaa3c65baeb855d439e24f1",
     "grade": false,
     "grade_id": "cell-c10fcf23f98971bb",
     "locked": true,
     "schema_version": 3,
     "solution": false,
     "task": false
    }
   },
   "source": [
    "Вошла ли в доверительный интервал единица? Как думаете, что это означает?\n",
    "\n",
    "> *Ответ напишите сюда*"
   ]
  },
  {
   "cell_type": "markdown",
   "metadata": {},
   "source": [
    "<font color=blue>\n",
    "Как показали расчеты ниже единица вошла в доверительный интервал. Это значит, что с уверенностью 95% можно утверждать, что нервозность плохих и хороших студентов одинаковая.\n",
    "</font>"
   ]
  },
  {
   "cell_type": "code",
   "execution_count": 35,
   "metadata": {
    "deletable": false,
    "id": "XP-TabNzdclV",
    "nbgrader": {
     "cell_type": "code",
     "checksum": "8ea1121c2ed8a94df21d96016401ccb1",
     "grade": false,
     "grade_id": "cell-8dae4d42e098b2a2",
     "locked": false,
     "schema_version": 3,
     "solution": true,
     "task": false
    }
   },
   "outputs": [
    {
     "name": "stdout",
     "output_type": "stream",
     "text": [
      "0.6247510406208132 1.1865188315990798\n"
     ]
    }
   ],
   "source": [
    "alpha = 0.05\n",
    "var_ratio = var_bad/var_good\n",
    "left =  var_ratio * stats.f(n_bad-1, n_good-1).ppf(alpha/2)    # левая граница интервала\n",
    "right = var_ratio * stats.f(n_bad-1, n_good-1).ppf(1-alpha/2)    # правая граница интервала\n",
    "delta = right - left     # ширина интервала\n",
    "\n",
    "print(left, right)"
   ]
  },
  {
   "cell_type": "code",
   "execution_count": 36,
   "metadata": {
    "id": "A8daKAtrCcax"
   },
   "outputs": [],
   "source": [
    "# проверка, что границы доверительного интервала найдены верно\n",
    "assert np.abs(left - 0.6247510406208133) < 1e-5"
   ]
  },
  {
   "cell_type": "markdown",
   "metadata": {
    "deletable": false,
    "editable": false,
    "id": "vLKNClN6dclW",
    "nbgrader": {
     "cell_type": "markdown",
     "checksum": "e6ab5253dba5643bd1bf843ac2058c6e",
     "grade": false,
     "grade_id": "cell-883157a3a5a40be9",
     "locked": true,
     "schema_version": 3,
     "solution": false,
     "task": false
    }
   },
   "source": [
    "## Доля написавших третью контрольную\n",
    "\n",
    "У студентов был выбор: писать или не писать третью контрольную. Если в колонке `k3` стоит $0$, значит студент не стал это делать. Постройте асимптотический $95\\%$-й доверительный интервал для разницы долей хороших и плохих студентов, которые решили писать третью контрольную.\n",
    "\n",
    "__Примечание:__ На практике, если мы пользуемся асимптотическими доверительными интервалами, мы можем искать границы двумя способами:\n",
    "\n",
    "* __Первый__ состоит в том, что мы оцениваем стандартное отклонение с помощью $\\sqrt{\\hat{p} \\cdot (1 - \\hat{p})} = \\sqrt{\\bar{x} \\cdot (1 - \\bar{x})}$.\n",
    "* __Второй способ__ состоит в том, чтобы оценить стандартное отклонение как  $\\sqrt{\\frac{1}{n-1} \\cdot \\sum_{i=1}^n (x_i - \\bar{x})^2}$.\n",
    "\n",
    "В плане асимптотики это не влияет на выводы, так как обе этих оценки состоятельно оценивают дисперсию. Можно пользоваться любым."
   ]
  },
  {
   "cell_type": "markdown",
   "metadata": {
    "deletable": false,
    "editable": false,
    "id": "8tOOIK3tdclX",
    "nbgrader": {
     "cell_type": "markdown",
     "checksum": "305582da29ec7a31d2f90c0f06fb9651",
     "grade": false,
     "grade_id": "cell-e474bad5c9133fa8",
     "locked": true,
     "schema_version": 3,
     "solution": false,
     "task": false
    }
   },
   "source": [
    "Входит ли в доверительный интервал ноль? Как думаете, что это означает?\n",
    "\n",
    "> *Ответ напишите сюда*"
   ]
  },
  {
   "cell_type": "markdown",
   "metadata": {},
   "source": [
    "<font color=blue>\n",
    "Как показали расчеты ниже 0 вошел в доверительный интервал. Это значит, что с уверенностью 95% можно утверждать, что доля студентов, решивших писать 3ю контрольную не зависила от того были это \"плохие\" студенты или \"хорошие\".\n",
    "</font>"
   ]
  },
  {
   "cell_type": "code",
   "execution_count": 37,
   "metadata": {
    "deletable": false,
    "id": "v4CCvbt9dclW",
    "nbgrader": {
     "cell_type": "code",
     "checksum": "04a67297c1a4265eb642c8657a9dc8c6",
     "grade": false,
     "grade_id": "cell-27c36da495c9f1b9",
     "locked": false,
     "schema_version": 3,
     "solution": true,
     "task": false
    }
   },
   "outputs": [
    {
     "name": "stdout",
     "output_type": "stream",
     "text": [
      "-0.1884946955049297 0.03341212669759032\n"
     ]
    }
   ],
   "source": [
    "alpha = 0.05\n",
    "p_good = len(df[(df['fraud'] == 0) & (df['k3'] > 0)]) / n_good\n",
    "p_bad =  len(df[(df['fraud'] > 0) & (df['k3'] > 0)]) / n_bad\n",
    "diff = p_good - p_bad\n",
    "z_a = stats.norm().ppf(1-alpha/2)\n",
    "margin = z_a * (p_good*(1-p_good)/n_good + p_bad*(1-p_bad)/n_bad) ** 0.5\n",
    "left =  diff - margin     # левая граница интервала\n",
    "right = diff + margin     # правая граница интервала\n",
    "delta = right - left     # ширина интервала\n",
    "\n",
    "print(left, right)"
   ]
  },
  {
   "cell_type": "code",
   "execution_count": 38,
   "metadata": {
    "id": "bXAQXZusCcax"
   },
   "outputs": [],
   "source": [
    "# проверка, что границы доверительного интервала найдены верно\n",
    "assert np.abs(left + 0.1885) < 1e-3"
   ]
  },
  {
   "cell_type": "markdown",
   "metadata": {
    "deletable": false,
    "editable": false,
    "id": "P3RM65EhdclX",
    "nbgrader": {
     "cell_type": "markdown",
     "checksum": "077635f824d87fa65f1974a77ad1e58f",
     "grade": false,
     "grade_id": "cell-701c121e9d85cfbe",
     "locked": true,
     "schema_version": 3,
     "solution": false,
     "task": false
    }
   },
   "source": [
    "---\n",
    "\n",
    "Это домашка подошла к концу!\n",
    "\n",
    "Поздравляю!\n",
    "\n",
    "Теперь вы умеете  \n",
    "- находить оценки методом моментов и проверять их свойства\n",
    "- строить асимптотические доверительные интервалы для любых выборок\n",
    "- строить точные доверительные интервалы для нормальных выборок\n"
   ]
  }
 ],
 "metadata": {
  "colab": {
   "provenance": []
  },
  "kernelspec": {
   "display_name": "Python 3 (ipykernel)",
   "language": "python",
   "name": "python3"
  },
  "language_info": {
   "codemirror_mode": {
    "name": "ipython",
    "version": 3
   },
   "file_extension": ".py",
   "mimetype": "text/x-python",
   "name": "python",
   "nbconvert_exporter": "python",
   "pygments_lexer": "ipython3",
   "version": "3.11.5"
  },
  "toc": {
   "base_numbering": 1,
   "nav_menu": {},
   "number_sections": false,
   "sideBar": true,
   "skip_h1_title": false,
   "title_cell": "Table of Contents",
   "title_sidebar": "Contents",
   "toc_cell": true,
   "toc_position": {
    "height": "calc(100% - 180px)",
    "left": "10px",
    "top": "150px",
    "width": "261.8px"
   },
   "toc_section_display": true,
   "toc_window_display": true
  }
 },
 "nbformat": 4,
 "nbformat_minor": 1
}
