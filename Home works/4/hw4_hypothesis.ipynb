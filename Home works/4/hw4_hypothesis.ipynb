{
 "cells": [
  {
   "cell_type": "markdown",
   "id": "d3928505",
   "metadata": {
    "id": "d3928505",
    "toc": true
   },
   "source": [
    "<h1>Table of Contents<span class=\"tocSkip\"></span></h1>\n",
    "<div class=\"toc\"><ul class=\"toc-item\"><li><span><a href=\"#Часть-1:-Много-гипотез\" data-toc-modified-id=\"Часть-1:-Много-гипотез-1\">Часть 1: Много гипотез</a></span><ul class=\"toc-item\"><li><span><a href=\"#Мудрость\" data-toc-modified-id=\"Мудрость-1.1\">Мудрость</a></span></li><li><span><a href=\"#Алексей\" data-toc-modified-id=\"Алексей-1.2\">Алексей</a></span></li><li><span><a href=\"#Рейтинги-президентов\" data-toc-modified-id=\"Рейтинги-президентов-1.3\">Рейтинги президентов</a></span></li><li><span><a href=\"#Сон\" data-toc-modified-id=\"Сон-1.4\">Сон</a></span></li><li><span><a href=\"#Say-my-name\" data-toc-modified-id=\"Say-my-name-1.5\">Say my name</a></span></li><li><span><a href=\"#Матан\" data-toc-modified-id=\"Матан-1.6\">Матан</a></span></li><li><span><a href=\"#Бутерброд\" data-toc-modified-id=\"Бутерброд-1.7\">Бутерброд</a></span></li></ul></li><li><span><a href=\"#Часть-2:-Продолжаем-проверять-гипотезы\" data-toc-modified-id=\"Часть-2:-Продолжаем-проверять-гипотезы-2\">Часть 2: Продолжаем проверять гипотезы</a></span><ul class=\"toc-item\"><li><span><a href=\"#Однородная-игра\" data-toc-modified-id=\"Однородная-игра-2.1\">Однородная игра</a></span></li><li><span><a href=\"#Мыши-и-зеркало\" data-toc-modified-id=\"Мыши-и-зеркало-2.2\">Мыши и зеркало</a></span></li><li><span><a href=\"#Энергетик\" data-toc-modified-id=\"Энергетик-2.3\">Энергетик</a></span></li><li><span><a href=\"#Бомбардировки\" data-toc-modified-id=\"Бомбардировки-2.4\">Бомбардировки</a></span></li></ul></li><li><span><a href=\"#Еще-больше-гипотез\" data-toc-modified-id=\"Еще-больше-гипотез-3\">Еще больше гипотез</a></span><ul class=\"toc-item\"><li><span><a href=\"#Сиэтл\" data-toc-modified-id=\"Сиэтл-3.3\">Сиэтл</a></span></li><li><span><a href=\"#Расход-топлива\" data-toc-modified-id=\"Расход-топлива-3.4\">Расход топлива</a></span><ul class=\"toc-item\"><li><span><a href=\"#vs,-mpg\" data-toc-modified-id=\"vs,-mpg-3.4.1\">vs, mpg</a></span></li><li><span><a href=\"#am,-mpg\" data-toc-modified-id=\"am,-mpg-3.4.2\">am, mpg</a></span></li><li><span><a href=\"#vs,-am\" data-toc-modified-id=\"vs,-am-3.4.3\">vs, am</a></span></li></ul></li></ul></li></ul></div>"
   ]
  },
  {
   "cell_type": "markdown",
   "id": "282e651b",
   "metadata": {
    "id": "282e651b"
   },
   "source": [
    "# Часть 1: Много гипотез"
   ]
  },
  {
   "cell_type": "markdown",
   "id": "8bf9743a",
   "metadata": {
    "id": "8bf9743a"
   },
   "source": [
    "В этом домашнем задании нужно проверить много-много гипотез\n",
    "\n",
    "Каждая дает по 5 баллов\n",
    "\n",
    "**Часть 1**\n",
    "\n",
    "| Задание              | Баллы |\n",
    "|----------------------|-------|\n",
    "| Мудрость             |     5 |\n",
    "| Алексей              |     5 |\n",
    "| Рейтинги президентов |     5 |\n",
    "| Сон                  |     5 |\n",
    "| Say my name          |     5 |\n",
    "| Матан                |     5 |\n",
    "| Бутерброд            |     5 |\n",
    "| Всего            |     35 |\n",
    "\n",
    "\n",
    "**Часть 2**\n",
    "\n",
    "| Задание            | Датасет         | Баллы |\n",
    "|--------------------|-----------------|-------|\n",
    "| Однородная игра    | killer_time     |     7 |\n",
    "| Мыши и зеркало     | mouses_mirror   |     7 |\n",
    "| Энергетик          | energy drink    |     7 |\n",
    "| Бомбардировки      | london          |     7 |\n",
    "| Сиэтл              | seattle         |     7 |\n",
    "| Расход топлива - 1 | mtcars: vs mpg  |     5 |\n",
    "| Расход топлива - 2 | mtcars: am mpg  |     5 |\n",
    "| Расход топлива - 3 | mtcars: am vs   |     5 |\n",
    "|                    | Всего           |    50 |\n"
   ]
  },
  {
   "cell_type": "code",
   "execution_count": 1,
   "id": "007bd95a",
   "metadata": {
    "id": "007bd95a"
   },
   "outputs": [],
   "source": [
    "import numpy as np\n",
    "import pandas as pd\n",
    "\n",
    "from scipy import stats\n",
    "from scipy import stats as sts\n",
    "\n",
    "import seaborn as sns\n",
    "import matplotlib.pyplot as plt\n",
    "\n",
    "plt.style.use('ggplot')\n",
    "ROOT=''"
   ]
  },
  {
   "cell_type": "markdown",
   "id": "7b29fba4",
   "metadata": {
    "id": "7b29fba4"
   },
   "source": [
    "## Мудрость\n",
    "\n",
    "> Помните, что для человека звук его имени является самым сладким и самым важным звуком человеческой речи. (Дейл Карнеги)\n",
    "\n",
    "Доверяй, но проверяй. Решим задачку по психологии! Все цитаты в пабликах вконтакте делятся на два вида: мудрые и недостаточно мудрые. Если цитата мудрая, то её можно лайкнуть. Поговаривают, что если в цитате есть личные местоимения, то пользователь автоматически сопоставляет себя автору этой цитаты и вероятность того, что она будет лайкнута, повышается. Например, цитату\n",
    "\n",
    "> Можно простить человеку все, кроме отсутствия. (Экзюпери)\n",
    "\n",
    "мне не очень хотелось бы лайкать. А вот цитата\n",
    "\n",
    "> Мне наплевать, что вы обо мне думаете. Я о вас вообще не думаю. (Булгаков)\n",
    "\n",
    "совершенно другое дело.\n",
    "\n",
    "В табличке `df_vk_wise` лежат данные о мудрых цитатах из [мудрого паблика.](https://vk.com/ooioioioioioo) В колонке `I` находится переменная, которая принимает значение `True`, когда в тексте цитаты было личное местоимение \"Я\".\n",
    "\n",
    "Срежем первые $50$ постов, так как под ними количество репостов и лайков ещё окончательно не выставлено, и будем работать с остатками."
   ]
  },
  {
   "cell_type": "code",
   "execution_count": 2,
   "id": "f2ee53b6",
   "metadata": {
    "colab": {
     "base_uri": "https://localhost:8080/",
     "height": 206
    },
    "id": "f2ee53b6",
    "outputId": "d6ae8459-a8ec-45ed-fea5-68fd9eee5a0c"
   },
   "outputs": [
    {
     "data": {
      "text/html": [
       "<div>\n",
       "<style scoped>\n",
       "    .dataframe tbody tr th:only-of-type {\n",
       "        vertical-align: middle;\n",
       "    }\n",
       "\n",
       "    .dataframe tbody tr th {\n",
       "        vertical-align: top;\n",
       "    }\n",
       "\n",
       "    .dataframe thead th {\n",
       "        text-align: right;\n",
       "    }\n",
       "</style>\n",
       "<table border=\"1\" class=\"dataframe\">\n",
       "  <thead>\n",
       "    <tr style=\"text-align: right;\">\n",
       "      <th></th>\n",
       "      <th>likes</th>\n",
       "      <th>reposts</th>\n",
       "      <th>text</th>\n",
       "      <th>I</th>\n",
       "    </tr>\n",
       "  </thead>\n",
       "  <tbody>\n",
       "    <tr>\n",
       "      <th>50</th>\n",
       "      <td>549</td>\n",
       "      <td>25</td>\n",
       "      <td>Я, говорит, люблю человечество, но дивлюсь на ...</td>\n",
       "      <td>True</td>\n",
       "    </tr>\n",
       "    <tr>\n",
       "      <th>51</th>\n",
       "      <td>607</td>\n",
       "      <td>22</td>\n",
       "      <td>Нельзя любить то, что я люблю, да ещё так, как...</td>\n",
       "      <td>True</td>\n",
       "    </tr>\n",
       "    <tr>\n",
       "      <th>52</th>\n",
       "      <td>914</td>\n",
       "      <td>37</td>\n",
       "      <td>Если испытываешь по-настоящему глубокое чувств...</td>\n",
       "      <td>False</td>\n",
       "    </tr>\n",
       "    <tr>\n",
       "      <th>53</th>\n",
       "      <td>989</td>\n",
       "      <td>34</td>\n",
       "      <td>— Я тебя люблю, — сказал я. \\n— Это пройдет, —...</td>\n",
       "      <td>True</td>\n",
       "    </tr>\n",
       "    <tr>\n",
       "      <th>54</th>\n",
       "      <td>1229</td>\n",
       "      <td>32</td>\n",
       "      <td>Он очаровательно рассказывает мне о том, как о...</td>\n",
       "      <td>False</td>\n",
       "    </tr>\n",
       "  </tbody>\n",
       "</table>\n",
       "</div>"
      ],
      "text/plain": [
       "    likes  reposts                                               text      I\n",
       "50    549       25  Я, говорит, люблю человечество, но дивлюсь на ...   True\n",
       "51    607       22  Нельзя любить то, что я люблю, да ещё так, как...   True\n",
       "52    914       37  Если испытываешь по-настоящему глубокое чувств...  False\n",
       "53    989       34  — Я тебя люблю, — сказал я. \\n— Это пройдет, —...   True\n",
       "54   1229       32  Он очаровательно рассказывает мне о том, как о...  False"
      ]
     },
     "execution_count": 2,
     "metadata": {},
     "output_type": "execute_result"
    }
   ],
   "source": [
    "df = pd.read_csv(ROOT+'df_vk_wise.csv')[50:]\n",
    "df.head()"
   ]
  },
  {
   "cell_type": "markdown",
   "id": "384a3381",
   "metadata": {
    "id": "384a3381"
   },
   "source": [
    "Постройте гистограмму для числа лайков постов, содержащих личные местоимения и не содержащих."
   ]
  },
  {
   "cell_type": "code",
   "execution_count": 3,
   "id": "15a55466",
   "metadata": {},
   "outputs": [
    {
     "data": {
      "text/plain": [
       "I\n",
       "False    6527\n",
       "True     2548\n",
       "Name: count, dtype: int64"
      ]
     },
     "execution_count": 3,
     "metadata": {},
     "output_type": "execute_result"
    }
   ],
   "source": [
    "df.I.value_counts()"
   ]
  },
  {
   "cell_type": "code",
   "execution_count": 4,
   "id": "65f82b07",
   "metadata": {
    "deletable": false,
    "id": "65f82b07",
    "nbgrader": {
     "cell_type": "code",
     "checksum": "3959fa2c8afbb37a435b22f39831c1b4",
     "grade": false,
     "grade_id": "cell-5b1acf05ccd983b3",
     "locked": false,
     "schema_version": 3,
     "solution": true,
     "task": false
    }
   },
   "outputs": [
    {
     "data": {
      "image/png": "[encoded data removed]",
      "text/plain": [
       "<Figure size 640x480 with 1 Axes>"
      ]
     },
     "metadata": {},
     "output_type": "display_data"
    }
   ],
   "source": [
    "### ╰( ͡° ͜ʖ ͡° )つ▬▬ι═══════  bzzzzzzzzzz\n",
    "# your code below\n",
    "ax = df[df.I].likes.hist(legend=True, color='blue')\n",
    "ax.set_xlabel('кол-во лайков за пост')\n",
    "ax.set_ylabel('кол-во постов')\n",
    "_ = ax.set_title('Посты с местоимением \"Я\"')"
   ]
  },
  {
   "cell_type": "code",
   "execution_count": 5,
   "id": "ba52e00f",
   "metadata": {},
   "outputs": [
    {
     "data": {
      "image/png": "[encoded data removed]",
      "text/plain": [
       "<Figure size 640x480 with 1 Axes>"
      ]
     },
     "metadata": {},
     "output_type": "display_data"
    }
   ],
   "source": [
    "ax = df[~df.I].likes.hist(legend=True, color='blue')\n",
    "ax.set_xlabel('кол-во лайков за пост')\n",
    "ax.set_ylabel('кол-во постов')\n",
    "_ = ax.set_title('Посты без местоимения \"Я\"')"
   ]
  },
  {
   "cell_type": "markdown",
   "id": "788f3e5a",
   "metadata": {
    "id": "788f3e5a"
   },
   "source": [
    "Хвосты на гистограммах оказываются очень длинными. Найдите медианы и средние для числа лайков. Сравните их между собой."
   ]
  },
  {
   "cell_type": "code",
   "execution_count": 6,
   "id": "8fd0cc8e",
   "metadata": {
    "deletable": false,
    "id": "8fd0cc8e",
    "nbgrader": {
     "cell_type": "code",
     "checksum": "920d011f18252d1f5ad8a0acbd77af8b",
     "grade": false,
     "grade_id": "cell-84afb85a40373b11",
     "locked": false,
     "schema_version": 3,
     "solution": true,
     "task": false
    }
   },
   "outputs": [
    {
     "name": "stdout",
     "output_type": "stream",
     "text": [
      "Посты с местоимением \"я\": среднее - 2879.2; медиана - 2588.5\n",
      "Посты без местоимения \"я\": среднее - 2784.0; медиана - 2497.0\n"
     ]
    }
   ],
   "source": [
    "### ╰( ͡° ͜ʖ ͡° )つ▬▬ι═══════  bzzzzzzzzzz\n",
    "# your code below\n",
    "print(f'Посты с местоимением \"я\": среднее - {df[df.I].likes.mean():.1f}; медиана - {df[df.I].likes.median()}')\n",
    "print(f'Посты без местоимения \"я\": среднее - {df[~df.I].likes.mean():.1f}; медиана - {df[~df.I].likes.median()}')"
   ]
  },
  {
   "cell_type": "markdown",
   "id": "ab5d8138",
   "metadata": {},
   "source": [
    "<font color=blue>\n",
    "\n",
    "Видно, что среднее число лайков (и медиана) за пост с местоимением \"Я\" немного больше, чем за пост без этого местоимения.    \n",
    "</font>"
   ]
  },
  {
   "cell_type": "markdown",
   "id": "1f6a3d5e",
   "metadata": {
    "id": "1f6a3d5e"
   },
   "source": [
    "Проверьте гипотезу о равенстве среднего числа лайков. Используйте для этого $z$-тест, основанный на ЦПТ. Дисперсию расчитывайте по выборке, используя несмещённую оценку `(ddof=1)`. Запишите наблюдаемое значение статистики в переменную `z_obs`."
   ]
  },
  {
   "cell_type": "markdown",
   "id": "d0aa9fca",
   "metadata": {},
   "source": [
    "<font color=blue>\n",
    "    \n",
    "Если $\\mu_1$ - это ожидаемое число лайков за пост, где есть личное местоимение, а $\\mu_2$ - где нет такого местоимения, то будем проверять гипотезу $H_0: \\mu_1 = \\mu_2$ о равенстве средних против правосторонней альтернативы $H_a: \\mu_1 > \\mu_2$. Т.к. альтернатива правосторонняя, то $z_{crit} = z_{1-\\alpha}$, где $\\alpha$ - уровень значимости и $\\text{p-value} = 1 - \\mathbb{P}\\{N(0,1) \\leq z_{obs} | H_0\\}$.\n",
    "    \n",
    "</font>"
   ]
  },
  {
   "cell_type": "code",
   "execution_count": 7,
   "id": "47fe8565",
   "metadata": {
    "deletable": false,
    "id": "47fe8565",
    "nbgrader": {
     "cell_type": "code",
     "checksum": "7f93ee1688388c6a8b8449e05da2fe98",
     "grade": false,
     "grade_id": "cell-1acfb89f07181a0a",
     "locked": false,
     "schema_version": 3,
     "solution": true,
     "task": false
    }
   },
   "outputs": [
    {
     "name": "stdout",
     "output_type": "stream",
     "text": [
      "z_obs: 2.6645\n"
     ]
    }
   ],
   "source": [
    "### ╰( ͡° ͜ʖ ͡° )つ▬▬ι═══════  bzzzzzzzzzz\n",
    "# your code below\n",
    "alpha = 0.05\n",
    "d1, d2 = df[df.I].likes, df[~df.I].likes\n",
    "n1, n2 = d1.size, d2.size\n",
    "diff_hat = d1.mean() - d2.mean()\n",
    "diff_std = np.sqrt(d1.var(ddof=1)/n1+d2.var(ddof=1)/n2)\n",
    "z_obs = diff_hat/diff_std\n",
    "\n",
    "print(f'z_obs: {z_obs:.4f}')"
   ]
  },
  {
   "cell_type": "markdown",
   "id": "f281d536",
   "metadata": {
    "id": "f281d536"
   },
   "source": [
    "Найдите критическое значение статистики. Сравните его с наблюдаемым. Рассчитайте p-value для ситуации с двусторонней альтернативой. Сделайте вывод о выдвинутой гипотезе. Критическое значение статистики запишите в переменную `z_crit`, а p-значение в переменную `pval`."
   ]
  },
  {
   "cell_type": "code",
   "execution_count": 8,
   "id": "e18de0da",
   "metadata": {
    "deletable": false,
    "id": "e18de0da",
    "nbgrader": {
     "cell_type": "code",
     "checksum": "46bd437560b80a2b837cc3e7d7415f62",
     "grade": false,
     "grade_id": "cell-9ebff976022e649a",
     "locked": false,
     "schema_version": 3,
     "solution": true,
     "task": false
    }
   },
   "outputs": [
    {
     "name": "stdout",
     "output_type": "stream",
     "text": [
      "z_crit: 1.6449; p-value: 0.0039\n"
     ]
    }
   ],
   "source": [
    "### ╰( ͡° ͜ʖ ͡° )つ▬▬ι═══════  bzzzzzzzzzz\n",
    "# your code below\n",
    "z_crit = stats.norm().ppf(1 - alpha)\n",
    "pval = (1 - stats.norm().cdf(np.abs(z_obs)))\n",
    "\n",
    "print(f'z_crit: {z_crit:.4f}; p-value: {pval:.4f}')"
   ]
  },
  {
   "cell_type": "markdown",
   "id": "2fee9118",
   "metadata": {},
   "source": [
    "<font color=blue>\n",
    "\n",
    "Наблюдаемая статистика $z_{obs} > z_{crit}$, т.е. на уровне значимости $\\alpha=0.05$ гипотезу $H_0$ о равенстве средних можно отвергнуть. Гипотезу $H_0$ можно принимать только при уровнях значимости $\\alpha < \\text{p-value} \\approx 0.004$. Т.к. $\\text{p-value}$ весьма мал, то гипотеза $H_0$ отвергается на любом разумном уровне значимости. \n",
    "\n",
    "</font>"
   ]
  },
  {
   "cell_type": "code",
   "execution_count": 9,
   "id": "337c0d92",
   "metadata": {
    "id": "337c0d92"
   },
   "outputs": [],
   "source": [
    "# проверка того, что задание решено верно\n",
    "assert np.abs(z_obs - 2.6644610922505323) < 1e-5"
   ]
  },
  {
   "cell_type": "markdown",
   "id": "37f4c0e5",
   "metadata": {
    "id": "37f4c0e5"
   },
   "source": [
    "Можно заметить, что у распределения числа репостов длинные хвосты. В данных есть выбросы, которые завышают среднее значение. Если выбросы сильные, то ЦПТ может ломаться. Из-за этого имеет смысл в данном случае проверять гипотезу о равенстве медиан, которые устойчивы к выбросам.\n",
    "\n",
    "-------------------"
   ]
  },
  {
   "cell_type": "markdown",
   "id": "bcfbd492",
   "metadata": {
    "id": "bcfbd492"
   },
   "source": [
    "## Алексей\n",
    "\n",
    "__Люди всё время меня спрашивают, знаю ли я Алексея?__ Да, знаю. Он делает лучшее мыло в стране.\n",
    "\n",
    "__а)__ Алексей считает партию изделий хорошей, если дисперсия размера не превышает $25$ грамм$^2$. Пока Алексей летел в самолёте, он измерил $10$ кусков мыла. Выборочная дисперсия оказалась равна $27$ грамм$^2$. Можно ли продавать эту партию или её надо списать в брак?\n",
    "\n",
    "В предположении гауссовской выборки (или ЦПТ), выборочная дисперсия имеет распределение хи-квадрат с $n-1$ степенью свободы, так как это сумма квадратов (примерно) гауссовских независимых величин.\n",
    "\n",
    "При проверке этой гипотезы найдите $p$-значение и запишите его в переменную `pval1`. Наблюдаемое значение статистики запишите в переменную `chi_obs`. Используйте уровень значимости $1\\%$."
   ]
  },
  {
   "cell_type": "markdown",
   "id": "ea679084",
   "metadata": {},
   "source": [
    "<font color=blue>\n",
    "\n",
    "Проверяем гипотезу $H_0: \\sigma^2 \\leq \\sigma_0^2 = 25$, против правосторонней альтернативы $H_a: \\sigma^2 > \\sigma_0^2 = 25$. Т.к. альтернатива правосторонняя, то $\\chi^2_{crit}(n-1) = \\chi^2_{1-\\alpha}(n-1)$ и $\\text{p-value} = 1 - \\mathbb{P}\\{\\chi^2_9\\leq \\chi^2_{obs} | H_0\\}$.\n",
    "\n",
    "</font>"
   ]
  },
  {
   "cell_type": "code",
   "execution_count": 10,
   "id": "477d0b07",
   "metadata": {
    "deletable": false,
    "id": "150e3076",
    "nbgrader": {
     "cell_type": "code",
     "checksum": "9b8826d6e3062cc4de98fdd59e1d6ca9",
     "grade": false,
     "grade_id": "cell-2e30e820f90148d5",
     "locked": false,
     "schema_version": 3,
     "solution": true,
     "task": false
    }
   },
   "outputs": [
    {
     "name": "stdout",
     "output_type": "stream",
     "text": [
      "chi_obs:  9.72\n",
      "chi_crit:  21.665994333461924\n",
      "p-value:  0.37362476510008014\n"
     ]
    }
   ],
   "source": [
    "### ╰( ͡° ͜ʖ ͡° )つ▬▬ι═══════  bzzzzzzzzzz\n",
    "# your code below\n",
    "alpha = 0.01\n",
    "n = 10\n",
    "chi_obs = (n-1) * 27/25\n",
    "chi_crit = stats.chi2(n-1).ppf(1 - alpha)\n",
    "pval1 = (1 - stats.chi2(n-1).cdf(chi_obs))\n",
    "\n",
    "print('chi_obs: ', chi_obs)\n",
    "print('chi_crit: ', chi_crit)\n",
    "print('p-value: ', pval1)"
   ]
  },
  {
   "cell_type": "markdown",
   "id": "19b6e43d",
   "metadata": {},
   "source": [
    "<font color=blue>\n",
    "    \n",
    "Наблюдаемая статистика $\\chi^2_{obs} < \\chi^2_{crit}$, поэтому гипотеза $H_0$ о непревышении дисперсии величины $25$ грамм^2 принимается. Т.к. $\\text{p-value} > 0.3$ (весьма велико), то нулевая гипотеза принимается на любом разумном уровне значимости $\\alpha$.  \n",
    "</font>"
   ]
  },
  {
   "cell_type": "markdown",
   "id": "a299bf27",
   "metadata": {
    "id": "a299bf27"
   },
   "source": [
    "__б)__ Для того, чтобы уменьшить количество бракованного мыла, Алексей собирается внедрить новую технологию производства. Алексей произвёл по старой технологии $100$ кусков мыла. Стандартное отклонение этой партии составило $6$ грамм. Для  новой технологии стандартное отклонение, посчитанное по $100$ кускам мыла, составило $5$ грамм. Правда ли, что новая технология обладает меньшей дисперсией и её нужно внедрить на производстве?\n",
    "\n",
    "При проверке этой гипотезы найдите $p$-значение и запишите его в переменную `pval2`. Используйте уровень значимости $1\\%$."
   ]
  },
  {
   "cell_type": "markdown",
   "id": "1ec9ae94",
   "metadata": {},
   "source": [
    "<font color=blue>\n",
    "Проверяем гипотезу $H_0: \\sigma_1^2 = \\sigma_2^2$, против правосторонней альтернативы $H_a:\\sigma_1^2 > \\sigma_2^2$\n",
    "\n",
    "Альтернатива правосторонняя, поэтому $F_{crit} = F_{1-\\alpha}(n-1, n-1)$ и $\\text{p-value} = 1 - \\mathbb{P}\\{F_{n-1,n-1} \\leq F_{obs} | H_0\\}$\n",
    "\n",
    "</font>"
   ]
  },
  {
   "cell_type": "code",
   "execution_count": 11,
   "id": "302b5c42",
   "metadata": {
    "deletable": false,
    "id": "302b5c42",
    "nbgrader": {
     "cell_type": "code",
     "checksum": "72a130a7ef8f3bae0797aa938d6cfe08",
     "grade": false,
     "grade_id": "cell-88a96be4941d7e62",
     "locked": false,
     "schema_version": 3,
     "solution": true,
     "task": false
    }
   },
   "outputs": [
    {
     "name": "stdout",
     "output_type": "stream",
     "text": [
      "F_obs: 1.44; F_crit: 1.6015;  p-value: 0.0356\n"
     ]
    }
   ],
   "source": [
    "### ╰( ͡° ͜ʖ ͡° )つ▬▬ι═══════  bzzzzzzzzzz\n",
    "# your code below\n",
    "alpha = 0.01\n",
    "n = 100\n",
    "F_obs = (6/5) ** 2\n",
    "F_crit = stats.f(n - 1, n - 1).ppf(1 - alpha)\n",
    "pval2 = 1-stats.f(n - 1, n - 1).cdf(F_obs)\n",
    "\n",
    "print(f'F_obs: {F_obs}; F_crit: {F_crit:.4f};  p-value: {pval2:.4f}')"
   ]
  },
  {
   "cell_type": "markdown",
   "id": "50febcc6",
   "metadata": {},
   "source": [
    "<font color=blue>\n",
    "    \n",
    "Наблюдаемая статистика $F_{obs} < F_{crit}$, поэтому гипотеза о равенстве дисперсий принимается на уровне $\\alpha=0.01$. Однако $\\text{p-value} \\approx 0.035$, т.е. уже при вполне разумном уровне $\\alpha=0.05$, гипотезу $H_0$ можно будет отвергнуть и принять решение о внедрении новой технологии.\n",
    "    \n",
    "</font>"
   ]
  },
  {
   "cell_type": "code",
   "execution_count": 12,
   "id": "1dc8619f",
   "metadata": {
    "id": "1dc8619f"
   },
   "outputs": [],
   "source": [
    "# проверка того, что задание решено верно\n",
    "assert np.abs(chi_obs - 9.72) < 1e-1\n",
    "assert np.abs(F_obs - 1.44) < 1e-1"
   ]
  },
  {
   "cell_type": "markdown",
   "id": "c8c8ba35",
   "metadata": {
    "id": "c8c8ba35"
   },
   "source": [
    "## Рейтинги президентов\n",
    "\n",
    "В таблице `presidents.csv` представлены рейтинги различных президентов США. Социальные опросы проводились раз в квартал. Опрашивалась случайная выборка граждан. У каждого спрашивалось одобряет ли он деятельность президента.\n",
    "\n",
    "__Люди всё время меня спрашивают, знаю ли я Никсона.__ Да, Ричард Никсон был президентом США с 20 января 1969 года по 9 августа 1974 года. 17 июня 1972 года произошёл Уотергейтский скандал. Давайте проанализируем, что при этом произошло с его рейтингом."
   ]
  },
  {
   "cell_type": "code",
   "execution_count": 13,
   "id": "ae21fce0",
   "metadata": {
    "colab": {
     "base_uri": "https://localhost:8080/",
     "height": 206
    },
    "id": "ae21fce0",
    "outputId": "affa342e-235d-4990-a9fc-fbf63170c781"
   },
   "outputs": [
    {
     "data": {
      "text/html": [
       "<div>\n",
       "<style scoped>\n",
       "    .dataframe tbody tr th:only-of-type {\n",
       "        vertical-align: middle;\n",
       "    }\n",
       "\n",
       "    .dataframe tbody tr th {\n",
       "        vertical-align: top;\n",
       "    }\n",
       "\n",
       "    .dataframe thead th {\n",
       "        text-align: right;\n",
       "    }\n",
       "</style>\n",
       "<table border=\"1\" class=\"dataframe\">\n",
       "  <thead>\n",
       "    <tr style=\"text-align: right;\">\n",
       "      <th></th>\n",
       "      <th>year</th>\n",
       "      <th>Qtr1</th>\n",
       "      <th>Qtr2</th>\n",
       "      <th>Qtr3</th>\n",
       "      <th>Qtr4</th>\n",
       "    </tr>\n",
       "  </thead>\n",
       "  <tbody>\n",
       "    <tr>\n",
       "      <th>0</th>\n",
       "      <td>1945</td>\n",
       "      <td>NaN</td>\n",
       "      <td>87</td>\n",
       "      <td>82.0</td>\n",
       "      <td>75.0</td>\n",
       "    </tr>\n",
       "    <tr>\n",
       "      <th>1</th>\n",
       "      <td>1946</td>\n",
       "      <td>63.0</td>\n",
       "      <td>50</td>\n",
       "      <td>43.0</td>\n",
       "      <td>32.0</td>\n",
       "    </tr>\n",
       "    <tr>\n",
       "      <th>2</th>\n",
       "      <td>1947</td>\n",
       "      <td>35.0</td>\n",
       "      <td>60</td>\n",
       "      <td>54.0</td>\n",
       "      <td>55.0</td>\n",
       "    </tr>\n",
       "    <tr>\n",
       "      <th>3</th>\n",
       "      <td>1948</td>\n",
       "      <td>36.0</td>\n",
       "      <td>39</td>\n",
       "      <td>NaN</td>\n",
       "      <td>NaN</td>\n",
       "    </tr>\n",
       "    <tr>\n",
       "      <th>4</th>\n",
       "      <td>1949</td>\n",
       "      <td>69.0</td>\n",
       "      <td>57</td>\n",
       "      <td>57.0</td>\n",
       "      <td>51.0</td>\n",
       "    </tr>\n",
       "  </tbody>\n",
       "</table>\n",
       "</div>"
      ],
      "text/plain": [
       "   year  Qtr1  Qtr2  Qtr3  Qtr4\n",
       "0  1945   NaN    87  82.0  75.0\n",
       "1  1946  63.0    50  43.0  32.0\n",
       "2  1947  35.0    60  54.0  55.0\n",
       "3  1948  36.0    39   NaN   NaN\n",
       "4  1949  69.0    57  57.0  51.0"
      ]
     },
     "execution_count": 13,
     "metadata": {},
     "output_type": "execute_result"
    }
   ],
   "source": [
    "df = pd.read_csv(ROOT+'presidents.csv')\n",
    "df.head()"
   ]
  },
  {
   "cell_type": "markdown",
   "id": "6e8bc61d",
   "metadata": {
    "id": "6e8bc61d"
   },
   "source": [
    "Чтобы привести таблицу к удобному виду используйте функцию `pd.melt`. Вытащите из таблички рейтинг Никсона с 1 квартала 1969 года по 2 квартал 1972 года (включая его). Запишите эти данные в переменную `x`. Рейтинг с 3 квартала 1972 года по 2 квартал 1974 года поместите в переменную `y`. Пропуски в данных удалите из выборки."
   ]
  },
  {
   "cell_type": "code",
   "execution_count": 14,
   "id": "32944bdd",
   "metadata": {},
   "outputs": [],
   "source": [
    "df_new = pd.melt(df, id_vars=['year'], value_vars=['Qtr1', 'Qtr2', 'Qtr3', 'Qtr4']).\\\n",
    "sort_values(by=['year', 'variable']).\\\n",
    "reset_index(drop=True)"
   ]
  },
  {
   "cell_type": "code",
   "execution_count": 15,
   "id": "462a973d",
   "metadata": {},
   "outputs": [
    {
     "data": {
      "image/png": "[encoded data removed]",
      "text/plain": [
       "<Figure size 640x480 with 1 Axes>"
      ]
     },
     "metadata": {},
     "output_type": "display_data"
    }
   ],
   "source": [
    "ax = df_new.value.plot()\n",
    "ax.set_ylabel('rating')\n",
    "ax.set_xlabel('time')\n",
    "_ = ax.legend()"
   ]
  },
  {
   "cell_type": "code",
   "execution_count": 16,
   "id": "deac63c5",
   "metadata": {},
   "outputs": [],
   "source": [
    "start_index_x = df_new[(df_new.year == 1969) & (df_new.variable == 'Qtr1')].index[0]\n",
    "stop_index_x = df_new[(df_new.year == 1972) & (df_new.variable == 'Qtr2')].index[0] + 1\n",
    "start_index_y = df_new[(df_new.year == 1972) & (df_new.variable == 'Qtr3')].index[0]\n",
    "stop_index_y = df_new[(df_new.year == 1974) & (df_new.variable == 'Qtr2')].index[0] + 1"
   ]
  },
  {
   "cell_type": "code",
   "execution_count": 17,
   "id": "165782cf",
   "metadata": {
    "deletable": false,
    "id": "165782cf",
    "nbgrader": {
     "cell_type": "code",
     "checksum": "22ec9a50950897f91ca39c4631a6200c",
     "grade": false,
     "grade_id": "cell-0c35f4bdddbb0029",
     "locked": false,
     "schema_version": 3,
     "solution": true,
     "task": false
    }
   },
   "outputs": [],
   "source": [
    "### ╰( ͡° ͜ʖ ͡° )つ▬▬ι═══════  bzzzzzzzzzz\n",
    "# your code below\n",
    "\n",
    "x = df_new[start_index_x:stop_index_x].value.dropna().to_numpy()\n",
    "y = df_new[start_index_y:stop_index_y].value.dropna().to_numpy()\n"
   ]
  },
  {
   "cell_type": "markdown",
   "id": "11667fcd",
   "metadata": {},
   "source": [
    "<font color=blue>\n",
    "    \n",
    "Таким образом в `x` у нас  рейтинг Никсона с 1 квартала 1969 года по 2 квартал 1972 года, а в `y` рейтинг с 3 квартала 1972 года по 2 квартал 1974 года.\n",
    "    \n",
    "</font>"
   ]
  },
  {
   "cell_type": "markdown",
   "id": "38eadf6b",
   "metadata": {
    "id": "38eadf6b"
   },
   "source": [
    "Правда ли, что после скандала средний рейтинг Никсона рухнул? Предполагайте, что рейтинг распределён нормально, а также, что дисперсия рейтинга не изменилась из-за скандала. Наблюдаемое значение статистики запишите в переменную `obs`, в переменную `pval` запишите $p$-значение."
   ]
  },
  {
   "cell_type": "markdown",
   "id": "0698b395",
   "metadata": {},
   "source": [
    "<font color=blue>\n",
    "Проверияем гипотезу о равенстве средних рейтингов $H_0: r_x = r_y$, против правосторонней альтернативы (рейтинг снизился после скандала) $H_a: r_x > r_y$. Т.к. альтернатива правосторонняя (рейтинг снизился), то $t_{crit} = t_{1-\\alpha}(n_x+n_y-2)$ и $\\text{p-value} = 1 - \\mathbb{P}\\{t_{n_x+n_y-2} \\leq t_{obs} | H_0\\}$\n",
    " \n",
    "</font>"
   ]
  },
  {
   "cell_type": "code",
   "execution_count": 18,
   "id": "98763136",
   "metadata": {
    "deletable": false,
    "id": "98763136",
    "nbgrader": {
     "cell_type": "code",
     "checksum": "2472ad8779c6b2e9af75ad034a8f98ae",
     "grade": false,
     "grade_id": "cell-468606ed00795265",
     "locked": false,
     "schema_version": 3,
     "solution": true,
     "task": false
    }
   },
   "outputs": [
    {
     "name": "stdout",
     "output_type": "stream",
     "text": [
      "t_obs: 3.5641; t_crit: 2.5524; p-value: 0.00111\n"
     ]
    }
   ],
   "source": [
    "### ╰( ͡° ͜ʖ ͡° )つ▬▬ι═══════  bzzzzzzzzzz\n",
    "# your code below\n",
    "alpha = 0.01\n",
    "var_x = x.var(ddof=1)\n",
    "var_y = y.var(ddof=1)\n",
    "nx = len(x)\n",
    "ny = len(y)\n",
    "var = ((nx - 1) * var_x + (ny - 1) * var_y)/(nx + ny - 2)\n",
    "obs = (x.mean() - y.mean())/np.sqrt(var / nx + var / ny)\n",
    "t_crit = stats.t(df = nx + ny - 2).ppf(1 - alpha)\n",
    "pval = 1 - stats.t(df = nx + ny - 2).cdf(obs)\n",
    "\n",
    "print(f't_obs: {obs:.4f}; t_crit: {t_crit:.4f}; p-value: {pval:.5f}')"
   ]
  },
  {
   "cell_type": "markdown",
   "id": "a83555f3",
   "metadata": {},
   "source": [
    "<font color=blue>\n",
    "Наблюдаемый $\\text{p-value} \\approx 0.00111$, т.е. гипотеза $H_0$ может быть принята только при весьма низком уровне значимости $\\alpha \\leq 0.001$. При $\\alpha=0.01$ нулевая гипотеза отвергается, т.е. можно достаточно уверенно принять тот факт, что скандал снизил рейтинг Никсона.\n",
    "</font>"
   ]
  },
  {
   "cell_type": "code",
   "execution_count": 19,
   "id": "0c8171a3",
   "metadata": {
    "id": "0c8171a3"
   },
   "outputs": [],
   "source": [
    "# проверка того, что задание решено верно\n",
    "assert np.abs(obs - 3.5640741313229793) < 1e-5\n"
   ]
  },
  {
   "cell_type": "markdown",
   "id": "dd8f384c",
   "metadata": {
    "id": "dd8f384c"
   },
   "source": [
    "## Сон\n",
    "\n",
    "Проводится эксперимент о пользе нового снотворного. Для его проведения используется группа из $10$ студентов. В первый день каждый из них ложится спать. На утро измеряется, сколько он проспал. Из результата вычитают $8$ (нормальное число часов сна). На второй день каждому дают таблетку. Утром снова измеряют сколько человек проспал, и вычитают $8$. Результаты эксперимента записаны в табличку `sleep.csv`."
   ]
  },
  {
   "cell_type": "code",
   "execution_count": 20,
   "id": "60ceff37",
   "metadata": {
    "colab": {
     "base_uri": "https://localhost:8080/",
     "height": 206
    },
    "id": "60ceff37",
    "outputId": "09269f0e-8f81-4858-9579-62eded1afa24"
   },
   "outputs": [
    {
     "data": {
      "text/html": [
       "<div>\n",
       "<style scoped>\n",
       "    .dataframe tbody tr th:only-of-type {\n",
       "        vertical-align: middle;\n",
       "    }\n",
       "\n",
       "    .dataframe tbody tr th {\n",
       "        vertical-align: top;\n",
       "    }\n",
       "\n",
       "    .dataframe thead th {\n",
       "        text-align: right;\n",
       "    }\n",
       "</style>\n",
       "<table border=\"1\" class=\"dataframe\">\n",
       "  <thead>\n",
       "    <tr style=\"text-align: right;\">\n",
       "      <th></th>\n",
       "      <th>extra</th>\n",
       "      <th>group</th>\n",
       "      <th>ID</th>\n",
       "    </tr>\n",
       "  </thead>\n",
       "  <tbody>\n",
       "    <tr>\n",
       "      <th>0</th>\n",
       "      <td>0.7</td>\n",
       "      <td>1</td>\n",
       "      <td>1</td>\n",
       "    </tr>\n",
       "    <tr>\n",
       "      <th>1</th>\n",
       "      <td>-1.6</td>\n",
       "      <td>1</td>\n",
       "      <td>2</td>\n",
       "    </tr>\n",
       "    <tr>\n",
       "      <th>2</th>\n",
       "      <td>-0.2</td>\n",
       "      <td>1</td>\n",
       "      <td>3</td>\n",
       "    </tr>\n",
       "    <tr>\n",
       "      <th>3</th>\n",
       "      <td>-1.2</td>\n",
       "      <td>1</td>\n",
       "      <td>4</td>\n",
       "    </tr>\n",
       "    <tr>\n",
       "      <th>4</th>\n",
       "      <td>-0.1</td>\n",
       "      <td>1</td>\n",
       "      <td>5</td>\n",
       "    </tr>\n",
       "    <tr>\n",
       "      <th>5</th>\n",
       "      <td>3.4</td>\n",
       "      <td>1</td>\n",
       "      <td>6</td>\n",
       "    </tr>\n",
       "    <tr>\n",
       "      <th>6</th>\n",
       "      <td>3.7</td>\n",
       "      <td>1</td>\n",
       "      <td>7</td>\n",
       "    </tr>\n",
       "    <tr>\n",
       "      <th>7</th>\n",
       "      <td>0.8</td>\n",
       "      <td>1</td>\n",
       "      <td>8</td>\n",
       "    </tr>\n",
       "    <tr>\n",
       "      <th>8</th>\n",
       "      <td>0.0</td>\n",
       "      <td>1</td>\n",
       "      <td>9</td>\n",
       "    </tr>\n",
       "    <tr>\n",
       "      <th>9</th>\n",
       "      <td>2.0</td>\n",
       "      <td>1</td>\n",
       "      <td>10</td>\n",
       "    </tr>\n",
       "  </tbody>\n",
       "</table>\n",
       "</div>"
      ],
      "text/plain": [
       "   extra  group  ID\n",
       "0    0.7      1   1\n",
       "1   -1.6      1   2\n",
       "2   -0.2      1   3\n",
       "3   -1.2      1   4\n",
       "4   -0.1      1   5\n",
       "5    3.4      1   6\n",
       "6    3.7      1   7\n",
       "7    0.8      1   8\n",
       "8    0.0      1   9\n",
       "9    2.0      1  10"
      ]
     },
     "execution_count": 20,
     "metadata": {},
     "output_type": "execute_result"
    }
   ],
   "source": [
    "df = pd.read_csv(ROOT+'sleep.csv')\n",
    "df.head(10)"
   ]
  },
  {
   "cell_type": "markdown",
   "id": "c9dbb4b0",
   "metadata": {
    "id": "c9dbb4b0"
   },
   "source": [
    "Правда ли, что сон студентов до приёма снотворного не отличается от нормы (отклонение от 8 часов равно нулю). Проверьте эту гипотезу на $5\\%$ уровне значимости, в переменную `pval1` запишите p-значение."
   ]
  },
  {
   "cell_type": "code",
   "execution_count": 21,
   "id": "10f6787e",
   "metadata": {},
   "outputs": [],
   "source": [
    "x = df[df.group==1].extra.to_numpy()\n",
    "y = df[df.group==2].extra.to_numpy()"
   ]
  },
  {
   "cell_type": "code",
   "execution_count": 22,
   "id": "3dae82c8",
   "metadata": {},
   "outputs": [
    {
     "name": "stdout",
     "output_type": "stream",
     "text": [
      "0.75 2.3299999999999996\n"
     ]
    }
   ],
   "source": [
    "print(x.mean(), y.mean())"
   ]
  },
  {
   "cell_type": "markdown",
   "id": "19b63801",
   "metadata": {},
   "source": [
    "<font color=blue>\n",
    " \n",
    "Таким образом в массиве `x` результаты до эксперимента, а в `y` после. Проверим сначала гипотезу $H_0: \\bar{x}=0$ против двусторонней альтернативы $H_a: \\bar{x}\\neq0$ на уровне значимости $\\alpha=0.05$. Для этого найдем статистику $t_{obs}=\\sqrt{n}\\cdot\\frac{\\bar{x}-0}{s}\\sim t(n-1)$. И т.к. альтернатива двусторонняя, то $t_{crit} = t_{1-\\alpha/2}(n-1)$, а $\\text{p-value} = 2\\cdot(1 - \\mathbb{P}\\{t(n-1) \\leq t_{obs} | H_0\\})$\n",
    "    \n",
    "</font>"
   ]
  },
  {
   "cell_type": "code",
   "execution_count": 23,
   "id": "32b579e5",
   "metadata": {
    "deletable": false,
    "id": "32b579e5",
    "nbgrader": {
     "cell_type": "code",
     "checksum": "84c67f6747d67cca7633914c28107c96",
     "grade": false,
     "grade_id": "cell-c04ca7c5b2d46f59",
     "locked": false,
     "schema_version": 3,
     "solution": true,
     "task": false
    }
   },
   "outputs": [
    {
     "name": "stdout",
     "output_type": "stream",
     "text": [
      "t_obs1: 1.3257; t_crit1: 2.2622; p_val1: 0.2176\n"
     ]
    }
   ],
   "source": [
    "### ╰( ͡° ͜ʖ ͡° )つ▬▬ι═══════  bzzzzzzzzzz\n",
    "# your code below\n",
    "\n",
    "alpha = 0.05\n",
    "n = 10\n",
    "tobs1 = x.mean()/np.sqrt(x.var(ddof=1)/n)\n",
    "t_crit1 = stats.t(n-1).ppf(1 - alpha/2)\n",
    "pval1 = 2 * (1 - stats.t(n-1).cdf(tobs1))\n",
    "\n",
    "print(f't_obs1: {tobs1:.4f}; t_crit1: {t_crit1:.4f}; p_val1: {pval1:.4f}')"
   ]
  },
  {
   "cell_type": "markdown",
   "id": "f61a4b77",
   "metadata": {},
   "source": [
    "<font color=blue>\n",
    "Наблюдаемое значение статистики $t_{obs} < t_{crit}$ для $\\alpha=0.05$, при этом $\\text{p-value} > 0.2$, т.е. гипотезу $H_0$ можно принять на практически любом разумном уровне значимости $\\alpha$. Т.е. принимаем, что сон студентов до приема снотворного от нормы не отличается.\n",
    "</font>"
   ]
  },
  {
   "cell_type": "markdown",
   "id": "f37815fd",
   "metadata": {
    "id": "f37815fd"
   },
   "source": [
    "Правда ли, что благодаря таблеткам студенты стали спать больше (односторонняя альтернатива)? Запишите в переменную `pval2` соотвествующее p-значение."
   ]
  },
  {
   "cell_type": "markdown",
   "id": "99d4bd8d",
   "metadata": {},
   "source": [
    "<font color=blue>\n",
    "\n",
    "Найдем разницу векторов `y` и `x`: `d = y - x` и проверим гипотезу $H_0: \\bar{d}=0$, против правосторонней альтернативы $H_a: d > 0$ на уровне значимости $\\alpha=0.05$. Для этого найдем статистику $t_{obs} = \\sqrt{n}\\cdot \\frac{\\bar{d}-0}{s}\\sim t(n-1)$.\n",
    "И т.к. альтернатива правосторонняя, то $t_{crit} = t_{1-\\alpha}(n-1)$, а $\\text{p-value} = 1 - \\mathbb{P}\\{t(n-1) \\leq t_{obs} | H_0\\}$\n",
    "</font>"
   ]
  },
  {
   "cell_type": "code",
   "execution_count": 24,
   "id": "9986d374",
   "metadata": {
    "deletable": false,
    "id": "9986d374",
    "nbgrader": {
     "cell_type": "code",
     "checksum": "5df1edb5b8b18a467151f30e3ad24e05",
     "grade": false,
     "grade_id": "cell-4c7c2e8e8b3c5de8",
     "locked": false,
     "schema_version": 3,
     "solution": true,
     "task": false
    }
   },
   "outputs": [
    {
     "name": "stdout",
     "output_type": "stream",
     "text": [
      "t_obs2: 4.0621; t_crit2: 1.8331; p_val2: 0.0014\n"
     ]
    }
   ],
   "source": [
    "### ╰( ͡° ͜ʖ ͡° )つ▬▬ι═══════  bzzzzzzzzzz\n",
    "# your code below\n",
    "d = y - x\n",
    "tobs2 = np.sqrt(n) * d.mean()/d.std(ddof=1)\n",
    "t_crit2 = stats.t(n-1).ppf(1 - alpha)\n",
    "pval2 = 1 - stats.t(n-1).cdf(tobs2)\n",
    "\n",
    "# your code here\n",
    "print(f't_obs2: {tobs2:.4f}; t_crit2: {t_crit2:.4f}; p_val2: {pval2:.4f}')"
   ]
  },
  {
   "cell_type": "markdown",
   "id": "8603f413",
   "metadata": {},
   "source": [
    "<font color=blue>\n",
    " \n",
    "Наблюдаемое значиние статистики $t_{obs} > t_{crit}$ при $\\alpha=0.05$, т.е. нулевую гипотезу отвергаем. При этом $\\text{p-value} \\approx 0.0014$, т.е. нулевую гипотезу $H_0$ можно принять только на весьма низком уровне значимости $\\alpha$, а значит разумно принять, что благодаря таблеткам студенты стали спать больше.   \n",
    "    \n",
    "</font>"
   ]
  },
  {
   "cell_type": "code",
   "execution_count": 25,
   "id": "7479ecf9",
   "metadata": {
    "deletable": false,
    "editable": false,
    "id": "7479ecf9",
    "nbgrader": {
     "cell_type": "code",
     "checksum": "72bfc924a2bb01c46b9bf61fddb2620b",
     "grade": true,
     "grade_id": "cell-2167298693b77a31",
     "locked": true,
     "points": 1,
     "schema_version": 3,
     "solution": false,
     "task": false
    }
   },
   "outputs": [],
   "source": [
    "# проверка того, что задание решено верно\n",
    "assert np.abs(tobs1 - 1.325710) < 1e-5\n",
    "assert np.abs(tobs2 - 4.062127) < 1e-5\n"
   ]
  },
  {
   "cell_type": "markdown",
   "id": "ca2e5980",
   "metadata": {
    "id": "ca2e5980"
   },
   "source": [
    "## Say my name\n",
    "\n",
    "__Люди всё время меня спрашивают, знает ли меня Барсик.__  Многие владельцы кошек уверены, что их питомцы могут понимать достаточно большое количество слов, а также узнавать собственное имя. Однако долгое время никто не пытался доказать это экспериментально. Разобраться с этой проблемой [решили учёные из Токийского университета.](https://nplus1.ru/news/2019/04/04/cat-name?utm_source=obrazovach&utm_medium=social&utm_campaign=yaponskie-uchenye-dokazali--chto-domashnie-k)\n",
    "\n",
    "Было проведено четыре эксперимента с участием домашних кошек и кошек из кошачьих кафе. Учёные использовали метод привыкания-отвыкания (habituation-dishabituation), который часто используется в экспериментах с участием маленьких детей.\n",
    "\n",
    "В соответствии с гипотезой, которая лежит в основе этого метода, определить реакцию на какой-либо стимул можно, представив его после схожих с ним стимулов. К примеру, для того, чтобы выяснить, может ли младенец узнать свое имя, ему представляют несколько слов подряд: с каждым новым словом его реакция снижается, но появление имени должно (в случае, если ребенок действительно узнает свое имя) ее вернуть. Этот же метод применили и к кошкам: реакция кошек на слова характеризовалась поворотом головы, движением ушей, вокализацией, движениями хвоста или перемещениями.\n",
    "\n",
    "В первом эксперименте исследователи проследили за реакцией кошек на собственное имя, произнесенное хозяином, после четырех существительных (16 кошек, живущих дома с двумя другими кошками или меньше). Данные об этом эксперименте находятся в табличке `cats_names.csv`."
   ]
  },
  {
   "cell_type": "code",
   "execution_count": 26,
   "id": "39d72520",
   "metadata": {
    "colab": {
     "base_uri": "https://localhost:8080/",
     "height": 206
    },
    "id": "39d72520",
    "outputId": "b3df1143-ee2e-440c-e069-042e2750f40b"
   },
   "outputs": [
    {
     "data": {
      "text/html": [
       "<div>\n",
       "<style scoped>\n",
       "    .dataframe tbody tr th:only-of-type {\n",
       "        vertical-align: middle;\n",
       "    }\n",
       "\n",
       "    .dataframe tbody tr th {\n",
       "        vertical-align: top;\n",
       "    }\n",
       "\n",
       "    .dataframe thead th {\n",
       "        text-align: right;\n",
       "    }\n",
       "</style>\n",
       "<table border=\"1\" class=\"dataframe\">\n",
       "  <thead>\n",
       "    <tr style=\"text-align: right;\">\n",
       "      <th></th>\n",
       "      <th>name</th>\n",
       "      <th>stimuli</th>\n",
       "      <th>Ear moving</th>\n",
       "      <th>Head moving</th>\n",
       "      <th>Tail moving</th>\n",
       "      <th>Vocalising</th>\n",
       "      <th>Displacement</th>\n",
       "      <th>Total Score</th>\n",
       "    </tr>\n",
       "  </thead>\n",
       "  <tbody>\n",
       "    <tr>\n",
       "      <th>0</th>\n",
       "      <td>Cr</td>\n",
       "      <td>Noun 1</td>\n",
       "      <td>1</td>\n",
       "      <td>0</td>\n",
       "      <td>0</td>\n",
       "      <td>0</td>\n",
       "      <td>0</td>\n",
       "      <td>1</td>\n",
       "    </tr>\n",
       "    <tr>\n",
       "      <th>1</th>\n",
       "      <td>Cr</td>\n",
       "      <td>Noun 2</td>\n",
       "      <td>1</td>\n",
       "      <td>1</td>\n",
       "      <td>0</td>\n",
       "      <td>0</td>\n",
       "      <td>0</td>\n",
       "      <td>2</td>\n",
       "    </tr>\n",
       "    <tr>\n",
       "      <th>2</th>\n",
       "      <td>Cr</td>\n",
       "      <td>Noun 3</td>\n",
       "      <td>1</td>\n",
       "      <td>1</td>\n",
       "      <td>0</td>\n",
       "      <td>0</td>\n",
       "      <td>0</td>\n",
       "      <td>2</td>\n",
       "    </tr>\n",
       "    <tr>\n",
       "      <th>3</th>\n",
       "      <td>Cr</td>\n",
       "      <td>Noun 4</td>\n",
       "      <td>0</td>\n",
       "      <td>0</td>\n",
       "      <td>0</td>\n",
       "      <td>0</td>\n",
       "      <td>0</td>\n",
       "      <td>0</td>\n",
       "    </tr>\n",
       "    <tr>\n",
       "      <th>4</th>\n",
       "      <td>Cr</td>\n",
       "      <td>Test Cat's Name</td>\n",
       "      <td>1</td>\n",
       "      <td>0</td>\n",
       "      <td>0</td>\n",
       "      <td>0</td>\n",
       "      <td>0</td>\n",
       "      <td>1</td>\n",
       "    </tr>\n",
       "  </tbody>\n",
       "</table>\n",
       "</div>"
      ],
      "text/plain": [
       "  name          stimuli  Ear moving  Head moving  Tail moving  Vocalising  \\\n",
       "0   Cr           Noun 1           1            0            0           0   \n",
       "1   Cr           Noun 2           1            1            0           0   \n",
       "2   Cr           Noun 3           1            1            0           0   \n",
       "3   Cr           Noun 4           0            0            0           0   \n",
       "4   Cr  Test Cat's Name           1            0            0           0   \n",
       "\n",
       "   Displacement  Total Score  \n",
       "0             0            1  \n",
       "1             0            2  \n",
       "2             0            2  \n",
       "3             0            0  \n",
       "4             0            1  "
      ]
     },
     "execution_count": 26,
     "metadata": {},
     "output_type": "execute_result"
    }
   ],
   "source": [
    "df = pd.read_csv(ROOT+'cats_names.csv', sep='\\t')\n",
    "df.head()"
   ]
  },
  {
   "cell_type": "markdown",
   "id": "c22d4eee",
   "metadata": {
    "id": "c22d4eee"
   },
   "source": [
    "Будем проверять гипотезу о том, что кошки понимают своё имя с помощью упрощённой процедуры:\n",
    "\n",
    "- Вытащим из таблички все строчки, где экспериментаторы называли $4-$ое существительное. Они помечены в колонке `stimuli` как `Noun 4`. Если в колонке `Total Score` стоит положительное число, будем считать, что кошка среагировала на слово. В вектор `noun4` запишем единицу. В противном случае — ноль.\n",
    "- Вытащим по аналогии информацию о том, откликнулась ли кошка на своё имя (пометка `Test Cat's Name`) в колонке `stimuli`. Запишем её в вектор `name`.\n",
    "- Используем тест о равенстве пропорций для зависимых выборок, чтобы ответить на вопрос \"А правда ли кошка откликается на своё имя?\" В переменную `pval` запишем $p$-значение, полученное при проверке этой гипотезы."
   ]
  },
  {
   "cell_type": "code",
   "execution_count": 27,
   "id": "82c70c3c",
   "metadata": {
    "id": "82c70c3c"
   },
   "outputs": [
    {
     "data": {
      "text/html": [
       "<div>\n",
       "<style scoped>\n",
       "    .dataframe tbody tr th:only-of-type {\n",
       "        vertical-align: middle;\n",
       "    }\n",
       "\n",
       "    .dataframe tbody tr th {\n",
       "        vertical-align: top;\n",
       "    }\n",
       "\n",
       "    .dataframe thead th {\n",
       "        text-align: right;\n",
       "    }\n",
       "</style>\n",
       "<table border=\"1\" class=\"dataframe\">\n",
       "  <thead>\n",
       "    <tr style=\"text-align: right;\">\n",
       "      <th></th>\n",
       "      <th>noun4</th>\n",
       "      <th>name</th>\n",
       "    </tr>\n",
       "  </thead>\n",
       "  <tbody>\n",
       "    <tr>\n",
       "      <th>0</th>\n",
       "      <td>0</td>\n",
       "      <td>1</td>\n",
       "    </tr>\n",
       "    <tr>\n",
       "      <th>1</th>\n",
       "      <td>1</td>\n",
       "      <td>0</td>\n",
       "    </tr>\n",
       "    <tr>\n",
       "      <th>2</th>\n",
       "      <td>1</td>\n",
       "      <td>1</td>\n",
       "    </tr>\n",
       "    <tr>\n",
       "      <th>3</th>\n",
       "      <td>0</td>\n",
       "      <td>0</td>\n",
       "    </tr>\n",
       "    <tr>\n",
       "      <th>4</th>\n",
       "      <td>1</td>\n",
       "      <td>1</td>\n",
       "    </tr>\n",
       "    <tr>\n",
       "      <th>5</th>\n",
       "      <td>1</td>\n",
       "      <td>1</td>\n",
       "    </tr>\n",
       "    <tr>\n",
       "      <th>6</th>\n",
       "      <td>0</td>\n",
       "      <td>1</td>\n",
       "    </tr>\n",
       "    <tr>\n",
       "      <th>7</th>\n",
       "      <td>1</td>\n",
       "      <td>1</td>\n",
       "    </tr>\n",
       "    <tr>\n",
       "      <th>8</th>\n",
       "      <td>0</td>\n",
       "      <td>1</td>\n",
       "    </tr>\n",
       "    <tr>\n",
       "      <th>9</th>\n",
       "      <td>1</td>\n",
       "      <td>1</td>\n",
       "    </tr>\n",
       "    <tr>\n",
       "      <th>10</th>\n",
       "      <td>1</td>\n",
       "      <td>1</td>\n",
       "    </tr>\n",
       "    <tr>\n",
       "      <th>11</th>\n",
       "      <td>0</td>\n",
       "      <td>1</td>\n",
       "    </tr>\n",
       "    <tr>\n",
       "      <th>12</th>\n",
       "      <td>1</td>\n",
       "      <td>1</td>\n",
       "    </tr>\n",
       "    <tr>\n",
       "      <th>13</th>\n",
       "      <td>1</td>\n",
       "      <td>1</td>\n",
       "    </tr>\n",
       "    <tr>\n",
       "      <th>14</th>\n",
       "      <td>1</td>\n",
       "      <td>1</td>\n",
       "    </tr>\n",
       "    <tr>\n",
       "      <th>15</th>\n",
       "      <td>0</td>\n",
       "      <td>1</td>\n",
       "    </tr>\n",
       "  </tbody>\n",
       "</table>\n",
       "</div>"
      ],
      "text/plain": [
       "    noun4  name\n",
       "0       0     1\n",
       "1       1     0\n",
       "2       1     1\n",
       "3       0     0\n",
       "4       1     1\n",
       "5       1     1\n",
       "6       0     1\n",
       "7       1     1\n",
       "8       0     1\n",
       "9       1     1\n",
       "10      1     1\n",
       "11      0     1\n",
       "12      1     1\n",
       "13      1     1\n",
       "14      1     1\n",
       "15      0     1"
      ]
     },
     "execution_count": 27,
     "metadata": {},
     "output_type": "execute_result"
    }
   ],
   "source": [
    "### ╰( ͡° ͜ʖ ͡° )つ▬▬ι═══════  bzzzzzzzzzz\n",
    "# your code below\n",
    "noun4 = df[df.stimuli=='Noun 4']['Total Score'].to_numpy()\n",
    "noun4[noun4 > 0] = 1\n",
    "name = df[df.stimuli==\"Test Cat's Name\"]['Total Score'].to_numpy()\n",
    "name[name > 0] = 1\n",
    "# здесь удобно создавать вот такую свободную таблицу\n",
    "t = pd.DataFrame({'noun4':noun4, 'name':name})\n",
    "t"
   ]
  },
  {
   "cell_type": "code",
   "execution_count": 28,
   "id": "bca63811",
   "metadata": {},
   "outputs": [
    {
     "name": "stdout",
     "output_type": "stream",
     "text": [
      "noun 4 mean: 0.625; name mean: 0.875\n"
     ]
    }
   ],
   "source": [
    "print(f'noun 4 mean: {noun4.mean()}; name mean: {name.mean()}')"
   ]
  },
  {
   "cell_type": "code",
   "execution_count": 29,
   "id": "05d5ff62",
   "metadata": {},
   "outputs": [],
   "source": [
    "a = len(t[(t.noun4 == 1) & (t.name == 1)])\n",
    "b = len(t[(t.noun4 == 1) & (t.name == 0)])\n",
    "c = len(t[(t.noun4 == 0) & (t.name == 1)])\n",
    "d = len(t[(t.noun4 == 0) & (t.name == 0)])"
   ]
  },
  {
   "cell_type": "code",
   "execution_count": 30,
   "id": "ea972bf4",
   "metadata": {},
   "outputs": [
    {
     "name": "stdout",
     "output_type": "stream",
     "text": [
      "a: 9; b: 1; c: 5; d: 1\n"
     ]
    }
   ],
   "source": [
    "print(f'a: {a}; b: {b}; c: {c}; d: {d}')"
   ]
  },
  {
   "cell_type": "markdown",
   "id": "f8262758",
   "metadata": {},
   "source": [
    "<font color=blue>\n",
    "    \n",
    "Проверим нулевую гипотезу о равенстве пропорций (доля откликов) для зависимых выборок $H_0: \\overline{\\text{name}} = \\overline{\\text{noun}_4}$ против правосторонней альтернативы $H_a: \\overline{\\text{name}} > \\overline{\\text{noun}_4}$. Для этого найдем статистику $z_{obs} = \\frac{c-b}{\\sqrt{c + b - \\frac{(c-b)^2}{n}}}\\underset{H_0}{\\overset{asy}{\\sim}} N(0,1)$, где $c$ - это число случаев, когда кошка не откликнулась на существительное, но откликнулась на имя, а $b$ - наоборот (откликнулась на имя, но не откликнулась на существительное). Альтернатива правосторонняя, поэтому $\\text{p-value} = 1 - \\mathbb{P}\\{N(0,1) \\leq z_{obs} | H_0\\}$\n",
    "    \n",
    "</font>"
   ]
  },
  {
   "cell_type": "code",
   "execution_count": 31,
   "id": "0bbe4ed9",
   "metadata": {
    "deletable": false,
    "id": "0bbe4ed9",
    "nbgrader": {
     "cell_type": "code",
     "checksum": "c019c2956f7e14de25568795f31f7dcc",
     "grade": false,
     "grade_id": "cell-4ab37a21e0f8a42c",
     "locked": false,
     "schema_version": 3,
     "solution": true,
     "task": false
    }
   },
   "outputs": [],
   "source": [
    "### ╰( ͡° ͜ʖ ͡° )つ▬▬ι═══════  bzzzzzzzzzz\n",
    "# your code below\n",
    "alpha = 0.05\n",
    "z_obs = (c - b) / np.sqrt(c + b - (c-b)**2/name.size)\n",
    "z_crit = stats.norm.ppf(1 - alpha)\n",
    "pval = (1 - stats.norm().cdf(z_obs))"
   ]
  },
  {
   "cell_type": "code",
   "execution_count": 32,
   "id": "1a056056",
   "metadata": {},
   "outputs": [
    {
     "name": "stdout",
     "output_type": "stream",
     "text": [
      "z_obs: 1.7889 p_value: 0.0368 z_crit: 1.6449\n"
     ]
    }
   ],
   "source": [
    "print(f'z_obs: {z_obs:.4f} p_value: {pval:.4f} z_crit: {z_crit:.4f}')"
   ]
  },
  {
   "cell_type": "markdown",
   "id": "c720d77b",
   "metadata": {},
   "source": [
    "<font color=blue>\n",
    "    \n",
    "Найденный $\\text{p-value} \\approx 0.0368 $, говорит о том, что для уровня значимости $\\alpha=0.05$ нулевую гипотезу следует отвергнуть (т.е. принять тот факт, что кошки скорее откликаются на свое имя, чем нет), но уже для уровня значимости $\\alpha=0.03$ - это гипотезу можно принять. Т.е. уверенно отвергнуть нулевую гипотезу мы не можем.\n",
    "    \n",
    "</font>"
   ]
  },
  {
   "cell_type": "code",
   "execution_count": 33,
   "id": "79de9e5d",
   "metadata": {
    "deletable": false,
    "editable": false,
    "id": "79de9e5d",
    "nbgrader": {
     "cell_type": "code",
     "checksum": "017ca952bd4b618680f94b4eb603e091",
     "grade": true,
     "grade_id": "cell-473051ae67ddc9a6",
     "locked": true,
     "points": 1,
     "schema_version": 3,
     "solution": false,
     "task": false
    }
   },
   "outputs": [],
   "source": [
    "# проверка того, что задание решено верно\n",
    "assert sum(name) == 14\n",
    "assert np.abs(z_obs - 1.7888543819998317) < 1e-5\n"
   ]
  },
  {
   "cell_type": "markdown",
   "id": "a7dec136",
   "metadata": {
    "id": "a7dec136"
   },
   "source": [
    "Выводы учёных могут отличаться от наших. Результат проверки гипотезы зависит от многих внешних факторов. Например, от громкости произнесённого кошачьего имени. Все такие факторы надо как-то изолировать.\n",
    "\n",
    "[В оригинальном исследовании](https://www.nature.com/articles/s41598-019-40616-4) учёные реализовывали более сложные статистические процедуры. Они пытались проконтролировать все внешние факторы, которые могли бы повлиять на результаты эксперимента.\n",
    "\n",
    "![](https://cdn.nplus1.ru/images/2019/04/04/47a222337ec0984bcec1644f12b4c328.gif)"
   ]
  },
  {
   "cell_type": "markdown",
   "id": "af4a9da7",
   "metadata": {
    "id": "af4a9da7"
   },
   "source": [
    "## Матан\n",
    "\n",
    "Лекции по матану на экономическом факультете читают два преподавателя: Злой и Добрый. Каждый год они чередуются. Среди студентов ходит слух, что в год, когда преподаёт Злой, отчисляют куда больше народу. В таблице `matan.csv` лежит информация по $418$ студентам экономического факультета.\n",
    "\n",
    "В столбце `is_angry` стоит единица, если этому студенту преподавал Злой. В столбце `target_1` стоит единица, если человек закончил первый курс. Проверьте гипотезу о том, что Злой отчисляет больше народу. В переменную `pval` запишите $p$-значение, получившееся при проверке гипотезы."
   ]
  },
  {
   "cell_type": "code",
   "execution_count": 34,
   "id": "89bce3c7",
   "metadata": {
    "colab": {
     "base_uri": "https://localhost:8080/",
     "height": 206
    },
    "id": "89bce3c7",
    "outputId": "18c59e87-6dbc-42b2-f7d6-ccef791778f0"
   },
   "outputs": [
    {
     "data": {
      "text/html": [
       "<div>\n",
       "<style scoped>\n",
       "    .dataframe tbody tr th:only-of-type {\n",
       "        vertical-align: middle;\n",
       "    }\n",
       "\n",
       "    .dataframe tbody tr th {\n",
       "        vertical-align: top;\n",
       "    }\n",
       "\n",
       "    .dataframe thead th {\n",
       "        text-align: right;\n",
       "    }\n",
       "</style>\n",
       "<table border=\"1\" class=\"dataframe\">\n",
       "  <thead>\n",
       "    <tr style=\"text-align: right;\">\n",
       "      <th></th>\n",
       "      <th>is_angry</th>\n",
       "      <th>target_1</th>\n",
       "    </tr>\n",
       "  </thead>\n",
       "  <tbody>\n",
       "    <tr>\n",
       "      <th>0</th>\n",
       "      <td>0</td>\n",
       "      <td>1.0</td>\n",
       "    </tr>\n",
       "    <tr>\n",
       "      <th>1</th>\n",
       "      <td>0</td>\n",
       "      <td>1.0</td>\n",
       "    </tr>\n",
       "    <tr>\n",
       "      <th>2</th>\n",
       "      <td>0</td>\n",
       "      <td>1.0</td>\n",
       "    </tr>\n",
       "    <tr>\n",
       "      <th>3</th>\n",
       "      <td>0</td>\n",
       "      <td>0.0</td>\n",
       "    </tr>\n",
       "    <tr>\n",
       "      <th>4</th>\n",
       "      <td>0</td>\n",
       "      <td>1.0</td>\n",
       "    </tr>\n",
       "  </tbody>\n",
       "</table>\n",
       "</div>"
      ],
      "text/plain": [
       "   is_angry  target_1\n",
       "0         0       1.0\n",
       "1         0       1.0\n",
       "2         0       1.0\n",
       "3         0       0.0\n",
       "4         0       1.0"
      ]
     },
     "execution_count": 34,
     "metadata": {},
     "output_type": "execute_result"
    }
   ],
   "source": [
    "df = pd.read_csv(ROOT+'matan.csv', sep='\\t')\n",
    "df.head()"
   ]
  },
  {
   "cell_type": "code",
   "execution_count": 35,
   "id": "ac46955c",
   "metadata": {},
   "outputs": [],
   "source": [
    "df = df.dropna()"
   ]
  },
  {
   "cell_type": "code",
   "execution_count": 36,
   "id": "2a412ad4",
   "metadata": {},
   "outputs": [],
   "source": [
    "x = df[df.is_angry==0].target_1.to_numpy() # выборка студентов, слушавших доброго преподавателя\n",
    "y = df[df.is_angry==1].target_1.to_numpy() # выборка студентов, слушавших злого преподавателя"
   ]
  },
  {
   "cell_type": "code",
   "execution_count": 37,
   "id": "0a809b5e",
   "metadata": {},
   "outputs": [
    {
     "name": "stdout",
     "output_type": "stream",
     "text": [
      "доля отчислeнных добрым препом: 0.28; злым: 0.26\n"
     ]
    }
   ],
   "source": [
    "print(f'доля отчислeнных добрым препом: {1 - x.mean():.2f}; злым: {1 - y.mean():.2f}')"
   ]
  },
  {
   "cell_type": "markdown",
   "id": "63c6eca8",
   "metadata": {},
   "source": [
    "<font color=blue>\n",
    "    \n",
    "Как видно фактическая доля отчисленных студентов злым преподавателем меньше доли для доброго, т.е. гипотезу о том, что злой отчисляет чаще доброго уже можно отвергнуть. Но мы можем проверить нулевую гипотезу, о том что эти доли равны $H_0: p_x = p_y$, против двусторонней альтернативы $H_a: p_x \\neq p_y$. Для этого необходимо посчитать $z$ статистику $z_{obs} = \\frac{p_x-p_y}{\\sqrt{p\\cdot(1-p)(1/n_x+1/n_y)}}$, где $p=\\frac{m_x+m_y}{n_x+n_y}$. А т.к. альтернатива двусторонняя, то $\\text{p-value} = 2 \\cdot (1 - \\mathbb{P}\\{N(0,1) \\leq z_{obs} | H_0\\})$\n",
    "   \n",
    "</font>    "
   ]
  },
  {
   "cell_type": "code",
   "execution_count": 38,
   "id": "73b1f16c",
   "metadata": {
    "deletable": false,
    "id": "73b1f16c",
    "nbgrader": {
     "cell_type": "code",
     "checksum": "3ac2faf1e5b216db1ab097b8d456f1f6",
     "grade": false,
     "grade_id": "cell-06da65b1aca523bb",
     "locked": false,
     "schema_version": 3,
     "solution": true,
     "task": false
    }
   },
   "outputs": [],
   "source": [
    "### ╰( ͡° ͜ʖ ͡° )つ▬▬ι═══════  bzzzzzzzzzz\n",
    "# your code below\n",
    "alpha = 0.05\n",
    "p = df.target_1.mean()\n",
    "p_x = 1 - x.mean()\n",
    "p_y = 1 - y.mean()\n",
    "z_obs = (p_x - p_y)/np.sqrt(p*(1-p)*(1/x.size + 1/y.size))\n",
    "z_crit = stats.norm().ppf(1-alpha/2)\n",
    "pval = 2 * (1 - stats.norm().cdf(z_obs))"
   ]
  },
  {
   "cell_type": "code",
   "execution_count": 39,
   "id": "f0115d2c",
   "metadata": {},
   "outputs": [
    {
     "name": "stdout",
     "output_type": "stream",
     "text": [
      "z_obs: 0.2990; p-value: 0.7650; z_crit: 1.9600\n"
     ]
    }
   ],
   "source": [
    "print(f'z_obs: {z_obs:.4f}; p-value: {pval:.4f}; z_crit: {z_crit:.4f}')"
   ]
  },
  {
   "cell_type": "markdown",
   "id": "8b55df4e",
   "metadata": {},
   "source": [
    "<font color=blue>\n",
    "    \n",
    "Получилось очень большое значение $\\text{p-value}\\approx 0.7650$, т.е. нулевую гипотезу можно принять на любом разумном уровне значимости $\\alpha$.\n",
    "    \n",
    "</font>    "
   ]
  },
  {
   "cell_type": "code",
   "execution_count": 40,
   "id": "0d2c7f2b",
   "metadata": {
    "id": "0d2c7f2b"
   },
   "outputs": [],
   "source": [
    "# проверка того, что задание решено верно\n",
    "assert np.abs(np.abs(z_obs) - 0.29897)  < 1e-5\n"
   ]
  },
  {
   "cell_type": "markdown",
   "id": "01fc66ba",
   "metadata": {
    "id": "01fc66ba"
   },
   "source": [
    "## Бутерброд\n",
    "\n",
    "Вася решил проверить известное утверждение о том, что бутерброд падает маслом вниз. Для этого он провёл серию из $200$ испытаний. Бутерброд упал маслом вниз $105$ раз. Маслом вверх $95$ раз. Можно ли утверждать, что бутерброд падает маслом вниз так же часто, как и маслом вверх на уровне значимости $5\\%$? В качестве ответа сохраните в `pval` $p$-значение.\n",
    "\n",
    "__Примечание:__ для поиска дисперсии используйте смещённый вариант. Либо по формуле $\\frac{p\\cdot(1-p)}{n}$ либо с помощью `std(ddof=0)`. При поиске `pval` обратите внимание, что алтернатива двусторонняя."
   ]
  },
  {
   "cell_type": "markdown",
   "id": "f4d4da9f",
   "metadata": {},
   "source": [
    "<font color=blue>\n",
    "\n",
    "Проверим на уровне значимости $\\alpha=0.05$ нулевую гипотезу о том, что частота падения бутерброда маслом вниз $p$ такая же как и маслом вверх, т.е. $H_0: p = 0.5$ против двусторонней альтернативы $H_a: p\\neq 0.5$. Для этого найдем статистику $z_{obs}=\\frac{\\hat{p}-0.5}{\\sqrt{\\frac{\\hat{p}(1-\\hat{p})}{n}}}$. Альтернатива двусторонняя поэтому $\\text{p-value}=2 \\cdot(1 - \\mathbb{P}\\{N(0,1) \\leq z_{obs} | H_0\\})$\n",
    "\n",
    "</font>"
   ]
  },
  {
   "cell_type": "code",
   "execution_count": 41,
   "id": "9accde1b",
   "metadata": {
    "deletable": false,
    "id": "9accde1b",
    "nbgrader": {
     "cell_type": "code",
     "checksum": "32402f85ea10dfa3f248e44f703663e5",
     "grade": false,
     "grade_id": "cell-db59ee9982bc3985",
     "locked": false,
     "schema_version": 3,
     "solution": true,
     "task": false
    }
   },
   "outputs": [],
   "source": [
    "### ╰( ͡° ͜ʖ ͡° )つ▬▬ι═══════  bzzzzzzzzzz\n",
    "# your code below\n",
    "\n",
    "n = 200\n",
    "m = 105\n",
    "alpha = 0.05\n",
    "\n",
    "p_hat = m/n\n",
    "\n",
    "z_obs = (p_hat - 0.5)/np.sqrt(p_hat * (1 - p_hat)/n)\n",
    "z_crit = stats.norm().ppf(1-alpha/2)\n",
    "pval = 2 * (1 - stats.norm().cdf(z_obs))"
   ]
  },
  {
   "cell_type": "code",
   "execution_count": 42,
   "id": "59f39cd5",
   "metadata": {},
   "outputs": [
    {
     "name": "stdout",
     "output_type": "stream",
     "text": [
      "z_obs: 0.7080; z_crit: 1.9600; p-value: 0.4790\n"
     ]
    }
   ],
   "source": [
    "print(f'z_obs: {z_obs:.4f}; z_crit: {z_crit:.4f}; p-value: {pval:.4f}')"
   ]
  },
  {
   "cell_type": "markdown",
   "id": "efbd1ee4",
   "metadata": {},
   "source": [
    "<font color=blue>\n",
    "    \n",
    "Получили, что $z_{obs} < z_{crit}$, т.е. нулевую гипотезу можно принять на уровне значимости $\\alpha = 0.05$. При этом $\\text{p-value} \\approx 0.4790$, т.е. нулевая гипотеза может быть принята на любом разумном уровне значимости $\\alpha < 0.479$.    \n",
    "\n",
    "</font>"
   ]
  },
  {
   "cell_type": "code",
   "execution_count": 43,
   "id": "15305266",
   "metadata": {
    "id": "15305266"
   },
   "outputs": [],
   "source": [
    "# проверка того, что задание решено верно\n",
    "assert np.abs(z_obs - 0.707) < 1e-3"
   ]
  },
  {
   "cell_type": "markdown",
   "id": "7664cc86",
   "metadata": {
    "id": "7664cc86"
   },
   "source": [
    "# Часть 2: Продолжаем проверять гипотезы\n"
   ]
  },
  {
   "cell_type": "markdown",
   "id": "749a0a6f",
   "metadata": {
    "id": "749a0a6f"
   },
   "source": [
    "## Однородная игра\n",
    "\n",
    "Киллер - это весёлая лагерная игра. Краткие правила игры:\n",
    "\n",
    "- Игроки пишут свои имена на карточках и кладут их в шляпу\n",
    "- Игроки рандомно вытаскивают карточки из шляпы\n",
    "- Полученное имя - имя жертвы\n",
    "- Каждый игрок одновременно и убийца и жертва\n",
    "- Чтобы убить другого игрока, надо оказаться с ним наедине и застрелить из пальца\n",
    "- Жертва убитого становится новой жертвой игрока\n",
    "- Побеждает тот, кто совершит наибольшее число убийств\n",
    "\n",
    "На экономическом факультете было два раунда игры в киллера. Все убийства регистрировались в гугл-форме. В табличках `killer_time1.csv` и `killer_time2.csv` лежит время в часах, которое проходило между убийствами."
   ]
  },
  {
   "cell_type": "code",
   "execution_count": 44,
   "id": "9d858db7",
   "metadata": {
    "id": "9d858db7"
   },
   "outputs": [],
   "source": [
    "killer1 = pd.read_csv(ROOT+\"killer_time1.csv\").hours_between_kill.values\n",
    "killer2 = pd.read_csv(ROOT+\"killer_time2.csv\").hours_between_kill.values"
   ]
  },
  {
   "cell_type": "code",
   "execution_count": 45,
   "id": "787c76fe",
   "metadata": {
    "colab": {
     "base_uri": "https://localhost:8080/",
     "height": 265
    },
    "id": "787c76fe",
    "outputId": "539b856f-6072-4a9f-bc68-983b00357b35"
   },
   "outputs": [
    {
     "data": {
      "image/png": "[encoded data removed]",
      "text/plain": [
       "<Figure size 640x480 with 1 Axes>"
      ]
     },
     "metadata": {},
     "output_type": "display_data"
    }
   ],
   "source": [
    "plt.hist(killer1, bins=20);"
   ]
  },
  {
   "cell_type": "code",
   "execution_count": 46,
   "id": "9d53b420",
   "metadata": {
    "colab": {
     "base_uri": "https://localhost:8080/",
     "height": 265
    },
    "id": "9d53b420",
    "outputId": "80aa38e2-965f-4e38-a6f4-d6debe07cae1"
   },
   "outputs": [
    {
     "data": {
      "image/png": "[encoded data removed]",
      "text/plain": [
       "<Figure size 640x480 with 1 Axes>"
      ]
     },
     "metadata": {},
     "output_type": "display_data"
    }
   ],
   "source": [
    "plt.hist(killer2, bins=20);"
   ]
  },
  {
   "cell_type": "markdown",
   "id": "dae9cef6",
   "metadata": {
    "id": "dae9cef6"
   },
   "source": [
    "Распределение выглядит, как экспоненциальное. Более того, по гистограммам возникает ощущение, что это одинаковое распределение. С помощью теста Колмогорова-Смирнова проверьте гипотезу о том, что обе выборки пришли из одного и того же распределения, $p$-значение, полученное при проверке запишите в переменную `pvalue1`."
   ]
  },
  {
   "cell_type": "code",
   "execution_count": 47,
   "id": "9d8e5e5b",
   "metadata": {
    "deletable": false,
    "id": "9d8e5e5b",
    "nbgrader": {
     "cell_type": "code",
     "checksum": "44fb3b5304225f3947fbd73bc67a3d44",
     "grade": false,
     "grade_id": "cell-f8134e5d39cba5cd",
     "locked": false,
     "schema_version": 3,
     "solution": true,
     "task": false
    }
   },
   "outputs": [
    {
     "name": "stdout",
     "output_type": "stream",
     "text": [
      "p-value 1: 0.5452509816793373\n"
     ]
    }
   ],
   "source": [
    "### ╰( ͡° ͜ʖ ͡° )つ▬▬ι═══════  bzzzzzzzzzz\n",
    "# your code below\n",
    "\n",
    "pvalue1 = stats.ks_2samp(killer1, killer2).pvalue\n",
    "\n",
    "print(f'p-value 1: {pvalue1}')"
   ]
  },
  {
   "cell_type": "markdown",
   "id": "856ab40b",
   "metadata": {},
   "source": [
    "<font color=blue>\n",
    "    \n",
    "$\\text{p-value} > 0.5$, т.е. при любом разумном уровне значимости $\\alpha$ можно принять нулевую гипотезу о том, что выборки пришли из одного распределения.  \n",
    "    \n",
    "</font>"
   ]
  },
  {
   "cell_type": "markdown",
   "id": "fc783c07",
   "metadata": {
    "id": "fc783c07"
   },
   "source": [
    "С помощью теста Колмогорова проверьте гипотезу о том, что время для первой игры имеет экспоненциальное распределение с параметром $\\lambda = 0.026$, $p$-значение, полученное при проверке запишите в переменную `pvalue2`."
   ]
  },
  {
   "cell_type": "code",
   "execution_count": 48,
   "id": "d1981c12",
   "metadata": {
    "deletable": false,
    "id": "d1981c12",
    "nbgrader": {
     "cell_type": "code",
     "checksum": "b4e27fa1c6f0366a2e938430173a15b3",
     "grade": false,
     "grade_id": "cell-da5a87e744840bab",
     "locked": false,
     "schema_version": 3,
     "solution": true,
     "task": false
    }
   },
   "outputs": [
    {
     "name": "stdout",
     "output_type": "stream",
     "text": [
      "p-value 2: 0.057352105478026605\n"
     ]
    }
   ],
   "source": [
    "### ╰( ͡° ͜ʖ ͡° )つ▬▬ι═══════  bzzzzzzzzzz\n",
    "# your code below\n",
    "l = 0.026\n",
    "pvalue2 = stats.kstest(killer1, \"expon\", args=(0, 1/l)).pvalue\n",
    "\n",
    "print(f'p-value 2: {pvalue2}')"
   ]
  },
  {
   "cell_type": "markdown",
   "id": "24c8f0d7",
   "metadata": {},
   "source": [
    "<font color=blue>\n",
    "    \n",
    "$\\text{p-value} \\approx 0.0573 > 0.05$ , т.е. при уровне значимости $\\alpha=5\\%$ нулевая гипотеза о том, что время для первой игры имеет экспоненциальное распределение с параметром $\\lambda = 0.026$ принимается.    \n",
    "    \n",
    "</font>    "
   ]
  },
  {
   "cell_type": "code",
   "execution_count": 49,
   "id": "9c918c4e",
   "metadata": {
    "deletable": false,
    "editable": false,
    "id": "9c918c4e",
    "nbgrader": {
     "cell_type": "code",
     "checksum": "92729497f6a2fc0d98bc3610e4f4c72d",
     "grade": true,
     "grade_id": "cell-be55b7fce581170d",
     "locked": true,
     "points": 2,
     "schema_version": 3,
     "solution": false,
     "task": false
    }
   },
   "outputs": [],
   "source": [
    "# проверка того, что задание решено верно\n",
    "assert pvalue1 > 0.5\n"
   ]
  },
  {
   "cell_type": "markdown",
   "id": "76867c7d",
   "metadata": {
    "id": "76867c7d"
   },
   "source": [
    "## Мыши и зеркало\n",
    "\n",
    "$16$ лабораторных мышей были помещены в двухкомнатные клетки, в одной из комнат висело зеркало. С целью установить, есть ли у мышей какие-то предпочтения насчет зеркал, измерялась доля времени, которое каждая мышь проводила в каждой из своих двух клеток.\n",
    "\n",
    "![](https://ars.els-cdn.com/content/image/1-s2.0-S0168159104000061-gr1.gif)\n",
    "\n",
    "В файле `mouses_mirror.txt` лежит информация о том, какую долю времени мышка проводила в клетке с зеркалом."
   ]
  },
  {
   "cell_type": "code",
   "execution_count": 50,
   "id": "6b3b0f01",
   "metadata": {
    "colab": {
     "base_uri": "https://localhost:8080/",
     "height": 265
    },
    "id": "6b3b0f01",
    "outputId": "570e0b2e-4b54-44bc-a851-7793e4c6abdc"
   },
   "outputs": [
    {
     "data": {
      "image/png": "[encoded data removed]",
      "text/plain": [
       "<Figure size 640x480 with 1 Axes>"
      ]
     },
     "metadata": {},
     "output_type": "display_data"
    }
   ],
   "source": [
    "x = pd.read_csv(ROOT+'mouses_mirror.txt', header = None)[0].values\n",
    "plt.hist(x, density=True);"
   ]
  },
  {
   "cell_type": "markdown",
   "id": "e3139151",
   "metadata": {},
   "source": [
    "<font color=blue>\n",
    "    \n",
    "по гистограмме можно заметить, что мыши больше предпочитали проводить время в отделении без зеркала.    \n",
    "    \n",
    "</font>    "
   ]
  },
  {
   "cell_type": "markdown",
   "id": "c8909f38",
   "metadata": {
    "id": "c8909f38"
   },
   "source": [
    "Проверьте гипотезу о том, что мышкам безразлично в какой комнате проводить время с помощью критерия знаков. Сформулируйте нулевую гипотезу, перечислите основные особенности этого критерия. Запишите в переменную `pvalue_1` получившееся в результате этого $p$-значение."
   ]
  },
  {
   "cell_type": "markdown",
   "id": "f81f9bff",
   "metadata": {},
   "source": [
    "<font color=blue>\n",
    "    \n",
    "С помощью критерия знаков проверим нулевую гипотезу, о том,что медианное значение доли времени (пусть это сл. величина $X$), которое мышь проводит в комнате с зеркалом равна $0.5$, т.е. $H_0: Med(X) = 0.5$ против двусторонней альтернативы $H_a: Med(X) \\neq 0.5$. Особенность этого критерия в том, что им сложно отвергнуть нулевую гипотезу. Кроме того он не чувствителен к величине колебаниий значений в выборке - важна только позиция в вариационном ряду. Также  критерий знаков не использует никаких данных о характере распределения, что позволяет его применять в широком спектре ситуаций.\n",
    "    \n",
    "</font>    "
   ]
  },
  {
   "cell_type": "code",
   "execution_count": 51,
   "id": "defbade7",
   "metadata": {
    "deletable": false,
    "id": "defbade7",
    "nbgrader": {
     "cell_type": "code",
     "checksum": "69c18cd39cdcc6708cc99b3d2034796a",
     "grade": false,
     "grade_id": "cell-6b6cc3cc3f9d2e2d",
     "locked": false,
     "schema_version": 3,
     "solution": true,
     "task": false
    }
   },
   "outputs": [
    {
     "name": "stdout",
     "output_type": "stream",
     "text": [
      "pvalue 1: 0.0213; T: -5.0\n"
     ]
    }
   ],
   "source": [
    "### ╰( ͡° ͜ʖ ͡° )つ▬▬ι═══════  bzzzzzzzzzz\n",
    "# your code below\n",
    "from statsmodels.stats.descriptivestats import sign_test\n",
    "med_0 = 0.5\n",
    "T, pvalue_1 = sign_test(x, mu0=med_0)\n",
    "\n",
    "print(f'pvalue 1: {pvalue_1:.4f}; T: {T}')"
   ]
  },
  {
   "cell_type": "markdown",
   "id": "1ce97e24",
   "metadata": {},
   "source": [
    "<font color=blue>\n",
    "    \n",
    "$\\text{p-value}=0.0213$, т.е. нулевую гипотезу можно принять на уровне $\\alpha=0.02$, но на уровне $\\alpha=0.05$ уже можно отвергнуть.    \n",
    "    \n",
    "</font>"
   ]
  },
  {
   "cell_type": "markdown",
   "id": "cb85104c",
   "metadata": {
    "id": "cb85104c"
   },
   "source": [
    "Проверьте гипотезу о том, что мышкам безразлично в какой комнате проводить время с помощью теста Вилкоксона. Сформулируйте нулевую гипотезу, перечислите основные особенности этого критерия.  Запишите в переменную `pvalue_2` получившееся в результате этого $p$-значение."
   ]
  },
  {
   "cell_type": "markdown",
   "id": "53af00d5",
   "metadata": {},
   "source": [
    "<font color=blue>\n",
    "    \n",
    "Проверим нулевую гипотезу $H_0: Med(X)=0.5$ против гипотезы $H_a: Med(X)\\neq0.5$ с помощью теста Вилкоксона. \n",
    "\n",
    "- Тест Вилкоксона не делает предположений о распределении данных, что делает его подходящим для данных, которые не следуют нормальному распределению-\n",
    "- Суть метода состоит в сопоставлении абсолютных величин выраженности сдвигов в том или ином направлении.\n",
    "- Все абсолютные величины сдвигов ранжируются, а затем суммируются ранги.\n",
    "- Тест Вилкоксона применим в тех случаях, когда признаки измерены, по крайней мере, в порядковой шкале.\n",
    "- Эффективнее применять критерий, если разброс значений достаточно широк, например от -30 до 30.\n",
    "    \n",
    "</font>"
   ]
  },
  {
   "cell_type": "code",
   "execution_count": 52,
   "id": "d0ffce2b",
   "metadata": {
    "deletable": false,
    "id": "d0ffce2b",
    "nbgrader": {
     "cell_type": "code",
     "checksum": "810237e6b508833ff45a566c9122dc2d",
     "grade": false,
     "grade_id": "cell-689716dd8c46567c",
     "locked": false,
     "schema_version": 3,
     "solution": true,
     "task": false
    }
   },
   "outputs": [
    {
     "name": "stdout",
     "output_type": "stream",
     "text": [
      "p-value 2: 0.0934, w: 35.0\n"
     ]
    }
   ],
   "source": [
    "### ╰( ͡° ͜ʖ ͡° )つ▬▬ι═══════  bzzzzzzzzzz\n",
    "# your code below\n",
    "w, pvalue_2 = stats.wilcoxon(x-med_0)\n",
    "\n",
    "print(f'p-value 2: {pvalue_2:.4f}, w: {w}')"
   ]
  },
  {
   "cell_type": "markdown",
   "id": "68092b2d",
   "metadata": {},
   "source": [
    "<font color=blue>\n",
    "    \n",
    "$\\text{p-value} \\approx 0.0934 > 0.05$, т.е. на уровне значимости $\\alpha = 0.05$ нулевая гипотеза принимается.    \n",
    "    \n",
    "</font>    "
   ]
  },
  {
   "cell_type": "markdown",
   "id": "0fe6cd88",
   "metadata": {
    "id": "0fe6cd88"
   },
   "source": [
    "Проверьте гипотезу о том, что мышкам безразлично в какой комнате проводить время с помощью асимптотического $z$-теста. Сформулируйте нулевую гипотезу, перечислите основные особенности этого критерия.  Запишите в переменную `pvalue_3` получившееся в результате этого $p$-значение."
   ]
  },
  {
   "cell_type": "markdown",
   "id": "02b93dc0",
   "metadata": {},
   "source": [
    "<font color=blue>\n",
    "Проверим нулевую гипотезу, предполагая, что среднее значение $\\bar{X}$ ассимптотически нормальная сл. величина, т.е.  гипотезу $H_0: \\bar{X}=0.5$, против гипотезы $H_a: \\bar{X}\\neq 0.5$ рассмотрев статистику $z_{obs} = \\frac{0.5 - \\bar{X}}{\\sqrt{\\frac{\\hat{\\sigma}^2}{n}}}\\sim N(0,1)$ (ассимптотически)\n",
    "\n",
    "\n",
    "</font>"
   ]
  },
  {
   "cell_type": "code",
   "execution_count": 53,
   "id": "ab6a527b",
   "metadata": {
    "deletable": false,
    "id": "ab6a527b",
    "nbgrader": {
     "cell_type": "code",
     "checksum": "b55c22e6795228bd3d57ea5a1e98c49a",
     "grade": false,
     "grade_id": "cell-4ce505503163ae74",
     "locked": false,
     "schema_version": 3,
     "solution": true,
     "task": false
    }
   },
   "outputs": [
    {
     "name": "stdout",
     "output_type": "stream",
     "text": [
      "p-value 3: 0.1346; z_obs: 1.4962\n"
     ]
    }
   ],
   "source": [
    "from statsmodels.stats.weightstats import ztest,zconfint\n",
    "\n",
    "### ╰( ͡° ͜ʖ ͡° )つ▬▬ι═══════  bzzzzzzzzzz\n",
    "# your code below\n",
    "z_obs = (0.5 - x.mean())/np.sqrt(x.var(ddof=1)/x.size)\n",
    "pvalue_3 = 2 * (1 - stats.norm().cdf(z_obs))\n",
    "\n",
    "print(f'p-value 3: {pvalue_3:.4f}; z_obs: {z_obs:.4f}')"
   ]
  },
  {
   "cell_type": "markdown",
   "id": "b5620b02",
   "metadata": {},
   "source": [
    "<font color=blue>\n",
    "\n",
    "В этом критерии p-value стал еще больше $\\approx 0.1346$, т.е. нулевая гипотеза может приниматься с еще большей уверенностью (например при уровне значимости $\\alpha=0.1$).\n",
    "\n",
    "</font>"
   ]
  },
  {
   "cell_type": "code",
   "execution_count": 54,
   "id": "b3cf289c",
   "metadata": {
    "deletable": false,
    "editable": false,
    "id": "b3cf289c",
    "nbgrader": {
     "cell_type": "code",
     "checksum": "73290f06f31fe8c145c864dae9c02101",
     "grade": true,
     "grade_id": "cell-2f9dfc7c1834c8a5",
     "locked": true,
     "points": 2,
     "schema_version": 3,
     "solution": false,
     "task": false
    }
   },
   "outputs": [],
   "source": [
    "# проверка того, что задание решено верно\n",
    "assert pvalue_1 < 0.05\n",
    "assert pvalue_2 > 0.05\n",
    "assert pvalue_3 > 0.05\n"
   ]
  },
  {
   "cell_type": "markdown",
   "id": "f992ece2",
   "metadata": {
    "id": "f992ece2"
   },
   "source": [
    "Объясните, почему `pvalue` от теста к тесту ведёт себя именно так. Подробнее про опыт с мышками читайте [в оригинальном исследовании.](https://www.sciencedirect.com/science/article/abs/pii/S0168159104000061)"
   ]
  },
  {
   "cell_type": "markdown",
   "id": "d296af0c",
   "metadata": {},
   "source": [
    "<font color=blue>\n",
    "    \n",
    "Чем больше информации о выборке использует критерий, тем больше и больше становится значение p-value, т.е. уверенность, с которой принимается нулевая гипотеза. Меньше всего информации использует критерий знаков - он учитывает только направление сдвига. Критерий Вилкоксона кроме направления сдвига учитывает абсолютную величину сдвига. А ассимптотический z-тест учитывает самое содержательное знание о данных - ассимптотический закон распределения среднего значения.     \n",
    "    \n",
    "</font>"
   ]
  },
  {
   "cell_type": "markdown",
   "id": "b33bdeb2",
   "metadata": {
    "id": "b33bdeb2"
   },
   "source": [
    "## Энергетик\n",
    "\n",
    "Исследовательница Глафира считает, что любовь к энергетическим напиткам и успешность сдачи экзамена по математической статистике должны быть как-то связаны. Опросив $200$ своих однокурсников, она получила следующие результаты:\n",
    "\n",
    "- Сдал, пьёт энергетик: 20\n",
    "- Сдал, не пьёт энергетик: 120\n",
    "- Завалил, пьёт энергетик: 40\n",
    "- Завалил, не пьёт энергетик: 20\n",
    "\n",
    "Правда ли, что энергетик оказывает на успешность сдачи экзамена какое-то влияние? Проверьте гипотезу с помощью критерия Пирсона. В качестве ответа запишите в переменную `pvalue` получившееся $p$-значение."
   ]
  },
  {
   "cell_type": "markdown",
   "id": "31898746",
   "metadata": {},
   "source": [
    "<font color=blue>\n",
    "    \n",
    "Проверим нулевую гипотезу о равенстве долей сдавших экзамен студентов $p_x = p_y$ в двух выборках (пивших и не пивших энергетик)  $H_0: p_x = p_y$ против альтернативы $H_a: p_x\\neq p_y$. Для этого для таблицы сопряженности 2x2 найдем статистику $\\sum_{j=1}^s \\frac{\\left(O_{j}-E_{j}\\right)^{2}}{E_{j}}\\sim \\chi^2_{(m - 1)(k - 1)}$ где $O_j$ - наблюдаемая частота (число событий) в j-ой ячейке таблицы, а $E_j$ - ожидаемая частота (тоже число событий) в j-ой ячейчке таблицы. В данном случае $s = 4\\, k=2\\,m=2$ (s  -  число ячеек, k - число строк, m - число столбцов)\n",
    "    \n",
    "Если:\n",
    "- 1-я ячейка - это те кто пьет и сдал\n",
    "- 2-я ячейка - это те кто пьет и не сдал\n",
    "- 3-я ячейка - это те кто не пьет и сдал\n",
    "- 4-я ячейка  - это те кто не пьет и не сдал\n",
    "\n",
    "Тогда:\n",
    "- $O_1 = 20\\,E_1 = \\frac{(20+120)\\cdot(20+40)}{200}=42$\n",
    "- $O_2 = 40\\,E_2 = \\frac{(40+20)\\cdot(20+40)}{200}=18$\n",
    "- $O_3 = 120\\,E_3 = \\frac{(120+20)\\cdot(120+20)}{200}=98$\n",
    "- $O_4 = 20\\,E_4 = \\frac{(20+40)\\cdot(120+20)}{200}=42$\n",
    "    \n",
    "И тогда $\\chi^2_{obs} \\left(= \\frac{(20-42)^2}{42} + \\frac{(40-18)^2}{18} + \\frac{(120-98)^2}{98} + \\frac{(20-42)^2}{42}\\right)\\sim\\chi^2_{1}$.\n",
    "    \n",
    "    \n",
    "</font>    "
   ]
  },
  {
   "cell_type": "code",
   "execution_count": 55,
   "id": "accf6629",
   "metadata": {
    "deletable": false,
    "id": "accf6629",
    "nbgrader": {
     "cell_type": "code",
     "checksum": "11b701a76c7cad856b9a90da5179b7fe",
     "grade": false,
     "grade_id": "cell-8806588bc0865379",
     "locked": false,
     "schema_version": 3,
     "solution": true,
     "task": false
    }
   },
   "outputs": [
    {
     "name": "stdout",
     "output_type": "stream",
     "text": [
      "chi2_obs: 54.8753; chi2_crit: 3.8415; p-value: 1.284528039491306e-13\n"
     ]
    }
   ],
   "source": [
    "### ╰( ͡° ͜ʖ ͡° )つ▬▬ι═══════  bzzzzzzzzzz\n",
    "# your code below\n",
    "alpha = 0.05\n",
    "obs = np.array([20, 40, 120, 20])\n",
    "ex = np.array([42, 18, 98, 42])\n",
    "chi2_obs = np.sum((obs - ex) ** 2 / ex)\n",
    "chi2_crit = stats.chi2(df=1).ppf(1 - alpha)\n",
    "pvalue = 1 - stats.chi2(df=1).cdf(chi2_obs)\n",
    "print(f'chi2_obs: {chi2_obs:.4f}; chi2_crit: {chi2_crit:.4f}; p-value: {pvalue}')\n"
   ]
  },
  {
   "cell_type": "markdown",
   "id": "c625e072",
   "metadata": {},
   "source": [
    "<font color=blue>\n",
    "    \n",
    "Вычислим для самопроверкии статистику и p-value с помощью встроенной в `scipy.stats` функции `chi2_contingency`. \n",
    "    \n",
    "</font>    "
   ]
  },
  {
   "cell_type": "code",
   "execution_count": 56,
   "id": "520e8af2",
   "metadata": {},
   "outputs": [
    {
     "name": "stdout",
     "output_type": "stream",
     "text": [
      "chi2: 54.8753; p-value: 1.2842596566074162e-13\n"
     ]
    }
   ],
   "source": [
    "table = [[20, 120], [40, 20]]\n",
    "chi2, pvalue2, _, _ = stats.chi2_contingency(table, correction=False)\n",
    "print(f'chi2: {chi2:.4f}; p-value: {pvalue2}')"
   ]
  },
  {
   "cell_type": "markdown",
   "id": "b747e8a7",
   "metadata": {},
   "source": [
    "<font color=blue>\n",
    "    \n",
    "Вычисления совпали!\n",
    "    \n",
    "</font>"
   ]
  },
  {
   "cell_type": "markdown",
   "id": "06a209e3",
   "metadata": {},
   "source": [
    "<font color=blue>\n",
    "    \n",
    "Таким образом p-value $\\approx 0$, т.е. нулевая гипотеза уверенно отвергается.\n",
    "    \n",
    "</font>"
   ]
  },
  {
   "cell_type": "code",
   "execution_count": 57,
   "id": "651b8e89",
   "metadata": {
    "deletable": false,
    "editable": false,
    "id": "651b8e89",
    "nbgrader": {
     "cell_type": "code",
     "checksum": "da1fdd962d58f234934cc003b1d90290",
     "grade": true,
     "grade_id": "cell-920f09f17b0aafde",
     "locked": true,
     "points": 2,
     "schema_version": 3,
     "solution": false,
     "task": false
    }
   },
   "outputs": [],
   "source": [
    "# проверка того, что задание решено верно\n",
    "assert pvalue < 0.05\n"
   ]
  },
  {
   "cell_type": "markdown",
   "id": "282ddbb9",
   "metadata": {
    "id": "282ddbb9"
   },
   "source": [
    "## Бомбардировки\n",
    "\n",
    "В таблице `london_07-09-1940.tsv` лежат данные о бомбардировке Лондона 7 сентября 1940 года немецкой авиацией. Интересно выяснить, насколько прицельно велась бомбардировка. Если немецкие войска знали, где именно находятся британские военные объекты, они вели бы бомбардировку пристрельно.  \n",
    "\n",
    "Ещё больше данных о бомбардировке Лондона ищите здесь: http://bombsight.org/data/sources/"
   ]
  },
  {
   "cell_type": "code",
   "execution_count": 58,
   "id": "6c6e713b",
   "metadata": {
    "colab": {
     "base_uri": "https://localhost:8080/",
     "height": 223
    },
    "id": "6c6e713b",
    "outputId": "8ed0b38a-b5dd-4b44-d8d9-694ad3ac527f"
   },
   "outputs": [
    {
     "name": "stdout",
     "output_type": "stream",
     "text": [
      "(751, 6)\n"
     ]
    },
    {
     "data": {
      "text/html": [
       "<div>\n",
       "<style scoped>\n",
       "    .dataframe tbody tr th:only-of-type {\n",
       "        vertical-align: middle;\n",
       "    }\n",
       "\n",
       "    .dataframe tbody tr th {\n",
       "        vertical-align: top;\n",
       "    }\n",
       "\n",
       "    .dataframe thead th {\n",
       "        text-align: right;\n",
       "    }\n",
       "</style>\n",
       "<table border=\"1\" class=\"dataframe\">\n",
       "  <thead>\n",
       "    <tr style=\"text-align: right;\">\n",
       "      <th></th>\n",
       "      <th>Time</th>\n",
       "      <th>Location</th>\n",
       "      <th>Type_of_bomb</th>\n",
       "      <th>Damage</th>\n",
       "      <th>x</th>\n",
       "      <th>y</th>\n",
       "    </tr>\n",
       "  </thead>\n",
       "  <tbody>\n",
       "    <tr>\n",
       "      <th>0</th>\n",
       "      <td>0:08</td>\n",
       "      <td>43 Southwark Park Road, SE16, London, UK</td>\n",
       "      <td>IB</td>\n",
       "      <td>Grocers: 3x2 roof damaged</td>\n",
       "      <td>-0.127660</td>\n",
       "      <td>51.507351</td>\n",
       "    </tr>\n",
       "    <tr>\n",
       "      <th>1</th>\n",
       "      <td>0:10</td>\n",
       "      <td>49 Southwark Park road, Bermondsey, SE16, Lond...</td>\n",
       "      <td>IB</td>\n",
       "      <td>Bakers: 3x2 roof damaged</td>\n",
       "      <td>-0.054303</td>\n",
       "      <td>51.487794</td>\n",
       "    </tr>\n",
       "    <tr>\n",
       "      <th>2</th>\n",
       "      <td>0:15</td>\n",
       "      <td>84 Southwark Park Road, SE16, London, UK</td>\n",
       "      <td>IB</td>\n",
       "      <td>front room on 1st floor and contents slightly ...</td>\n",
       "      <td>-0.127660</td>\n",
       "      <td>51.507351</td>\n",
       "    </tr>\n",
       "    <tr>\n",
       "      <th>3</th>\n",
       "      <td>0:18</td>\n",
       "      <td>141 Braidwood Road, Catford SE6, London, UK</td>\n",
       "      <td>IB</td>\n",
       "      <td>10x6 roof damage</td>\n",
       "      <td>-0.025584</td>\n",
       "      <td>51.443299</td>\n",
       "    </tr>\n",
       "    <tr>\n",
       "      <th>4</th>\n",
       "      <td>0:20</td>\n",
       "      <td>129 Killearn Road, Catford SE6, London, UK</td>\n",
       "      <td>IB</td>\n",
       "      <td>Front room on 1st floor severely damaged</td>\n",
       "      <td>-0.025584</td>\n",
       "      <td>51.443299</td>\n",
       "    </tr>\n",
       "  </tbody>\n",
       "</table>\n",
       "</div>"
      ],
      "text/plain": [
       "   Time                                           Location Type_of_bomb  \\\n",
       "0  0:08           43 Southwark Park Road, SE16, London, UK           IB   \n",
       "1  0:10  49 Southwark Park road, Bermondsey, SE16, Lond...           IB   \n",
       "2  0:15           84 Southwark Park Road, SE16, London, UK           IB   \n",
       "3  0:18        141 Braidwood Road, Catford SE6, London, UK           IB   \n",
       "4  0:20         129 Killearn Road, Catford SE6, London, UK           IB   \n",
       "\n",
       "                                              Damage         x          y  \n",
       "0                          Grocers: 3x2 roof damaged -0.127660  51.507351  \n",
       "1                           Bakers: 3x2 roof damaged -0.054303  51.487794  \n",
       "2  front room on 1st floor and contents slightly ... -0.127660  51.507351  \n",
       "3                                   10x6 roof damage -0.025584  51.443299  \n",
       "4           Front room on 1st floor severely damaged -0.025584  51.443299  "
      ]
     },
     "execution_count": 58,
     "metadata": {},
     "output_type": "execute_result"
    }
   ],
   "source": [
    "df = pd.read_csv(ROOT+'london_07-09-1940.tsv', sep='\\t')\n",
    "print(df.shape)\n",
    "df.head()"
   ]
  },
  {
   "cell_type": "code",
   "execution_count": 59,
   "id": "5a3470b1",
   "metadata": {
    "colab": {
     "base_uri": "https://localhost:8080/",
     "height": 265
    },
    "id": "5a3470b1",
    "outputId": "277d42aa-0812-4822-c8bc-0d8ce7eeb68c"
   },
   "outputs": [
    {
     "data": {
      "image/png": "[encoded data removed]",
      "text/plain": [
       "<Figure size 640x480 with 1 Axes>"
      ]
     },
     "metadata": {},
     "output_type": "display_data"
    }
   ],
   "source": [
    "plt.scatter(df.x, df.y);"
   ]
  },
  {
   "cell_type": "markdown",
   "id": "032165b8",
   "metadata": {
    "id": "032165b8"
   },
   "source": [
    "В колонках $x$ и $y$ лежат координаты точки, куда упала бомба. Разбейте Лондон решёткой размера $30 \\times 30$ на $900$ небольших квадратных участков. С помощью функции `binned_statistic_2d` из пакета `scipy.stats`, подсчитайте как часто снаряд попадал на какой из участков. Поместите информацию об этом в переменную `ret`."
   ]
  },
  {
   "cell_type": "code",
   "execution_count": 60,
   "id": "e80c2d63",
   "metadata": {
    "deletable": false,
    "id": "e80c2d63",
    "nbgrader": {
     "cell_type": "code",
     "checksum": "3d8e8a1156fdd06c8ae186fb41313b02",
     "grade": false,
     "grade_id": "cell-2a06adb25a0b5542",
     "locked": false,
     "schema_version": 3,
     "solution": true,
     "task": false
    }
   },
   "outputs": [
    {
     "data": {
      "image/png": "[encoded data removed]",
      "text/plain": [
       "<Figure size 640x480 with 2 Axes>"
      ]
     },
     "metadata": {},
     "output_type": "display_data"
    }
   ],
   "source": [
    "binx = np.linspace(df.x.min(), df.x.max(), 31)\n",
    "biny = np.linspace(df.y.min(), df.y.max(), 31)\n",
    "\n",
    "### ╰( ͡° ͜ʖ ͡° )つ▬▬ι═══════  bzzzzzzzzzz\n",
    "# your code below\n",
    "\n",
    "ret = stats.binned_statistic_2d(df.x, df.y, None, 'count', bins=[binx, biny])\n",
    "sns.heatmap(ret.statistic);"
   ]
  },
  {
   "cell_type": "markdown",
   "id": "632ed84f",
   "metadata": {
    "id": "632ed84f"
   },
   "source": [
    "Распакуйте информацию о попаданиях в участки в вектор `z`. Нарисуте гистограмму для получившегося распределения."
   ]
  },
  {
   "cell_type": "code",
   "execution_count": 61,
   "id": "3dc7dc06",
   "metadata": {
    "deletable": false,
    "id": "3dc7dc06",
    "nbgrader": {
     "cell_type": "code",
     "checksum": "3fbbdfb1fc38caf7a66e28a32e3d5cd5",
     "grade": false,
     "grade_id": "cell-1b692a90383e2eff",
     "locked": false,
     "schema_version": 3,
     "solution": true,
     "task": false
    }
   },
   "outputs": [
    {
     "data": {
      "image/png": "[encoded data removed]",
      "text/plain": [
       "<Figure size 640x480 with 1 Axes>"
      ]
     },
     "metadata": {},
     "output_type": "display_data"
    }
   ],
   "source": [
    "### ╰( ͡° ͜ʖ ͡° )つ▬▬ι═══════  bzzzzzzzzzz\n",
    "# your code below\n",
    "\n",
    "\n",
    "# Распаковка информации о попаданиях в участки в вектор z\n",
    "z = ret.statistic.flatten()\n",
    "\n",
    "# Построение гистограммы\n",
    "plt.hist(z, bins=30, edgecolor='black')\n",
    "plt.title('Распределение попаданий')\n",
    "plt.xlabel('Число попаданий в один участок')\n",
    "plt.ylabel('Число участков')\n",
    "plt.show()"
   ]
  },
  {
   "cell_type": "markdown",
   "id": "2f1a298d",
   "metadata": {
    "id": "2f1a298d"
   },
   "source": [
    "Участков много, а вероятность попадания на отдельный участок мала. При справедливости гипотезы о низкой точности стрельбы мы можем воспользоваться законом редких событий:\n",
    "\n",
    "> Если в схеме испытаний Бернулли $p \\to 0$, а $n \\to \\infty$, оно сходится к распределению Пуассона.\n",
    "\n",
    "Получается, что __при верности гипотезы о низкой точности стрельбы,__ число попаданий в квадрат имеет распределение Пуассона. Дополнительно будем предполагать, что попадания на разные участки независимы друг от друга.\n",
    "\n",
    "C помощью критерия Пирсона проверьте гипотезу о том, что число попаданий на участок имеет распределение Пуассона. Прежде, чем вычислять статистику, объедините все наблюдения из хвоста в одно по аналогии с лекцией. Хвостом будем считать все наблюдения $\\ge 9$. Получившуюся в результате расчётов статистику запишите в переменную `T`."
   ]
  },
  {
   "cell_type": "markdown",
   "id": "f184ffae",
   "metadata": {},
   "source": [
    "<font color=blue>\n",
    "    \n",
    "Проверим нулевую гипотезу о том, что распределение числа попаданий в один участок (сл. в. $Z$) имеет распределение Пуассона с параметром $\\lambda$, который оценим как среднее по числу участков = 900 наблюдаемых попаданий `z.mean()`. $H_0: Z\\sim Poisson(\\lambda)$. Для этого используем критерий $\\chi^2$ Пирсона: $\\chi^2_{obs}=\\sum_{j=1}^{10} \\frac{(v_j - n \\cdot p_j(\\hat \\theta))^2}{n \\cdot p_j(\\hat \\theta)} \\sim \\chi^2_{10-1-1}=\\chi^2_{8}$   \n",
    "    \n",
    "</font>"
   ]
  },
  {
   "cell_type": "code",
   "execution_count": 62,
   "id": "8eb7ec37",
   "metadata": {
    "deletable": false,
    "id": "8eb7ec37",
    "nbgrader": {
     "cell_type": "code",
     "checksum": "27458dfda82dafb25009a2fa92b137b2",
     "grade": false,
     "grade_id": "cell-ae799b5490316110",
     "locked": false,
     "schema_version": 3,
     "solution": true,
     "task": false
    }
   },
   "outputs": [
    {
     "name": "stdout",
     "output_type": "stream",
     "text": [
      "T = chi2_obs: 2732645.6089991415; p_value: 0.0\n"
     ]
    }
   ],
   "source": [
    "### ╰( ͡° ͜ʖ ͡° )つ▬▬ι═══════  bzzzzzzzzzz\n",
    "# your code below\n",
    "from scipy.stats import poisson\n",
    "\n",
    "\n",
    "# вектор наблюдаемых частот (кол-во участков с ровно k попаданиями k=0,1,2...9) \n",
    "# длины 10 (от 0 до 9); все наблюдения z >= 9 объединены в одно: obs[9] k=9\n",
    "obs = np.array([len(z[z==i]) for i in range(9)] + [len(z[z >=9])])\n",
    "\n",
    "s = len(obs)\n",
    "n = sum(obs)\n",
    "\n",
    "# Оценка параметра lambda\n",
    "lam = z.mean()\n",
    "\n",
    "# Вектор ожидаемых частот (ожидаемое количество участков с ровно \n",
    "# k попаданиями k=0,1,2,...,9 при условии, что всего участков n=len(z)=sum(obs)=900)\n",
    "expected = poisson.pmf(range(10), lam) * n\n",
    "\n",
    "# хи квадрат статистика и p-value\n",
    "T = chi2_obs = np.sum((obs - expected)**2/expected)\n",
    "p_value = 1 - stats.chi2(df=s-2).cdf(chi2_obs)\n",
    "\n",
    "print(f'T = chi2_obs: {chi2_obs}; p_value: {p_value}')\n"
   ]
  },
  {
   "cell_type": "code",
   "execution_count": 63,
   "id": "1c0689a8",
   "metadata": {
    "deletable": false,
    "editable": false,
    "id": "1c0689a8",
    "nbgrader": {
     "cell_type": "code",
     "checksum": "04a992cbb78c1776904005722f0fad09",
     "grade": true,
     "grade_id": "cell-2986a877274d9a7e",
     "locked": true,
     "points": 2,
     "schema_version": 3,
     "solution": false,
     "task": false
    }
   },
   "outputs": [],
   "source": [
    "# проверка того, что задание решено верно\n",
    "assert T > 6000\n"
   ]
  },
  {
   "cell_type": "markdown",
   "id": "1c05a69a",
   "metadata": {
    "id": "1c05a69a"
   },
   "source": [
    "Какой вывод мы можем из этого сделать? Правда ли, что бомбардировка осуществлялась прицельно?"
   ]
  },
  {
   "cell_type": "markdown",
   "id": "090c3155",
   "metadata": {},
   "source": [
    "<font color=blue>\n",
    "    \n",
    "p-value = 0, т.е. нулевую гипотезу можно уверенно отвергнуть. Бомбардировка носила прицельный, а не случайный характер.    \n",
    "    \n",
    "</font>    "
   ]
  },
  {
   "cell_type": "markdown",
   "id": "c6a55ecb",
   "metadata": {
    "id": "c6a55ecb"
   },
   "source": [
    "# Еще больше гипотез"
   ]
  },
  {
   "cell_type": "markdown",
   "id": "0e68622c",
   "metadata": {
    "id": "0e68622c"
   },
   "source": [
    "- Ниже приведены несколько датасетов, их необходимо самостоятельно проанализировать и ответить на определенные вопросы\n",
    "- Для ответа на эти вопросы нужно сделать следующее\n",
    "    - Сделать хорошую визуализацию исследуемых переменных\n",
    "    - Для каждой из задач подобрать **все подходящие** параметрические и непараметрические критерии, проанализировать результаты этих критериев (тут имеет смысл обернуть все критерии в фунцию или словарь - как удобно)\n",
    "- Для каждого набора данных проверьте нормальность выборки и допустимость использования параметрических критериев (можно прокомментировать гистограмму и воспользоваться соответствующими критериями согласия)\n",
    "- Не забудьте оставить краткие комментарии к вашим действиям и сформулировать выводы, которые вы сделали в ходе анализа\n"
   ]
  },
  {
   "cell_type": "markdown",
   "id": "93066746",
   "metadata": {
    "id": "93066746"
   },
   "source": [
    "## Сиэтл\n",
    "В файле seattle.txt записаны цены на недвижимость в одном из районов Сиэтла в 2001 году и в 2002 году (объекты недвижимости выбирались случайно). Изменились ли в среднем цены в этом районе за год?\n"
   ]
  },
  {
   "cell_type": "code",
   "execution_count": 64,
   "id": "37947cdd",
   "metadata": {
    "colab": {
     "base_uri": "https://localhost:8080/",
     "height": 206
    },
    "id": "37947cdd",
    "outputId": "92338f65-a29a-4368-b623-c377d0ad1730"
   },
   "outputs": [
    {
     "data": {
      "text/html": [
       "<div>\n",
       "<style scoped>\n",
       "    .dataframe tbody tr th:only-of-type {\n",
       "        vertical-align: middle;\n",
       "    }\n",
       "\n",
       "    .dataframe tbody tr th {\n",
       "        vertical-align: top;\n",
       "    }\n",
       "\n",
       "    .dataframe thead th {\n",
       "        text-align: right;\n",
       "    }\n",
       "</style>\n",
       "<table border=\"1\" class=\"dataframe\">\n",
       "  <thead>\n",
       "    <tr style=\"text-align: right;\">\n",
       "      <th></th>\n",
       "      <th>Price</th>\n",
       "      <th>Year</th>\n",
       "    </tr>\n",
       "  </thead>\n",
       "  <tbody>\n",
       "    <tr>\n",
       "      <th>0</th>\n",
       "      <td>142.0</td>\n",
       "      <td>2002</td>\n",
       "    </tr>\n",
       "    <tr>\n",
       "      <th>1</th>\n",
       "      <td>232.0</td>\n",
       "      <td>2002</td>\n",
       "    </tr>\n",
       "    <tr>\n",
       "      <th>2</th>\n",
       "      <td>132.5</td>\n",
       "      <td>2002</td>\n",
       "    </tr>\n",
       "    <tr>\n",
       "      <th>3</th>\n",
       "      <td>200.0</td>\n",
       "      <td>2002</td>\n",
       "    </tr>\n",
       "    <tr>\n",
       "      <th>4</th>\n",
       "      <td>362.0</td>\n",
       "      <td>2002</td>\n",
       "    </tr>\n",
       "  </tbody>\n",
       "</table>\n",
       "</div>"
      ],
      "text/plain": [
       "   Price  Year\n",
       "0  142.0  2002\n",
       "1  232.0  2002\n",
       "2  132.5  2002\n",
       "3  200.0  2002\n",
       "4  362.0  2002"
      ]
     },
     "execution_count": 64,
     "metadata": {},
     "output_type": "execute_result"
    }
   ],
   "source": [
    "df = pd.read_csv(ROOT+'seattle.txt', sep='\\t')\n",
    "df.head()\n"
   ]
  },
  {
   "cell_type": "markdown",
   "id": "5b0177cf",
   "metadata": {},
   "source": [
    "<font color=blue>\n",
    "    \n",
    "Поместим цены за 2001 и 2002 годы в вектора `X` и `Y`    \n",
    "    \n",
    "</font>"
   ]
  },
  {
   "cell_type": "code",
   "execution_count": 65,
   "id": "3e7d76ac",
   "metadata": {},
   "outputs": [],
   "source": [
    "X = df[df.Year == 2001].Price.to_numpy()\n",
    "Y = df[df.Year == 2002].Price.to_numpy()"
   ]
  },
  {
   "cell_type": "code",
   "execution_count": 66,
   "id": "7493f382",
   "metadata": {},
   "outputs": [
    {
     "data": {
      "text/plain": [
       "(288.92654000000005, 329.25714)"
      ]
     },
     "execution_count": 66,
     "metadata": {},
     "output_type": "execute_result"
    }
   ],
   "source": [
    "X.mean(), Y.mean()"
   ]
  },
  {
   "cell_type": "markdown",
   "id": "8c273db6",
   "metadata": {},
   "source": [
    "<font color=blue>\n",
    "\n",
    "Выборочные среднее в Y выборке чуть больше чем в X.\n",
    "\n",
    "</font>    "
   ]
  },
  {
   "cell_type": "code",
   "execution_count": 67,
   "id": "8a7a3db5",
   "metadata": {},
   "outputs": [
    {
     "data": {
      "text/plain": [
       "0.52"
      ]
     },
     "execution_count": 67,
     "metadata": {},
     "output_type": "execute_result"
    }
   ],
   "source": [
    "d = Y - X\n",
    "d[d > 0].size/d.size"
   ]
  },
  {
   "cell_type": "markdown",
   "id": "f4b8df84",
   "metadata": {},
   "source": [
    "<font color=blue>\n",
    "\n",
    "Доля случаев, когда цена выросла через год чуть больше половины - 0.52.\n",
    "    \n",
    "</font>"
   ]
  },
  {
   "cell_type": "code",
   "execution_count": 68,
   "id": "5db65ab4",
   "metadata": {},
   "outputs": [
    {
     "name": "stdout",
     "output_type": "stream",
     "text": [
      "26.974999999999994\n"
     ]
    }
   ],
   "source": [
    "print(np.median(Y - X))"
   ]
  },
  {
   "cell_type": "markdown",
   "id": "bbde007c",
   "metadata": {},
   "source": [
    "<font color=blue>\n",
    "\n",
    "Выборочная медиана разницы `Y-X` ожидаемо оказалась > 0\n",
    "\n",
    "</font>"
   ]
  },
  {
   "cell_type": "markdown",
   "id": "b87992c4",
   "metadata": {},
   "source": [
    "<font color=blue>\n",
    "    \n",
    "Проверим выборку `X` на нормальность с помощью теста Колмогорова-Смирнова.\n",
    "    \n",
    "</font>"
   ]
  },
  {
   "cell_type": "code",
   "execution_count": 69,
   "id": "b8b55eca",
   "metadata": {},
   "outputs": [
    {
     "data": {
      "text/plain": [
       "50"
      ]
     },
     "execution_count": 69,
     "metadata": {},
     "output_type": "execute_result"
    }
   ],
   "source": [
    "X.size"
   ]
  },
  {
   "cell_type": "code",
   "execution_count": 70,
   "id": "0e1ab53f",
   "metadata": {
    "scrolled": true
   },
   "outputs": [
    {
     "data": {
      "image/png": "[encoded data removed]",
      "text/plain": [
       "<Figure size 640x480 with 1 Axes>"
      ]
     },
     "metadata": {},
     "output_type": "display_data"
    }
   ],
   "source": [
    "sns.histplot(X, bins=11);"
   ]
  },
  {
   "cell_type": "code",
   "execution_count": 71,
   "id": "5b777e83",
   "metadata": {},
   "outputs": [
    {
     "data": {
      "text/plain": [
       "KstestResult(statistic=0.10199767623856881, pvalue=0.6383920354669088, statistic_location=239.9, statistic_sign=1)"
      ]
     },
     "execution_count": 71,
     "metadata": {},
     "output_type": "execute_result"
    }
   ],
   "source": [
    "mu = X.mean()\n",
    "sigma = X.std(ddof=1)\n",
    "stats.kstest(X, 'norm', args=(mu, sigma))"
   ]
  },
  {
   "cell_type": "markdown",
   "id": "092eb2bf",
   "metadata": {},
   "source": [
    "<font color=blue>\n",
    "    \n",
    "p-value очень высокий, т.е. нулевую гипотезу о нормальности `X` можно уверенно принять.\n",
    "\n",
    "Посмотрим на графике как эмпирическая функция распределения отличается от теоретической.    \n",
    "    \n",
    "</font>"
   ]
  },
  {
   "cell_type": "code",
   "execution_count": 72,
   "id": "ed4932ba",
   "metadata": {},
   "outputs": [
    {
     "data": {
      "image/png": "[encoded data removed]",
      "text/plain": [
       "<Figure size 640x480 with 1 Axes>"
      ]
     },
     "metadata": {},
     "output_type": "display_data"
    }
   ],
   "source": [
    "sns.ecdfplot(X, label='observed');\n",
    "\n",
    "xs = np.arange(0, 1000, 0.1)\n",
    "cdf = stats.norm.cdf(xs, loc=mu, scale=sigma)\n",
    "plt.plot(xs, cdf, label='theoretical')\n",
    "\n",
    "plt.legend();"
   ]
  },
  {
   "cell_type": "markdown",
   "id": "50fa8257",
   "metadata": {},
   "source": [
    "<font color=blue>\n",
    "    \n",
    "Проверим выборку `Y` на нормальность с помощью теста Колмогорова-Смирнова.\n",
    "    \n",
    "</font>"
   ]
  },
  {
   "cell_type": "code",
   "execution_count": 73,
   "id": "bc18ce0a",
   "metadata": {},
   "outputs": [
    {
     "data": {
      "text/plain": [
       "50"
      ]
     },
     "execution_count": 73,
     "metadata": {},
     "output_type": "execute_result"
    }
   ],
   "source": [
    "Y.size"
   ]
  },
  {
   "cell_type": "code",
   "execution_count": 74,
   "id": "c04bacb5",
   "metadata": {},
   "outputs": [
    {
     "data": {
      "image/png": "[encoded data removed]",
      "text/plain": [
       "<Figure size 640x480 with 1 Axes>"
      ]
     },
     "metadata": {},
     "output_type": "display_data"
    }
   ],
   "source": [
    "sns.histplot(Y, bins=11);"
   ]
  },
  {
   "cell_type": "code",
   "execution_count": 75,
   "id": "ff4e0b6a",
   "metadata": {},
   "outputs": [
    {
     "data": {
      "text/plain": [
       "KstestResult(statistic=0.2927691699402488, pvalue=0.000272082474651694, statistic_location=335.0, statistic_sign=1)"
      ]
     },
     "execution_count": 75,
     "metadata": {},
     "output_type": "execute_result"
    }
   ],
   "source": [
    "mu = Y.mean()\n",
    "sigma = Y.std(ddof=1)\n",
    "stats.kstest(Y, 'norm', args=(mu, sigma))"
   ]
  },
  {
   "cell_type": "markdown",
   "id": "bb073677",
   "metadata": {},
   "source": [
    "<font color=blue>\n",
    "    \n",
    "p-value весьма низкий, т.е. нулевую гипотезу о нормальности `Y` можно уверенно отвергнуть.\n",
    "\n",
    "Посмотрим на графике как эмпирическая функция распределения отличается от теоретической.    \n",
    "    \n",
    "</font>"
   ]
  },
  {
   "cell_type": "code",
   "execution_count": 76,
   "id": "98a9874a",
   "metadata": {
    "scrolled": true
   },
   "outputs": [
    {
     "data": {
      "image/png": "[encoded data removed]",
      "text/plain": [
       "<Figure size 640x480 with 1 Axes>"
      ]
     },
     "metadata": {},
     "output_type": "display_data"
    }
   ],
   "source": [
    "sns.ecdfplot(Y, label='observed');\n",
    "\n",
    "xs = np.arange(-10, 1000, 0.1)\n",
    "cdf = stats.norm.cdf(xs, loc=mu, scale=sigma)\n",
    "plt.plot(xs, cdf, label='theoretical')\n",
    "\n",
    "plt.legend();"
   ]
  },
  {
   "cell_type": "markdown",
   "id": "33b5d545",
   "metadata": {},
   "source": [
    "<font color=blue>\n",
    "    \n",
    "Проверим теперь разницу выборок `D = Y - X` на нормальность с помощью теста Колмогорова-Смирнова.\n",
    "    \n",
    "</font>"
   ]
  },
  {
   "cell_type": "code",
   "execution_count": 77,
   "id": "d85586dd",
   "metadata": {},
   "outputs": [
    {
     "data": {
      "image/png": "[encoded data removed]",
      "text/plain": [
       "<Figure size 640x480 with 1 Axes>"
      ]
     },
     "metadata": {},
     "output_type": "display_data"
    }
   ],
   "source": [
    "D = Y - X\n",
    "sns.histplot(D, bins=11);"
   ]
  },
  {
   "cell_type": "code",
   "execution_count": 78,
   "id": "2e7dc174",
   "metadata": {},
   "outputs": [
    {
     "data": {
      "text/plain": [
       "KstestResult(statistic=0.1861049639918254, pvalue=0.05464070848774927, statistic_location=182.28, statistic_sign=1)"
      ]
     },
     "execution_count": 78,
     "metadata": {},
     "output_type": "execute_result"
    }
   ],
   "source": [
    "mu = D.mean()\n",
    "sigma = D.std(ddof=1)\n",
    "stats.kstest(D, 'norm', args=(mu, sigma))"
   ]
  },
  {
   "cell_type": "markdown",
   "id": "6939caae",
   "metadata": {},
   "source": [
    "<font color=blue>\n",
    "    \n",
    "p-value > 0.05, т.е. нулевую гипотезу о нормальности `D` можно принять на уровне значимости $\\alpha=0.05$.\n",
    "\n",
    "Посмотрим на графике как эмпирическая функция распределения отличается от теоретической.    \n",
    "    \n",
    "</font>"
   ]
  },
  {
   "cell_type": "code",
   "execution_count": 79,
   "id": "f9f9b50f",
   "metadata": {
    "scrolled": true
   },
   "outputs": [
    {
     "data": {
      "image/png": "[encoded data removed]",
      "text/plain": [
       "<Figure size 640x480 with 1 Axes>"
      ]
     },
     "metadata": {},
     "output_type": "display_data"
    }
   ],
   "source": [
    "sns.ecdfplot(D, label='observed');\n",
    "\n",
    "xs = np.arange(-500, 1000, 0.1)\n",
    "cdf = stats.norm.cdf(xs, loc=mu, scale=sigma)\n",
    "plt.plot(xs, cdf, label='theoretical')\n",
    "\n",
    "plt.legend();"
   ]
  },
  {
   "cell_type": "markdown",
   "id": "88ac896f",
   "metadata": {},
   "source": [
    "<font color=blue>\n",
    "    \n",
    "Итак мы принимаем, что `D` распределена нормально, проверим нулевую гипотезу, что среднее значение в выборке `D` равно 0: $H_0: \\mu=0$, против двусторонней альтернативы, что $H_a: \\mu \\neq 0$.\n",
    "\n",
    "Для нормальной выборки можно использовать точный t-критерий: $z_{obs}=\\sqrt{n}\\cdot\\frac{\\bar{D}-0}{\\hat{\\sigma}}\\underset{H_0}\\sim t(n-1)$. \n",
    "</font>    "
   ]
  },
  {
   "cell_type": "code",
   "execution_count": 80,
   "id": "09e8b09c",
   "metadata": {},
   "outputs": [
    {
     "name": "stdout",
     "output_type": "stream",
     "text": [
      "z_obs: 0.9055; z_crit: 2.0096; p_value: 0.3697\n"
     ]
    }
   ],
   "source": [
    "n = D.size\n",
    "alpha = 0.05\n",
    "z_obs = np.sqrt(n) * D.mean()/D.std(ddof=1)\n",
    "z_crit = stats.t(n - 1).ppf(1 - alpha/2)\n",
    "p_value = 2 * (1 - stats.t(n-1).cdf(np.abs(z_obs)))\n",
    "\n",
    "print(f'z_obs: {z_obs:.4f}; z_crit: {z_crit:.4f}; p_value: {p_value:.4f}')"
   ]
  },
  {
   "cell_type": "markdown",
   "id": "ca75c42a",
   "metadata": {},
   "source": [
    "<font color=blue>\n",
    "    \n",
    "p-value очень высокий, т.е. нулевая гипотеза о равенстве среднего значения нулю принимается. Таким образом можно сделать вывод, что цены не изменились.     \n",
    "    \n",
    "</font>"
   ]
  },
  {
   "cell_type": "markdown",
   "id": "1027a5f9",
   "metadata": {},
   "source": [
    "<font color=blue>\n",
    "    \n",
    "Другой подход    \n",
    "    \n",
    "</font>    "
   ]
  },
  {
   "cell_type": "markdown",
   "id": "cc8c127d",
   "metadata": {},
   "source": [
    "<font color=blue>\n",
    "    \n",
    "Имеем 2 связанные выборки, т.е. есть смысл применить двухвыборочный критерий знаков и проверить нулевую гипотезу:\n",
    "\n",
    "$H_0\\colon P(Y > X) = P(Y - X > 0) = 0.5$\n",
    "\n",
    "$H_a\\colon P(Y > X) \\ne 0.5$    \n",
    "    \n",
    "</font>    "
   ]
  },
  {
   "cell_type": "code",
   "execution_count": 81,
   "id": "23586ed5",
   "metadata": {},
   "outputs": [
    {
     "name": "stdout",
     "output_type": "stream",
     "text": [
      "1.0 0.887724827340783\n"
     ]
    }
   ],
   "source": [
    "T, pvalue = sign_test(Y-X) # sign_test(x, y)\n",
    "print(T, pvalue)"
   ]
  },
  {
   "cell_type": "markdown",
   "id": "82b6d1ba",
   "metadata": {},
   "source": [
    "<font color=blue>\n",
    "    \n",
    "p-value очень высокий $\\Rightarrow$ нулевая гипотеза принимается и вывод подверждается: цены не изменились.    \n",
    "    \n",
    "</font>    "
   ]
  },
  {
   "cell_type": "markdown",
   "id": "ec09f71d",
   "metadata": {},
   "source": [
    "<font color=blue>\n",
    "    \n",
    "Также для связанных выборок можем применить критерий Уилкоксона (ранговый):\n",
    "    \n",
    "$H_0\\colon Med(X - Y) = 0$\n",
    "\n",
    "$H_a\\colon Med(X - Y) \\ne 0$\n",
    "    \n",
    "</font>    "
   ]
  },
  {
   "cell_type": "code",
   "execution_count": 82,
   "id": "cbc10c33",
   "metadata": {},
   "outputs": [
    {
     "name": "stdout",
     "output_type": "stream",
     "text": [
      "p-value: 0.8109\n"
     ]
    }
   ],
   "source": [
    "print(f'p-value: {stats.wilcoxon(X, Y)[1]:.4f}')"
   ]
  },
  {
   "cell_type": "markdown",
   "id": "93047702",
   "metadata": {},
   "source": [
    "<font color=blue>\n",
    "    \n",
    "p-value снова очень высокий $\\Rightarrow$ нулевая гипотеза принимается и вывод снова подверждается: цены не изменились.    \n",
    "    \n",
    "</font>   "
   ]
  },
  {
   "cell_type": "markdown",
   "id": "54a416b6",
   "metadata": {
    "id": "54a416b6"
   },
   "source": [
    "## Расход топлива\n",
    "В файле mtcars.csv находятся данные из американского журнала Motor Trend 1974 года. Они описывают расход топлива в зависимости от 10 характеристик автомобиля (все автомобили 1973-1974 года). А именно, в данных вы найдете следующие столбцы:\n",
    "1. mpg — расход топлива (миль/галлон);\n",
    "2. cyl — количество цилиндров мотора; 3) disp — объем мотор (куб. дюйм);\n",
    "4. hp — мощность мотора (в лошадиных силах);\n",
    "5. drat — передаточное число редуктора заднего моста;\n",
    "6. wt — вес (тысяч фунтов);\n",
    "7. qsec — время, за которое автомобиль проезжает 1/4 мили;\n",
    "8. vs — тип двигателя (0 = V-образный, 1 = рядный);\n",
    "9. am — тип коробки передач (0 = автоматическая, 1 = ручная);\n",
    "10. gear — количество передних передач; 11) carb — количество карбюраторов.\n",
    "\n"
   ]
  },
  {
   "cell_type": "markdown",
   "id": "437730eb",
   "metadata": {
    "id": "437730eb"
   },
   "source": [
    "- Влияет ли тип двигателя на расход топлива?\n",
    "- А тип коробки передач?\n",
    "- Взаимосвязаны ли тип двигателя и тип коробки передач?"
   ]
  },
  {
   "cell_type": "code",
   "execution_count": 83,
   "id": "f040b433",
   "metadata": {
    "colab": {
     "base_uri": "https://localhost:8080/",
     "height": 206
    },
    "id": "f040b433",
    "outputId": "62a7bf13-eedc-4f64-c64f-cd29bb246e98",
    "scrolled": true
   },
   "outputs": [
    {
     "data": {
      "text/html": [
       "<div>\n",
       "<style scoped>\n",
       "    .dataframe tbody tr th:only-of-type {\n",
       "        vertical-align: middle;\n",
       "    }\n",
       "\n",
       "    .dataframe tbody tr th {\n",
       "        vertical-align: top;\n",
       "    }\n",
       "\n",
       "    .dataframe thead th {\n",
       "        text-align: right;\n",
       "    }\n",
       "</style>\n",
       "<table border=\"1\" class=\"dataframe\">\n",
       "  <thead>\n",
       "    <tr style=\"text-align: right;\">\n",
       "      <th></th>\n",
       "      <th>mpg</th>\n",
       "      <th>cyl</th>\n",
       "      <th>disp</th>\n",
       "      <th>hp</th>\n",
       "      <th>drat</th>\n",
       "      <th>wt</th>\n",
       "      <th>qsec</th>\n",
       "      <th>vs</th>\n",
       "      <th>am</th>\n",
       "      <th>gear</th>\n",
       "      <th>carb</th>\n",
       "    </tr>\n",
       "  </thead>\n",
       "  <tbody>\n",
       "    <tr>\n",
       "      <th>Mazda RX4</th>\n",
       "      <td>21.0</td>\n",
       "      <td>6</td>\n",
       "      <td>160.0</td>\n",
       "      <td>110</td>\n",
       "      <td>3.90</td>\n",
       "      <td>2.620</td>\n",
       "      <td>16.46</td>\n",
       "      <td>0</td>\n",
       "      <td>1</td>\n",
       "      <td>4</td>\n",
       "      <td>4</td>\n",
       "    </tr>\n",
       "    <tr>\n",
       "      <th>Mazda RX4 Wag</th>\n",
       "      <td>21.0</td>\n",
       "      <td>6</td>\n",
       "      <td>160.0</td>\n",
       "      <td>110</td>\n",
       "      <td>3.90</td>\n",
       "      <td>2.875</td>\n",
       "      <td>17.02</td>\n",
       "      <td>0</td>\n",
       "      <td>1</td>\n",
       "      <td>4</td>\n",
       "      <td>4</td>\n",
       "    </tr>\n",
       "    <tr>\n",
       "      <th>Datsun 710</th>\n",
       "      <td>22.8</td>\n",
       "      <td>4</td>\n",
       "      <td>108.0</td>\n",
       "      <td>93</td>\n",
       "      <td>3.85</td>\n",
       "      <td>2.320</td>\n",
       "      <td>18.61</td>\n",
       "      <td>1</td>\n",
       "      <td>1</td>\n",
       "      <td>4</td>\n",
       "      <td>1</td>\n",
       "    </tr>\n",
       "    <tr>\n",
       "      <th>Hornet 4 Drive</th>\n",
       "      <td>21.4</td>\n",
       "      <td>6</td>\n",
       "      <td>258.0</td>\n",
       "      <td>110</td>\n",
       "      <td>3.08</td>\n",
       "      <td>3.215</td>\n",
       "      <td>19.44</td>\n",
       "      <td>1</td>\n",
       "      <td>0</td>\n",
       "      <td>3</td>\n",
       "      <td>1</td>\n",
       "    </tr>\n",
       "    <tr>\n",
       "      <th>Hornet Sportabout</th>\n",
       "      <td>18.7</td>\n",
       "      <td>8</td>\n",
       "      <td>360.0</td>\n",
       "      <td>175</td>\n",
       "      <td>3.15</td>\n",
       "      <td>3.440</td>\n",
       "      <td>17.02</td>\n",
       "      <td>0</td>\n",
       "      <td>0</td>\n",
       "      <td>3</td>\n",
       "      <td>2</td>\n",
       "    </tr>\n",
       "  </tbody>\n",
       "</table>\n",
       "</div>"
      ],
      "text/plain": [
       "                    mpg  cyl   disp   hp  drat     wt   qsec  vs  am  gear  \\\n",
       "Mazda RX4          21.0    6  160.0  110  3.90  2.620  16.46   0   1     4   \n",
       "Mazda RX4 Wag      21.0    6  160.0  110  3.90  2.875  17.02   0   1     4   \n",
       "Datsun 710         22.8    4  108.0   93  3.85  2.320  18.61   1   1     4   \n",
       "Hornet 4 Drive     21.4    6  258.0  110  3.08  3.215  19.44   1   0     3   \n",
       "Hornet Sportabout  18.7    8  360.0  175  3.15  3.440  17.02   0   0     3   \n",
       "\n",
       "                   carb  \n",
       "Mazda RX4             4  \n",
       "Mazda RX4 Wag         4  \n",
       "Datsun 710            1  \n",
       "Hornet 4 Drive        1  \n",
       "Hornet Sportabout     2  "
      ]
     },
     "execution_count": 83,
     "metadata": {},
     "output_type": "execute_result"
    }
   ],
   "source": [
    "df = pd.read_csv(ROOT+'mtcars.csv', index_col=0)\n",
    "df.head()"
   ]
  },
  {
   "cell_type": "markdown",
   "id": "0112b8d2",
   "metadata": {
    "id": "0112b8d2"
   },
   "source": [
    "### vs, mpg"
   ]
  },
  {
   "cell_type": "markdown",
   "id": "7fc83a95",
   "metadata": {},
   "source": [
    "<font color=blue>\n",
    "    \n",
    "Поместим в `X` выборку значений расхода топлива для V-образных двигателей, а в `Y` для рядных.    \n",
    "    \n",
    "</font>    "
   ]
  },
  {
   "cell_type": "code",
   "execution_count": 84,
   "id": "f019e5d6",
   "metadata": {
    "id": "f019e5d6"
   },
   "outputs": [
    {
     "data": {
      "text/plain": [
       "(array([21. , 21. , 18.7, 14.3, 16.4, 17.3, 15.2, 10.4, 10.4, 14.7, 15.5,\n",
       "        15.2, 13.3, 19.2, 26. , 15.8, 19.7, 15. ]),\n",
       " array([22.8, 21.4, 18.1, 24.4, 22.8, 19.2, 17.8, 32.4, 30.4, 33.9, 21.5,\n",
       "        27.3, 30.4, 21.4]))"
      ]
     },
     "execution_count": 84,
     "metadata": {},
     "output_type": "execute_result"
    }
   ],
   "source": [
    "X = df[df.vs == 0].mpg.to_numpy()\n",
    "Y = df[df.vs == 1].mpg.to_numpy()\n",
    "X, Y"
   ]
  },
  {
   "cell_type": "code",
   "execution_count": 85,
   "id": "36038e0d",
   "metadata": {},
   "outputs": [
    {
     "data": {
      "text/plain": [
       "(18, 14)"
      ]
     },
     "execution_count": 85,
     "metadata": {},
     "output_type": "execute_result"
    }
   ],
   "source": [
    "X.size, Y.size"
   ]
  },
  {
   "cell_type": "markdown",
   "id": "91a9e1a0",
   "metadata": {},
   "source": [
    "Проверим выборки на нормальность с помощью теста Колмогорова-Смирнова"
   ]
  },
  {
   "cell_type": "code",
   "execution_count": 86,
   "id": "14c53000",
   "metadata": {},
   "outputs": [
    {
     "data": {
      "image/png": "[encoded data removed]",
      "text/plain": [
       "<Figure size 640x480 with 1 Axes>"
      ]
     },
     "metadata": {},
     "output_type": "display_data"
    }
   ],
   "source": [
    "sns.histplot(X);"
   ]
  },
  {
   "cell_type": "code",
   "execution_count": 87,
   "id": "2644d61b",
   "metadata": {},
   "outputs": [
    {
     "data": {
      "text/plain": [
       "KstestResult(statistic=0.13931999837455317, pvalue=0.8295486124727139, statistic_location=15.8, statistic_sign=1)"
      ]
     },
     "execution_count": 87,
     "metadata": {},
     "output_type": "execute_result"
    }
   ],
   "source": [
    "mu = X.mean()\n",
    "sigma = X.std(ddof=1)\n",
    "stats.kstest(X, 'norm', args=(mu, sigma))"
   ]
  },
  {
   "cell_type": "markdown",
   "id": "63ba7c75",
   "metadata": {},
   "source": [
    "Для X выборки p-value очень высокий $\\Rightarrow$ нулевая гипотеза о нормальности X выборки принимается"
   ]
  },
  {
   "cell_type": "code",
   "execution_count": 88,
   "id": "602e99ad",
   "metadata": {},
   "outputs": [
    {
     "data": {
      "text/plain": [
       "(10.4, 26.0)"
      ]
     },
     "execution_count": 88,
     "metadata": {},
     "output_type": "execute_result"
    }
   ],
   "source": [
    "X.min(), X.max()"
   ]
  },
  {
   "cell_type": "code",
   "execution_count": 89,
   "id": "22c9075f",
   "metadata": {},
   "outputs": [
    {
     "data": {
      "image/png": "[encoded data removed]",
      "text/plain": [
       "<Figure size 640x480 with 1 Axes>"
      ]
     },
     "metadata": {},
     "output_type": "display_data"
    }
   ],
   "source": [
    "sns.ecdfplot(X, label='observed');\n",
    "\n",
    "xs = np.arange(X.min(), X.max(), 0.1)\n",
    "cdf = stats.norm.cdf(xs, loc=mu, scale=sigma)\n",
    "plt.plot(xs, cdf, label='theoretical')\n",
    "\n",
    "plt.legend();"
   ]
  },
  {
   "cell_type": "code",
   "execution_count": 90,
   "id": "c423ecb2",
   "metadata": {},
   "outputs": [
    {
     "data": {
      "image/png": "[encoded data removed]",
      "text/plain": [
       "<Figure size 640x480 with 1 Axes>"
      ]
     },
     "metadata": {},
     "output_type": "display_data"
    }
   ],
   "source": [
    "sns.histplot(Y);"
   ]
  },
  {
   "cell_type": "code",
   "execution_count": 91,
   "id": "02c27b56",
   "metadata": {},
   "outputs": [
    {
     "data": {
      "text/plain": [
       "KstestResult(statistic=0.1994692655963234, pvalue=0.5663604606362261, statistic_location=22.8, statistic_sign=1)"
      ]
     },
     "execution_count": 91,
     "metadata": {},
     "output_type": "execute_result"
    }
   ],
   "source": [
    "mu = Y.mean()\n",
    "sigma = Y.std(ddof=1)\n",
    "stats.kstest(Y, 'norm', args=(mu, sigma))"
   ]
  },
  {
   "cell_type": "markdown",
   "id": "2281c1ca",
   "metadata": {},
   "source": [
    "Для Y выборки p-value тоже очень высокий $\\Rightarrow$ нулевая гипотеза о нормальности Y тоже принимается."
   ]
  },
  {
   "cell_type": "code",
   "execution_count": 92,
   "id": "5bf78bfa",
   "metadata": {
    "scrolled": true
   },
   "outputs": [
    {
     "data": {
      "image/png": "[encoded data removed]",
      "text/plain": [
       "<Figure size 640x480 with 1 Axes>"
      ]
     },
     "metadata": {},
     "output_type": "display_data"
    }
   ],
   "source": [
    "sns.ecdfplot(Y, label='observed');\n",
    "\n",
    "xs = np.arange(Y.min(), Y.max(), 0.1)\n",
    "cdf = stats.norm.cdf(xs, loc=mu, scale=sigma)\n",
    "plt.plot(xs, cdf, label='theoretical')\n",
    "\n",
    "plt.legend();"
   ]
  },
  {
   "cell_type": "code",
   "execution_count": 93,
   "id": "13a680e4",
   "metadata": {},
   "outputs": [
    {
     "data": {
      "text/plain": [
       "(14.904999999999998, 28.933406593406588)"
      ]
     },
     "execution_count": 93,
     "metadata": {},
     "output_type": "execute_result"
    }
   ],
   "source": [
    "X.var(ddof=1), Y.var(ddof=1)"
   ]
  },
  {
   "cell_type": "markdown",
   "id": "a80c401a",
   "metadata": {},
   "source": [
    "Итак имеем нормально распределенные выборки. Считаем, что они независимые. \n",
    "\n",
    "Проверим сначала нулевую гипотезу о равенстве дисперисий в этих выборках против односторонней альтернативы.\n",
    "\n",
    "$$\n",
    "\\begin{aligned}\n",
    "&H_0: \\hspace{2mm} \\sigma^2_x = \\sigma^2_y \\hspace{2mm}\\\\\n",
    "&H_a: \\hspace{2mm} \\sigma^2_x < \\sigma^2_y  \\hspace{2mm}\n",
    "\\end{aligned}\n",
    "$$\n",
    "\n",
    "Распределения нормальные, можем использовать F-статистику.\n",
    "\n",
    "$$\n",
    "F = \\frac{\\hat{\\sigma}_{y}^{2}}{\\hat{\\sigma}_{x}^{2}}\\sim F\\left(n_{y}-1,\\ n_{x}-1\\right)\n",
    "$$"
   ]
  },
  {
   "cell_type": "code",
   "execution_count": 94,
   "id": "1fc14d65",
   "metadata": {},
   "outputs": [
    {
     "name": "stdout",
     "output_type": "stream",
     "text": [
      "F_obs: 1.9412; p-value: 0.0999\n"
     ]
    }
   ],
   "source": [
    "F_obs = Y.var(ddof=1)/X.var(ddof=1)\n",
    "print(f'F_obs: {F_obs:.4f}; p-value: {(1 - stats.f(Y.size - 1, X.size - 1).cdf(F_obs)):.4f}')"
   ]
  },
  {
   "cell_type": "code",
   "execution_count": 95,
   "id": "46493a48",
   "metadata": {},
   "outputs": [
    {
     "data": {
      "text/plain": [
       "(16.616666666666667, 24.557142857142857)"
      ]
     },
     "execution_count": 95,
     "metadata": {},
     "output_type": "execute_result"
    }
   ],
   "source": [
    "X.mean(), Y.mean()"
   ]
  },
  {
   "cell_type": "markdown",
   "id": "417ced8a",
   "metadata": {},
   "source": [
    "p-value > 0.05, т.е. нулевую гипотезу можно принять на уровне значимости 0.05 и далее считаем, что дисперсии равны. Раз дисперсии равны, то можем посчитать тест Стьюдента для проверки нулевой гипотезы о равенстве средних против односторонней альтернативы, что среднее Y выборки больше среднего X выборки:\n",
    "\n",
    "$$\n",
    "t=\\dfrac{\\bar{x}-\\bar{y} }{\\sqrt{\\dfrac{\\hat{\\sigma}^{2}}{n_x}+\\dfrac{\\hat{\\sigma}^{2}}{n_y}}} \\sim t(n_x+n_y-2)\n",
    "$$"
   ]
  },
  {
   "cell_type": "markdown",
   "id": "a9d6024d",
   "metadata": {},
   "source": [
    "где $\\hat{\\sigma}^{2}$ - объединенная дисперсия:\n",
    "$$\n",
    "\\hat{\\sigma}^{2}=\\frac{\\left(n_{x}-1\\right) \\hat{\\sigma}_{x}^{2}+\\left(n_{y}-1\\right) \\hat{\\sigma}_{y}^{2}}{n_{x}+n_{y}-2}\n",
    "$$"
   ]
  },
  {
   "cell_type": "code",
   "execution_count": 96,
   "id": "b0798bdd",
   "metadata": {},
   "outputs": [
    {
     "name": "stdout",
     "output_type": "stream",
     "text": [
      "t_obs: 4.8644; p-value: 0.0000\n"
     ]
    }
   ],
   "source": [
    "n_x = X.size\n",
    "n_y = Y.size\n",
    "\n",
    "var = ((n_x-1)*X.var(ddof=1) + (n_y-1)*Y.var(ddof=1))/(n_x+n_y-2)\n",
    "t_obs = (Y.mean() - X.mean())/np.sqrt(var/n_x + var/n_y)\n",
    "print(f't_obs: {t_obs:.4f}; p-value: {1 - stats.t(n_x + n_y - 2).cdf(t_obs):.4f}')"
   ]
  },
  {
   "cell_type": "markdown",
   "id": "6b23e191",
   "metadata": {},
   "source": [
    "p-value $\\approx$ 0, т.е. нулевую гипотезу смело можно отвергнуть. Т.е. средний расход топлива рядных двигателей значимо выше чем у V-образных"
   ]
  },
  {
   "cell_type": "markdown",
   "id": "711541a8",
   "metadata": {
    "id": "711541a8"
   },
   "source": [
    "### am, mpg"
   ]
  },
  {
   "cell_type": "markdown",
   "id": "88b2659d",
   "metadata": {
    "id": "3d8d2db2"
   },
   "source": [
    "Проделаем такой же анализ для типа коробки передач. В `X` поместим значения для автоматической коробки, а в `Y` для ручной."
   ]
  },
  {
   "cell_type": "code",
   "execution_count": 97,
   "id": "63c38b4a",
   "metadata": {},
   "outputs": [
    {
     "data": {
      "text/plain": [
       "(array([21.4, 18.7, 18.1, 14.3, 24.4, 22.8, 19.2, 17.8, 16.4, 17.3, 15.2,\n",
       "        10.4, 10.4, 14.7, 21.5, 15.5, 15.2, 13.3, 19.2]),\n",
       " array([21. , 21. , 22.8, 32.4, 30.4, 33.9, 27.3, 26. , 30.4, 15.8, 19.7,\n",
       "        15. , 21.4]))"
      ]
     },
     "execution_count": 97,
     "metadata": {},
     "output_type": "execute_result"
    }
   ],
   "source": [
    "X = df[df.am == 0].mpg.to_numpy()\n",
    "Y = df[df.am == 1].mpg.to_numpy()\n",
    "X, Y"
   ]
  },
  {
   "cell_type": "code",
   "execution_count": 98,
   "id": "f1198fef",
   "metadata": {},
   "outputs": [
    {
     "data": {
      "text/plain": [
       "(19, 13)"
      ]
     },
     "execution_count": 98,
     "metadata": {},
     "output_type": "execute_result"
    }
   ],
   "source": [
    "X.size, Y.size"
   ]
  },
  {
   "cell_type": "code",
   "execution_count": 99,
   "id": "bccb1dad",
   "metadata": {},
   "outputs": [
    {
     "data": {
      "image/png": "[encoded data removed]",
      "text/plain": [
       "<Figure size 640x480 with 1 Axes>"
      ]
     },
     "metadata": {},
     "output_type": "display_data"
    }
   ],
   "source": [
    "sns.histplot(X);"
   ]
  },
  {
   "cell_type": "code",
   "execution_count": 100,
   "id": "8f5e5dbc",
   "metadata": {},
   "outputs": [
    {
     "data": {
      "text/plain": [
       "KstestResult(statistic=0.0873374415918009, pvalue=0.9959214411306438, statistic_location=15.5, statistic_sign=1)"
      ]
     },
     "execution_count": 100,
     "metadata": {},
     "output_type": "execute_result"
    }
   ],
   "source": [
    "mu = X.mean()\n",
    "sigma = X.std(ddof=1)\n",
    "stats.kstest(X, 'norm', args=(mu, sigma))"
   ]
  },
  {
   "cell_type": "code",
   "execution_count": 101,
   "id": "1037d804",
   "metadata": {
    "scrolled": true
   },
   "outputs": [
    {
     "data": {
      "image/png": "[encoded data removed]",
      "text/plain": [
       "<Figure size 640x480 with 1 Axes>"
      ]
     },
     "metadata": {},
     "output_type": "display_data"
    }
   ],
   "source": [
    "sns.ecdfplot(X, label='observed');\n",
    "\n",
    "xs = np.arange(X.min(), X.max(), 0.1)\n",
    "cdf = stats.norm.cdf(xs, loc=mu, scale=sigma)\n",
    "plt.plot(xs, cdf, label='theoretical')\n",
    "\n",
    "plt.legend();"
   ]
  },
  {
   "cell_type": "markdown",
   "id": "b2a461d5",
   "metadata": {},
   "source": [
    "p-value очень высокий $\\Rightarrow$ принимаем, что X нормальна"
   ]
  },
  {
   "cell_type": "code",
   "execution_count": 102,
   "id": "c6c5110f",
   "metadata": {
    "scrolled": true
   },
   "outputs": [
    {
     "data": {
      "image/png": "[encoded data removed]",
      "text/plain": [
       "<Figure size 640x480 with 1 Axes>"
      ]
     },
     "metadata": {},
     "output_type": "display_data"
    }
   ],
   "source": [
    "sns.histplot(Y);"
   ]
  },
  {
   "cell_type": "code",
   "execution_count": 103,
   "id": "22de4e8b",
   "metadata": {},
   "outputs": [
    {
     "data": {
      "text/plain": [
       "KstestResult(statistic=0.14778962630894227, pvalue=0.8997844451669572, statistic_location=21.4, statistic_sign=1)"
      ]
     },
     "execution_count": 103,
     "metadata": {},
     "output_type": "execute_result"
    }
   ],
   "source": [
    "mu = Y.mean()\n",
    "sigma = Y.std(ddof=1)\n",
    "stats.kstest(Y, 'norm', args=(mu, sigma))"
   ]
  },
  {
   "cell_type": "code",
   "execution_count": 104,
   "id": "e54c4905",
   "metadata": {
    "scrolled": true
   },
   "outputs": [
    {
     "data": {
      "image/png": "[encoded data removed]",
      "text/plain": [
       "<Figure size 640x480 with 1 Axes>"
      ]
     },
     "metadata": {},
     "output_type": "display_data"
    }
   ],
   "source": [
    "sns.ecdfplot(Y, label='observed');\n",
    "\n",
    "xs = np.arange(Y.min(), Y.max(), 0.1)\n",
    "cdf = stats.norm.cdf(xs, loc=mu, scale=sigma)\n",
    "plt.plot(xs, cdf, label='theoretical')\n",
    "\n",
    "plt.legend();"
   ]
  },
  {
   "cell_type": "markdown",
   "id": "fcecfb7e",
   "metadata": {},
   "source": [
    "Для Y p-value тоже очень высокий $\\Rightarrow$ Принимаем что Y тоже нормальна."
   ]
  },
  {
   "cell_type": "markdown",
   "id": "464d380c",
   "metadata": {},
   "source": [
    "Считаем, что X и Y независимы. Проверим, что дисперсии равны."
   ]
  },
  {
   "cell_type": "code",
   "execution_count": 105,
   "id": "980bcc85",
   "metadata": {},
   "outputs": [
    {
     "data": {
      "text/plain": [
       "(38.02576923076922, 14.699298245614033)"
      ]
     },
     "execution_count": 105,
     "metadata": {},
     "output_type": "execute_result"
    }
   ],
   "source": [
    "Y.var(ddof=1), X.var(ddof=1)"
   ]
  },
  {
   "cell_type": "code",
   "execution_count": 106,
   "id": "e7656c2b",
   "metadata": {},
   "outputs": [
    {
     "name": "stdout",
     "output_type": "stream",
     "text": [
      "F_obs: 2.5869; p-value: 0.0335\n"
     ]
    }
   ],
   "source": [
    "F_obs = Y.var(ddof=1)/X.var(ddof=1)\n",
    "print(f'F_obs: {F_obs:.4f}; p-value: {(1 - stats.f(Y.size - 1, X.size - 1).cdf(F_obs)):.4f}')"
   ]
  },
  {
   "cell_type": "code",
   "execution_count": 107,
   "id": "ac261930",
   "metadata": {},
   "outputs": [
    {
     "data": {
      "text/plain": [
       "(17.147368421052633, 24.39230769230769)"
      ]
     },
     "execution_count": 107,
     "metadata": {},
     "output_type": "execute_result"
    }
   ],
   "source": [
    "X.mean(), Y.mean()"
   ]
  },
  {
   "cell_type": "markdown",
   "id": "64abac86",
   "metadata": {},
   "source": [
    "p-value < 0.05 - нулевую гипотезу отвергаем, считаем далее, что дисперсии не равны и пользуемся тестом Уэлча:\n",
    "\n",
    "$$\n",
    "t=\\dfrac{\\bar{x}-\\bar{y}}{\\sqrt{\\dfrac{\\hat{s}_{x}^{2}}{n_x}+\\dfrac{\\hat{s}_{y}^{2}}{n_y}}} \\sim t(v)\n",
    "$$\n",
    "\n",
    "\n",
    "где $v$ – примерное число степеней свободы:\n",
    "\n",
    "$$\n",
    "v=\\frac{\\left(\\dfrac{\\hat{s}_{x}^{2}}{n_{x}}+\\dfrac{\\hat{s}_{y}^{2}}{n_{y}}\\right)^{2}}{\\dfrac{\\hat{s}_{x}^{4}}{n_{x}^{2}\\left(n_{x}-1\\right)}+\\dfrac{\\hat{s}_{y}^{4}}{n_{y}^{2}\\left(n_{y}-1\\right)}}\n",
    "$$\n"
   ]
  },
  {
   "cell_type": "code",
   "execution_count": 108,
   "id": "dd8f768e",
   "metadata": {},
   "outputs": [
    {
     "name": "stdout",
     "output_type": "stream",
     "text": [
      "t_obs: 3.7671; p-value: 0.0007\n"
     ]
    }
   ],
   "source": [
    "var_x = X.var(ddof=1)\n",
    "var_y = Y.var(ddof=1)\n",
    "n_x = X.size\n",
    "n_y = Y.size\n",
    "nu = (var_x/n_x + var_y/n_y) ** 2 / (var_x ** 2/(n_x ** 2 * (n_x - 1)) + var_y ** 2 / ( n_y ** 2 * (n_y - 1)))\n",
    "t_obs = (Y.mean() - X.mean())/np.sqrt(var_x/n_x+var_y/n_y)\n",
    "p_value = 1 - stats.t(nu).cdf(t_obs)\n",
    "print(f't_obs: {t_obs:.4f}; p-value: {p_value:.4f}')"
   ]
  },
  {
   "cell_type": "markdown",
   "id": "acdeb963",
   "metadata": {},
   "source": [
    "p-value очень маленький $\\Rightarrow$ среднее Y значимо больше среднего X, т.е. в среднем расход топлива у машин с ручной коробкой значимо выше чем с автоматической."
   ]
  },
  {
   "cell_type": "markdown",
   "id": "a913362e",
   "metadata": {
    "id": "a913362e"
   },
   "source": [
    "### vs, am"
   ]
  },
  {
   "cell_type": "markdown",
   "id": "2ae4f850",
   "metadata": {
    "id": "375a5f52"
   },
   "source": [
    "Для определения взаимосвязи между двумя категориальными переменными, такими как тип двигателя и тип коробки передач, можно использовать хи-квадрат тест. Этот тест проверяет нулевую гипотезу о том, что две переменные независимы. Если p-value меньше выбранного уровня значимости (обычно 0.05), то мы отвергаем нулевую гипотезу и приходим к выводу, что переменные взаимосвязаны."
   ]
  },
  {
   "cell_type": "code",
   "execution_count": 109,
   "id": "ac496897",
   "metadata": {},
   "outputs": [
    {
     "name": "stdout",
     "output_type": "stream",
     "text": [
      "p-value: 0.5555\n"
     ]
    }
   ],
   "source": [
    "contingency_table = pd.crosstab(df['vs'], df['am'])\n",
    "chi2, p_value, dof, expected = stats.chi2_contingency(contingency_table)\n",
    "\n",
    "print(f\"p-value: {p_value:.4f}\")"
   ]
  },
  {
   "cell_type": "markdown",
   "id": "972ce84d",
   "metadata": {},
   "source": [
    "p-value весьма велико $\\Rightarrow$ нулевая гипотеза принимается, т.е. связи между коробкой передач и типом двигателя не наблюдается."
   ]
  }
 ],
 "metadata": {
  "colab": {
   "provenance": []
  },
  "kernelspec": {
   "display_name": "Python 3 (ipykernel)",
   "language": "python",
   "name": "python3"
  },
  "language_info": {
   "codemirror_mode": {
    "name": "ipython",
    "version": 3
   },
   "file_extension": ".py",
   "mimetype": "text/x-python",
   "name": "python",
   "nbconvert_exporter": "python",
   "pygments_lexer": "ipython3",
   "version": "3.11.5"
  },
  "toc": {
   "base_numbering": 1,
   "nav_menu": {},
   "number_sections": false,
   "sideBar": true,
   "skip_h1_title": false,
   "title_cell": "Table of Contents",
   "title_sidebar": "Contents",
   "toc_cell": true,
   "toc_position": {},
   "toc_section_display": true,
   "toc_window_display": true
  }
 },
 "nbformat": 4,
 "nbformat_minor": 5
}
